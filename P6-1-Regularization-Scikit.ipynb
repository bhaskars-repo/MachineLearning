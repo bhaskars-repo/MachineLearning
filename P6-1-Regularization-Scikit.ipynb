{
 "cells": [
  {
   "cell_type": "markdown",
   "source": [
    "# Regularization using Scikit-Learn"
   ],
   "metadata": {
    "collapsed": false,
    "pycharm": {
     "name": "#%% md\n"
    }
   }
  },
  {
   "cell_type": "markdown",
   "source": [
    "#### Python Imports"
   ],
   "metadata": {
    "collapsed": false,
    "pycharm": {
     "name": "#%% md\n"
    }
   }
  },
  {
   "cell_type": "code",
   "execution_count": 1,
   "metadata": {
    "collapsed": true,
    "pycharm": {
     "name": "#%%\n"
    }
   },
   "outputs": [],
   "source": [
    "import numpy as np\n",
    "import pandas as pd\n",
    "import matplotlib.pyplot as plt\n",
    "import seaborn as sns\n",
    "from statsmodels.stats.outliers_influence import variance_inflation_factor\n",
    "from sklearn.preprocessing import StandardScaler, PolynomialFeatures\n",
    "from sklearn.model_selection import train_test_split\n",
    "from sklearn.linear_model import LinearRegression, Lasso, Ridge, ElasticNet\n",
    "from sklearn.metrics import mean_squared_error, r2_score"
   ]
  },
  {
   "cell_type": "code",
   "execution_count": 2,
   "outputs": [],
   "source": [
    "%matplotlib inline\n",
    "plt.style.use('seaborn')\n",
    "np.random.seed(101)"
   ],
   "metadata": {
    "collapsed": false,
    "pycharm": {
     "name": "#%%\n"
    }
   }
  },
  {
   "cell_type": "markdown",
   "source": [
    "#### Load the Auto MPG Data Set\n",
    "Source: [UCI Machine Learning Repository - Auto MPG Data Set](https://archive.ics.uci.edu/ml/datasets/Auto+MPG)"
   ],
   "metadata": {
    "collapsed": false,
    "pycharm": {
     "name": "#%% md\n"
    }
   }
  },
  {
   "cell_type": "code",
   "execution_count": 3,
   "outputs": [],
   "source": [
    "url = 'https://archive.ics.uci.edu/ml/machine-learning-databases/auto-mpg/auto-mpg.data'\n",
    "auto_df = pd.read_csv(url, delim_whitespace=True)\n",
    "auto_df.columns = ['mpg', 'cylinders', 'displacement', 'horsepower', 'weight', 'acceleration', 'model_year', 'origin', 'car_name']\n",
    "auto_df.horsepower = pd.to_numeric(auto_df.horsepower, errors='coerce')\n",
    "auto_df.car_name = auto_df.car_name.astype('string')\n",
    "auto_df = auto_df[auto_df.horsepower.notnull()]\n",
    "auto_df = auto_df[['mpg', 'cylinders', 'displacement', 'horsepower', 'weight', 'acceleration']]"
   ],
   "metadata": {
    "collapsed": false,
    "pycharm": {
     "name": "#%%\n"
    }
   }
  },
  {
   "cell_type": "markdown",
   "source": [
    "#### Create the training and test datasets"
   ],
   "metadata": {
    "collapsed": false,
    "pycharm": {
     "name": "#%% md\n"
    }
   }
  },
  {
   "cell_type": "code",
   "execution_count": 4,
   "outputs": [],
   "source": [
    "X_train, X_test, y_train, y_test = train_test_split(auto_df[['mpg', 'acceleration', 'cylinders', 'displacement', 'horsepower', 'weight']], auto_df['mpg'], test_size=0.25, random_state=101)"
   ],
   "metadata": {
    "collapsed": false,
    "pycharm": {
     "name": "#%%\n"
    }
   }
  },
  {
   "cell_type": "markdown",
   "source": [
    "#### Display the first 10 data samples"
   ],
   "metadata": {
    "collapsed": false,
    "pycharm": {
     "name": "#%% md\n"
    }
   }
  },
  {
   "cell_type": "code",
   "execution_count": 5,
   "outputs": [
    {
     "data": {
      "text/plain": "      mpg  acceleration  cylinders  displacement  horsepower  weight\n110  18.0          13.5          3          70.0        90.0  2124.0\n253  20.2          15.8          6         200.0        85.0  2965.0\n16   21.0          16.0          6         200.0        85.0  2587.0\n115  16.0           9.5          8         400.0       230.0  4278.0\n37   14.0          12.0          8         350.0       165.0  4209.0\n313  26.4          18.1          4         140.0        88.0  2870.0\n24   10.0          14.0          8         360.0       215.0  4615.0\n217  36.0          18.6          4          79.0        58.0  1825.0\n170  24.0          13.5          4         134.0        96.0  2702.0\n263  18.1          11.2          8         302.0       139.0  3205.0",
      "text/html": "<div>\n<style scoped>\n    .dataframe tbody tr th:only-of-type {\n        vertical-align: middle;\n    }\n\n    .dataframe tbody tr th {\n        vertical-align: top;\n    }\n\n    .dataframe thead th {\n        text-align: right;\n    }\n</style>\n<table border=\"1\" class=\"dataframe\">\n  <thead>\n    <tr style=\"text-align: right;\">\n      <th></th>\n      <th>mpg</th>\n      <th>acceleration</th>\n      <th>cylinders</th>\n      <th>displacement</th>\n      <th>horsepower</th>\n      <th>weight</th>\n    </tr>\n  </thead>\n  <tbody>\n    <tr>\n      <th>110</th>\n      <td>18.0</td>\n      <td>13.5</td>\n      <td>3</td>\n      <td>70.0</td>\n      <td>90.0</td>\n      <td>2124.0</td>\n    </tr>\n    <tr>\n      <th>253</th>\n      <td>20.2</td>\n      <td>15.8</td>\n      <td>6</td>\n      <td>200.0</td>\n      <td>85.0</td>\n      <td>2965.0</td>\n    </tr>\n    <tr>\n      <th>16</th>\n      <td>21.0</td>\n      <td>16.0</td>\n      <td>6</td>\n      <td>200.0</td>\n      <td>85.0</td>\n      <td>2587.0</td>\n    </tr>\n    <tr>\n      <th>115</th>\n      <td>16.0</td>\n      <td>9.5</td>\n      <td>8</td>\n      <td>400.0</td>\n      <td>230.0</td>\n      <td>4278.0</td>\n    </tr>\n    <tr>\n      <th>37</th>\n      <td>14.0</td>\n      <td>12.0</td>\n      <td>8</td>\n      <td>350.0</td>\n      <td>165.0</td>\n      <td>4209.0</td>\n    </tr>\n    <tr>\n      <th>313</th>\n      <td>26.4</td>\n      <td>18.1</td>\n      <td>4</td>\n      <td>140.0</td>\n      <td>88.0</td>\n      <td>2870.0</td>\n    </tr>\n    <tr>\n      <th>24</th>\n      <td>10.0</td>\n      <td>14.0</td>\n      <td>8</td>\n      <td>360.0</td>\n      <td>215.0</td>\n      <td>4615.0</td>\n    </tr>\n    <tr>\n      <th>217</th>\n      <td>36.0</td>\n      <td>18.6</td>\n      <td>4</td>\n      <td>79.0</td>\n      <td>58.0</td>\n      <td>1825.0</td>\n    </tr>\n    <tr>\n      <th>170</th>\n      <td>24.0</td>\n      <td>13.5</td>\n      <td>4</td>\n      <td>134.0</td>\n      <td>96.0</td>\n      <td>2702.0</td>\n    </tr>\n    <tr>\n      <th>263</th>\n      <td>18.1</td>\n      <td>11.2</td>\n      <td>8</td>\n      <td>302.0</td>\n      <td>139.0</td>\n      <td>3205.0</td>\n    </tr>\n  </tbody>\n</table>\n</div>"
     },
     "execution_count": 5,
     "metadata": {},
     "output_type": "execute_result"
    }
   ],
   "source": [
    "X_train.head(10)"
   ],
   "metadata": {
    "collapsed": false,
    "pycharm": {
     "name": "#%%\n"
    }
   }
  },
  {
   "cell_type": "markdown",
   "source": [
    "#### Scale the training data set"
   ],
   "metadata": {
    "collapsed": false,
    "pycharm": {
     "name": "#%% md\n"
    }
   }
  },
  {
   "cell_type": "code",
   "execution_count": 6,
   "outputs": [],
   "source": [
    "scaler = StandardScaler()\n",
    "s_X_train = pd.DataFrame(scaler.fit_transform(X_train), columns=X_train.columns, index=X_train.index)\n",
    "s_X_test = pd.DataFrame(scaler.fit_transform(X_test), columns=X_test.columns, index=X_test.index)"
   ],
   "metadata": {
    "collapsed": false,
    "pycharm": {
     "name": "#%%\n"
    }
   }
  },
  {
   "cell_type": "code",
   "execution_count": 7,
   "outputs": [
    {
     "data": {
      "text/plain": "     cylinders  displacement  horsepower    weight  acceleration\n110  -1.462438     -1.204887   -0.384843 -1.018358     -0.734233\n253   0.308200      0.046487   -0.514690 -0.032994      0.099605\n16    0.308200      0.046487   -0.514690 -0.475881      0.172113\n115   1.488625      1.971678    3.250867  1.505392     -2.184387\n37    1.488625      1.490380    1.562859  1.424548     -1.278041\n313  -0.872225     -0.531070   -0.436782 -0.144302      0.933444\n24    1.488625      1.586640    2.861327  1.900241     -0.552964\n217  -0.872225     -1.118253   -1.215862 -1.368684      1.114713\n170  -0.872225     -0.588826   -0.229027 -0.341140     -0.734233\n263   1.488625      1.028335    0.887656  0.248203     -1.568072",
      "text/html": "<div>\n<style scoped>\n    .dataframe tbody tr th:only-of-type {\n        vertical-align: middle;\n    }\n\n    .dataframe tbody tr th {\n        vertical-align: top;\n    }\n\n    .dataframe thead th {\n        text-align: right;\n    }\n</style>\n<table border=\"1\" class=\"dataframe\">\n  <thead>\n    <tr style=\"text-align: right;\">\n      <th></th>\n      <th>cylinders</th>\n      <th>displacement</th>\n      <th>horsepower</th>\n      <th>weight</th>\n      <th>acceleration</th>\n    </tr>\n  </thead>\n  <tbody>\n    <tr>\n      <th>110</th>\n      <td>-1.462438</td>\n      <td>-1.204887</td>\n      <td>-0.384843</td>\n      <td>-1.018358</td>\n      <td>-0.734233</td>\n    </tr>\n    <tr>\n      <th>253</th>\n      <td>0.308200</td>\n      <td>0.046487</td>\n      <td>-0.514690</td>\n      <td>-0.032994</td>\n      <td>0.099605</td>\n    </tr>\n    <tr>\n      <th>16</th>\n      <td>0.308200</td>\n      <td>0.046487</td>\n      <td>-0.514690</td>\n      <td>-0.475881</td>\n      <td>0.172113</td>\n    </tr>\n    <tr>\n      <th>115</th>\n      <td>1.488625</td>\n      <td>1.971678</td>\n      <td>3.250867</td>\n      <td>1.505392</td>\n      <td>-2.184387</td>\n    </tr>\n    <tr>\n      <th>37</th>\n      <td>1.488625</td>\n      <td>1.490380</td>\n      <td>1.562859</td>\n      <td>1.424548</td>\n      <td>-1.278041</td>\n    </tr>\n    <tr>\n      <th>313</th>\n      <td>-0.872225</td>\n      <td>-0.531070</td>\n      <td>-0.436782</td>\n      <td>-0.144302</td>\n      <td>0.933444</td>\n    </tr>\n    <tr>\n      <th>24</th>\n      <td>1.488625</td>\n      <td>1.586640</td>\n      <td>2.861327</td>\n      <td>1.900241</td>\n      <td>-0.552964</td>\n    </tr>\n    <tr>\n      <th>217</th>\n      <td>-0.872225</td>\n      <td>-1.118253</td>\n      <td>-1.215862</td>\n      <td>-1.368684</td>\n      <td>1.114713</td>\n    </tr>\n    <tr>\n      <th>170</th>\n      <td>-0.872225</td>\n      <td>-0.588826</td>\n      <td>-0.229027</td>\n      <td>-0.341140</td>\n      <td>-0.734233</td>\n    </tr>\n    <tr>\n      <th>263</th>\n      <td>1.488625</td>\n      <td>1.028335</td>\n      <td>0.887656</td>\n      <td>0.248203</td>\n      <td>-1.568072</td>\n    </tr>\n  </tbody>\n</table>\n</div>"
     },
     "execution_count": 7,
     "metadata": {},
     "output_type": "execute_result"
    }
   ],
   "source": [
    "s_X_train[['cylinders', 'displacement', 'horsepower', 'weight', 'acceleration']].head(10)"
   ],
   "metadata": {
    "collapsed": false,
    "pycharm": {
     "name": "#%%\n"
    }
   }
  },
  {
   "cell_type": "markdown",
   "source": [
    "#### Display the correlation coeffients for the auto mpg data set"
   ],
   "metadata": {
    "collapsed": false,
    "pycharm": {
     "name": "#%% md\n"
    }
   }
  },
  {
   "cell_type": "code",
   "execution_count": 8,
   "outputs": [
    {
     "data": {
      "text/plain": "                   mpg  acceleration  cylinders  displacement  horsepower  \\\nmpg           1.000000      0.389307  -0.773859     -0.802664   -0.774857   \nacceleration  0.389307      1.000000  -0.476832     -0.510230   -0.665085   \ncylinders    -0.773859     -0.476832   1.000000      0.951310    0.846479   \ndisplacement -0.802664     -0.510230   0.951310      1.000000    0.892290   \nhorsepower   -0.774857     -0.665085   0.846479      0.892290    1.000000   \nweight       -0.829133     -0.385941   0.898758      0.939254    0.871462   \n\n                weight  \nmpg          -0.829133  \nacceleration -0.385941  \ncylinders     0.898758  \ndisplacement  0.939254  \nhorsepower    0.871462  \nweight        1.000000  ",
      "text/html": "<div>\n<style scoped>\n    .dataframe tbody tr th:only-of-type {\n        vertical-align: middle;\n    }\n\n    .dataframe tbody tr th {\n        vertical-align: top;\n    }\n\n    .dataframe thead th {\n        text-align: right;\n    }\n</style>\n<table border=\"1\" class=\"dataframe\">\n  <thead>\n    <tr style=\"text-align: right;\">\n      <th></th>\n      <th>mpg</th>\n      <th>acceleration</th>\n      <th>cylinders</th>\n      <th>displacement</th>\n      <th>horsepower</th>\n      <th>weight</th>\n    </tr>\n  </thead>\n  <tbody>\n    <tr>\n      <th>mpg</th>\n      <td>1.000000</td>\n      <td>0.389307</td>\n      <td>-0.773859</td>\n      <td>-0.802664</td>\n      <td>-0.774857</td>\n      <td>-0.829133</td>\n    </tr>\n    <tr>\n      <th>acceleration</th>\n      <td>0.389307</td>\n      <td>1.000000</td>\n      <td>-0.476832</td>\n      <td>-0.510230</td>\n      <td>-0.665085</td>\n      <td>-0.385941</td>\n    </tr>\n    <tr>\n      <th>cylinders</th>\n      <td>-0.773859</td>\n      <td>-0.476832</td>\n      <td>1.000000</td>\n      <td>0.951310</td>\n      <td>0.846479</td>\n      <td>0.898758</td>\n    </tr>\n    <tr>\n      <th>displacement</th>\n      <td>-0.802664</td>\n      <td>-0.510230</td>\n      <td>0.951310</td>\n      <td>1.000000</td>\n      <td>0.892290</td>\n      <td>0.939254</td>\n    </tr>\n    <tr>\n      <th>horsepower</th>\n      <td>-0.774857</td>\n      <td>-0.665085</td>\n      <td>0.846479</td>\n      <td>0.892290</td>\n      <td>1.000000</td>\n      <td>0.871462</td>\n    </tr>\n    <tr>\n      <th>weight</th>\n      <td>-0.829133</td>\n      <td>-0.385941</td>\n      <td>0.898758</td>\n      <td>0.939254</td>\n      <td>0.871462</td>\n      <td>1.000000</td>\n    </tr>\n  </tbody>\n</table>\n</div>"
     },
     "execution_count": 8,
     "metadata": {},
     "output_type": "execute_result"
    }
   ],
   "source": [
    "s_X_train.corr()"
   ],
   "metadata": {
    "collapsed": false,
    "pycharm": {
     "name": "#%%\n"
    }
   }
  },
  {
   "cell_type": "markdown",
   "source": [
    "#### Display the correlation matrix for the auto mpg data set as a heatmap"
   ],
   "metadata": {
    "collapsed": false,
    "pycharm": {
     "name": "#%% md\n"
    }
   }
  },
  {
   "cell_type": "code",
   "execution_count": 9,
   "outputs": [
    {
     "data": {
      "text/plain": "<Figure size 576x396 with 2 Axes>",
      "image/png": "[encoded data removed]"
     },
     "metadata": {},
     "output_type": "display_data"
    }
   ],
   "source": [
    "sns.heatmap(s_X_train.corr(), annot=True, cmap='coolwarm', fmt='0.2f', linewidth=0.5)\n",
    "plt.show()"
   ],
   "metadata": {
    "collapsed": false,
    "pycharm": {
     "name": "#%%\n"
    }
   }
  },
  {
   "cell_type": "markdown",
   "source": [
    "#### Compute and display VIF (drop `acceleration` as it has no strong correlation to `mpg`)"
   ],
   "metadata": {
    "collapsed": false,
    "pycharm": {
     "name": "#%% md\n"
    }
   }
  },
  {
   "cell_type": "code",
   "execution_count": 10,
   "outputs": [
    {
     "data": {
      "text/plain": "   feature_name  vif_value\n0     cylinders  10.559632\n1  displacement  19.482143\n2    horsepower   5.149159\n3        weight   8.928292",
      "text/html": "<div>\n<style scoped>\n    .dataframe tbody tr th:only-of-type {\n        vertical-align: middle;\n    }\n\n    .dataframe tbody tr th {\n        vertical-align: top;\n    }\n\n    .dataframe thead th {\n        text-align: right;\n    }\n</style>\n<table border=\"1\" class=\"dataframe\">\n  <thead>\n    <tr style=\"text-align: right;\">\n      <th></th>\n      <th>feature_name</th>\n      <th>vif_value</th>\n    </tr>\n  </thead>\n  <tbody>\n    <tr>\n      <th>0</th>\n      <td>cylinders</td>\n      <td>10.559632</td>\n    </tr>\n    <tr>\n      <th>1</th>\n      <td>displacement</td>\n      <td>19.482143</td>\n    </tr>\n    <tr>\n      <th>2</th>\n      <td>horsepower</td>\n      <td>5.149159</td>\n    </tr>\n    <tr>\n      <th>3</th>\n      <td>weight</td>\n      <td>8.928292</td>\n    </tr>\n  </tbody>\n</table>\n</div>"
     },
     "execution_count": 10,
     "metadata": {},
     "output_type": "execute_result"
    }
   ],
   "source": [
    "feature_df = s_X_train.drop(['acceleration', 'mpg'], axis=1)\n",
    "vif_df = pd.DataFrame()\n",
    "vif_df['feature_name'] = feature_df.columns\n",
    "vif_df['vif_value'] = [variance_inflation_factor(feature_df.values, i) for i in range(len(feature_df.columns))]\n",
    "vif_df"
   ],
   "metadata": {
    "collapsed": false,
    "pycharm": {
     "name": "#%%\n"
    }
   }
  },
  {
   "cell_type": "markdown",
   "source": [
    "#### Drop `displacement` as it has a high VIF"
   ],
   "metadata": {
    "collapsed": false,
    "pycharm": {
     "name": "#%% md\n"
    }
   }
  },
  {
   "cell_type": "code",
   "execution_count": 11,
   "outputs": [
    {
     "data": {
      "text/plain": "  feature_name  vif_value\n0    cylinders   5.694548\n1   horsepower   4.550720\n2       weight   6.710584",
      "text/html": "<div>\n<style scoped>\n    .dataframe tbody tr th:only-of-type {\n        vertical-align: middle;\n    }\n\n    .dataframe tbody tr th {\n        vertical-align: top;\n    }\n\n    .dataframe thead th {\n        text-align: right;\n    }\n</style>\n<table border=\"1\" class=\"dataframe\">\n  <thead>\n    <tr style=\"text-align: right;\">\n      <th></th>\n      <th>feature_name</th>\n      <th>vif_value</th>\n    </tr>\n  </thead>\n  <tbody>\n    <tr>\n      <th>0</th>\n      <td>cylinders</td>\n      <td>5.694548</td>\n    </tr>\n    <tr>\n      <th>1</th>\n      <td>horsepower</td>\n      <td>4.550720</td>\n    </tr>\n    <tr>\n      <th>2</th>\n      <td>weight</td>\n      <td>6.710584</td>\n    </tr>\n  </tbody>\n</table>\n</div>"
     },
     "execution_count": 11,
     "metadata": {},
     "output_type": "execute_result"
    }
   ],
   "source": [
    "feature_df = feature_df.drop('displacement', axis=1)\n",
    "vif_df = pd.DataFrame()\n",
    "vif_df['feature_name'] = feature_df.columns\n",
    "vif_df['vif_value'] = [variance_inflation_factor(feature_df.values, i) for i in range(len(feature_df.columns))]\n",
    "vif_df"
   ],
   "metadata": {
    "collapsed": false,
    "pycharm": {
     "name": "#%%\n"
    }
   }
  },
  {
   "cell_type": "markdown",
   "source": [
    "#### Adjust the training and test datasets"
   ],
   "metadata": {
    "collapsed": false,
    "pycharm": {
     "name": "#%% md\n"
    }
   }
  },
  {
   "cell_type": "code",
   "execution_count": 12,
   "outputs": [],
   "source": [
    "X_train_f = X_train.drop(['mpg', 'acceleration', 'displacement'], axis=1)\n",
    "X_test_f = X_test.drop(['mpg', 'acceleration', 'displacement'], axis=1)"
   ],
   "metadata": {
    "collapsed": false,
    "pycharm": {
     "name": "#%%\n"
    }
   }
  },
  {
   "cell_type": "markdown",
   "source": [
    "#### Initialize and fit the Linear Regression model"
   ],
   "metadata": {
    "collapsed": false,
    "pycharm": {
     "name": "#%% md\n"
    }
   }
  },
  {
   "cell_type": "code",
   "execution_count": 13,
   "outputs": [
    {
     "data": {
      "text/plain": "LinearRegression()"
     },
     "execution_count": 13,
     "metadata": {},
     "output_type": "execute_result"
    }
   ],
   "source": [
    "model = LinearRegression(fit_intercept=True)\n",
    "model.fit(X_train_f, y_train)"
   ],
   "metadata": {
    "collapsed": false,
    "pycharm": {
     "name": "#%%\n"
    }
   }
  },
  {
   "cell_type": "markdown",
   "source": [
    "#### Predict outcomes using the test data"
   ],
   "metadata": {
    "collapsed": false,
    "pycharm": {
     "name": "#%% md\n"
    }
   }
  },
  {
   "cell_type": "code",
   "execution_count": 14,
   "outputs": [],
   "source": [
    "y_predict = model.predict(X_test_f)"
   ],
   "metadata": {
    "collapsed": false,
    "pycharm": {
     "name": "#%%\n"
    }
   }
  },
  {
   "cell_type": "markdown",
   "source": [
    "#### Display RMSE value"
   ],
   "metadata": {
    "collapsed": false,
    "pycharm": {
     "name": "#%% md\n"
    }
   }
  },
  {
   "cell_type": "code",
   "execution_count": 15,
   "outputs": [
    {
     "data": {
      "text/plain": "3.8107197595405595"
     },
     "execution_count": 15,
     "metadata": {},
     "output_type": "execute_result"
    }
   ],
   "source": [
    "np.sqrt(mean_squared_error(y_test, y_predict))"
   ],
   "metadata": {
    "collapsed": false,
    "pycharm": {
     "name": "#%%\n"
    }
   }
  },
  {
   "cell_type": "markdown",
   "source": [
    "#### Display R-Squared value"
   ],
   "metadata": {
    "collapsed": false,
    "pycharm": {
     "name": "#%% md\n"
    }
   }
  },
  {
   "cell_type": "code",
   "execution_count": 16,
   "outputs": [
    {
     "data": {
      "text/plain": "0.7311218030071677"
     },
     "execution_count": 16,
     "metadata": {},
     "output_type": "execute_result"
    }
   ],
   "source": [
    "r2_score(y_test, y_predict)"
   ],
   "metadata": {
    "collapsed": false,
    "pycharm": {
     "name": "#%%\n"
    }
   }
  },
  {
   "cell_type": "markdown",
   "source": [
    "#### Initialize a 3rd degree Polynomial features"
   ],
   "metadata": {
    "collapsed": false,
    "pycharm": {
     "name": "#%% md\n"
    }
   }
  },
  {
   "cell_type": "code",
   "execution_count": 17,
   "outputs": [
    {
     "data": {
      "text/plain": "(293, 20)"
     },
     "execution_count": 17,
     "metadata": {},
     "output_type": "execute_result"
    }
   ],
   "source": [
    "transformer = PolynomialFeatures(degree=3, include_bias=True)\n",
    "s_X_train_f = s_X_train[['cylinders', 'horsepower', 'weight']]\n",
    "s_X_test_f = s_X_test[['cylinders', 'horsepower', 'weight']]\n",
    "X_p_train_f = transformer.fit_transform(s_X_train_f)\n",
    "X_p_test_f = transformer.fit_transform(s_X_test_f)\n",
    "X_p_train_f.shape"
   ],
   "metadata": {
    "collapsed": false,
    "pycharm": {
     "name": "#%%\n"
    }
   }
  },
  {
   "cell_type": "markdown",
   "source": [
    "#### Initialize and fit the Polynomial Regression model"
   ],
   "metadata": {
    "collapsed": false,
    "pycharm": {
     "name": "#%% md\n"
    }
   }
  },
  {
   "cell_type": "code",
   "execution_count": 18,
   "outputs": [
    {
     "data": {
      "text/plain": "LinearRegression()"
     },
     "execution_count": 18,
     "metadata": {},
     "output_type": "execute_result"
    }
   ],
   "source": [
    "p3_model = LinearRegression()\n",
    "p3_model.fit(X_p_train_f, y_train)"
   ],
   "metadata": {
    "collapsed": false,
    "pycharm": {
     "name": "#%%\n"
    }
   }
  },
  {
   "cell_type": "markdown",
   "source": [
    "#### Predict outcomes using the test data"
   ],
   "metadata": {
    "collapsed": false,
    "pycharm": {
     "name": "#%% md\n"
    }
   }
  },
  {
   "cell_type": "code",
   "execution_count": 19,
   "outputs": [],
   "source": [
    "y_predict = p3_model.predict(X_p_test_f)"
   ],
   "metadata": {
    "collapsed": false,
    "pycharm": {
     "name": "#%%\n"
    }
   }
  },
  {
   "cell_type": "markdown",
   "source": [
    "#### Display R-Squared value"
   ],
   "metadata": {
    "collapsed": false,
    "pycharm": {
     "name": "#%% md\n"
    }
   }
  },
  {
   "cell_type": "code",
   "execution_count": 20,
   "outputs": [
    {
     "data": {
      "text/plain": "0.5786089868597359"
     },
     "execution_count": 20,
     "metadata": {},
     "output_type": "execute_result"
    }
   ],
   "source": [
    "r2_score(y_test, y_predict)"
   ],
   "metadata": {
    "collapsed": false,
    "pycharm": {
     "name": "#%%\n"
    }
   }
  },
  {
   "cell_type": "markdown",
   "source": [
    "#### Convenience method to return a dictionary of values"
   ],
   "metadata": {
    "collapsed": false,
    "pycharm": {
     "name": "#%% md\n"
    }
   }
  },
  {
   "cell_type": "code",
   "execution_count": 21,
   "outputs": [],
   "source": [
    "def to_dict(al, sr, r2):\n",
    "    dc = {'alpha': al}\n",
    "    for i in range(len(sr)):\n",
    "        k = \"w%02d\" % i\n",
    "        if abs(sr[i]) == 0.00:\n",
    "            dc[k] = 0.0\n",
    "        else:\n",
    "            dc[k] = sr[i]\n",
    "    dc['R2'] = r2\n",
    "    return dc"
   ],
   "metadata": {
    "collapsed": false,
    "pycharm": {
     "name": "#%%\n"
    }
   }
  },
  {
   "cell_type": "markdown",
   "source": [
    "#### LASSO Regression"
   ],
   "metadata": {
    "collapsed": false,
    "pycharm": {
     "name": "#%% md\n"
    }
   }
  },
  {
   "cell_type": "code",
   "execution_count": 22,
   "outputs": [
    {
     "data": {
      "text/plain": "    alpha   w00    w01    w02    w03    w04   w05   w06   w07    w08  ...  \\\n0   0.010 0.000 -2.795  0.000 -4.986 -0.739 0.000 0.057 3.591 -0.650  ...   \n1   0.500 0.000 -0.269 -1.309 -4.092  0.000 0.000 0.000 0.839  0.611  ...   \n2   1.000 0.000 -0.248 -0.363 -4.410  0.000 0.000 0.000 0.000  0.000  ...   \n3   5.000 0.000  0.000  0.000  0.000  0.000 0.000 0.000 0.000  0.000  ...   \n4  10.000 0.000  0.000  0.000  0.000  0.000 0.000 0.000 0.000  0.000  ...   \n5  20.000 0.000  0.000  0.000  0.000  0.000 0.000 0.000 0.000  0.000  ...   \n6  50.000 0.000  0.000  0.000  0.000  0.000 0.000 0.000 0.000  0.000  ...   \n7 100.000 0.000  0.000  0.000  0.000  0.000 0.000 0.000 0.000  0.000  ...   \n\n     w11   w12    w13   w14   w15    w16   w17   w18    w19     R2  \n0 -2.213 1.714 -1.913 0.000 0.000  0.090 0.000 0.354 -0.155  0.732  \n1 -0.570 0.000 -0.423 0.000 0.000  0.000 0.000 0.000  0.000  0.755  \n2 -0.431 0.000  0.000 0.000 0.000  0.000 0.000 0.000  0.000  0.714  \n3  0.000 0.000  0.000 0.000 0.000 -0.183 0.000 0.000 -0.839  0.427  \n4  0.000 0.000  0.000 0.000 0.000 -0.234 0.000 0.000 -0.220  0.197  \n5  0.000 0.000  0.000 0.000 0.000  0.000 0.000 0.000  0.000 -0.000  \n6  0.000 0.000  0.000 0.000 0.000  0.000 0.000 0.000  0.000 -0.000  \n7  0.000 0.000  0.000 0.000 0.000  0.000 0.000 0.000  0.000 -0.000  \n\n[8 rows x 22 columns]",
      "text/html": "<div>\n<style scoped>\n    .dataframe tbody tr th:only-of-type {\n        vertical-align: middle;\n    }\n\n    .dataframe tbody tr th {\n        vertical-align: top;\n    }\n\n    .dataframe thead th {\n        text-align: right;\n    }\n</style>\n<table border=\"1\" class=\"dataframe\">\n  <thead>\n    <tr style=\"text-align: right;\">\n      <th></th>\n      <th>alpha</th>\n      <th>w00</th>\n      <th>w01</th>\n      <th>w02</th>\n      <th>w03</th>\n      <th>w04</th>\n      <th>w05</th>\n      <th>w06</th>\n      <th>w07</th>\n      <th>w08</th>\n      <th>...</th>\n      <th>w11</th>\n      <th>w12</th>\n      <th>w13</th>\n      <th>w14</th>\n      <th>w15</th>\n      <th>w16</th>\n      <th>w17</th>\n      <th>w18</th>\n      <th>w19</th>\n      <th>R2</th>\n    </tr>\n  </thead>\n  <tbody>\n    <tr>\n      <th>0</th>\n      <td>0.010</td>\n      <td>0.000</td>\n      <td>-2.795</td>\n      <td>0.000</td>\n      <td>-4.986</td>\n      <td>-0.739</td>\n      <td>0.000</td>\n      <td>0.057</td>\n      <td>3.591</td>\n      <td>-0.650</td>\n      <td>...</td>\n      <td>-2.213</td>\n      <td>1.714</td>\n      <td>-1.913</td>\n      <td>0.000</td>\n      <td>0.000</td>\n      <td>0.090</td>\n      <td>0.000</td>\n      <td>0.354</td>\n      <td>-0.155</td>\n      <td>0.732</td>\n    </tr>\n    <tr>\n      <th>1</th>\n      <td>0.500</td>\n      <td>0.000</td>\n      <td>-0.269</td>\n      <td>-1.309</td>\n      <td>-4.092</td>\n      <td>0.000</td>\n      <td>0.000</td>\n      <td>0.000</td>\n      <td>0.839</td>\n      <td>0.611</td>\n      <td>...</td>\n      <td>-0.570</td>\n      <td>0.000</td>\n      <td>-0.423</td>\n      <td>0.000</td>\n      <td>0.000</td>\n      <td>0.000</td>\n      <td>0.000</td>\n      <td>0.000</td>\n      <td>0.000</td>\n      <td>0.755</td>\n    </tr>\n    <tr>\n      <th>2</th>\n      <td>1.000</td>\n      <td>0.000</td>\n      <td>-0.248</td>\n      <td>-0.363</td>\n      <td>-4.410</td>\n      <td>0.000</td>\n      <td>0.000</td>\n      <td>0.000</td>\n      <td>0.000</td>\n      <td>0.000</td>\n      <td>...</td>\n      <td>-0.431</td>\n      <td>0.000</td>\n      <td>0.000</td>\n      <td>0.000</td>\n      <td>0.000</td>\n      <td>0.000</td>\n      <td>0.000</td>\n      <td>0.000</td>\n      <td>0.000</td>\n      <td>0.714</td>\n    </tr>\n    <tr>\n      <th>3</th>\n      <td>5.000</td>\n      <td>0.000</td>\n      <td>0.000</td>\n      <td>0.000</td>\n      <td>0.000</td>\n      <td>0.000</td>\n      <td>0.000</td>\n      <td>0.000</td>\n      <td>0.000</td>\n      <td>0.000</td>\n      <td>...</td>\n      <td>0.000</td>\n      <td>0.000</td>\n      <td>0.000</td>\n      <td>0.000</td>\n      <td>0.000</td>\n      <td>-0.183</td>\n      <td>0.000</td>\n      <td>0.000</td>\n      <td>-0.839</td>\n      <td>0.427</td>\n    </tr>\n    <tr>\n      <th>4</th>\n      <td>10.000</td>\n      <td>0.000</td>\n      <td>0.000</td>\n      <td>0.000</td>\n      <td>0.000</td>\n      <td>0.000</td>\n      <td>0.000</td>\n      <td>0.000</td>\n      <td>0.000</td>\n      <td>0.000</td>\n      <td>...</td>\n      <td>0.000</td>\n      <td>0.000</td>\n      <td>0.000</td>\n      <td>0.000</td>\n      <td>0.000</td>\n      <td>-0.234</td>\n      <td>0.000</td>\n      <td>0.000</td>\n      <td>-0.220</td>\n      <td>0.197</td>\n    </tr>\n    <tr>\n      <th>5</th>\n      <td>20.000</td>\n      <td>0.000</td>\n      <td>0.000</td>\n      <td>0.000</td>\n      <td>0.000</td>\n      <td>0.000</td>\n      <td>0.000</td>\n      <td>0.000</td>\n      <td>0.000</td>\n      <td>0.000</td>\n      <td>...</td>\n      <td>0.000</td>\n      <td>0.000</td>\n      <td>0.000</td>\n      <td>0.000</td>\n      <td>0.000</td>\n      <td>0.000</td>\n      <td>0.000</td>\n      <td>0.000</td>\n      <td>0.000</td>\n      <td>-0.000</td>\n    </tr>\n    <tr>\n      <th>6</th>\n      <td>50.000</td>\n      <td>0.000</td>\n      <td>0.000</td>\n      <td>0.000</td>\n      <td>0.000</td>\n      <td>0.000</td>\n      <td>0.000</td>\n      <td>0.000</td>\n      <td>0.000</td>\n      <td>0.000</td>\n      <td>...</td>\n      <td>0.000</td>\n      <td>0.000</td>\n      <td>0.000</td>\n      <td>0.000</td>\n      <td>0.000</td>\n      <td>0.000</td>\n      <td>0.000</td>\n      <td>0.000</td>\n      <td>0.000</td>\n      <td>-0.000</td>\n    </tr>\n    <tr>\n      <th>7</th>\n      <td>100.000</td>\n      <td>0.000</td>\n      <td>0.000</td>\n      <td>0.000</td>\n      <td>0.000</td>\n      <td>0.000</td>\n      <td>0.000</td>\n      <td>0.000</td>\n      <td>0.000</td>\n      <td>0.000</td>\n      <td>...</td>\n      <td>0.000</td>\n      <td>0.000</td>\n      <td>0.000</td>\n      <td>0.000</td>\n      <td>0.000</td>\n      <td>0.000</td>\n      <td>0.000</td>\n      <td>0.000</td>\n      <td>0.000</td>\n      <td>-0.000</td>\n    </tr>\n  </tbody>\n</table>\n<p>8 rows × 22 columns</p>\n</div>"
     },
     "metadata": {},
     "output_type": "display_data"
    }
   ],
   "source": [
    "rows = []\n",
    "for val in [0.01, 0.5, 1.0, 5.0, 10.0, 20.0, 50.0, 100.0]:\n",
    "    lasso = Lasso(alpha=val)\n",
    "    lasso.fit(X_p_train_f, y_train)\n",
    "    y_predict = lasso.predict(X_p_test_f)\n",
    "    rows.append(to_dict(val, lasso.coef_, r2_score(y_test, y_predict)))\n",
    "lasso_df = pd.DataFrame.from_dict(rows)\n",
    "with pd.option_context('display.float_format', '{:0.3f}'.format):\n",
    "    display(lasso_df)"
   ],
   "metadata": {
    "collapsed": false,
    "pycharm": {
     "name": "#%%\n"
    }
   }
  },
  {
   "cell_type": "markdown",
   "source": [
    "#### Ridge Regression"
   ],
   "metadata": {
    "collapsed": false,
    "pycharm": {
     "name": "#%% md\n"
    }
   }
  },
  {
   "cell_type": "code",
   "execution_count": 23,
   "outputs": [
    {
     "data": {
      "text/plain": "    alpha   w00    w01    w02    w03    w04   w05   w06   w07    w08  ...  \\\n0   0.010 0.000 -2.719 -0.090 -5.129 -1.671 0.819 1.345 4.828 -3.729  ...   \n1   0.500 0.000 -2.799 -0.182 -4.890 -1.378 0.607 1.034 4.140 -2.318  ...   \n2   1.000 0.000 -2.755 -0.354 -4.693 -1.191 0.578 0.820 3.715 -1.613  ...   \n3   5.000 0.000 -2.269 -1.075 -3.739 -0.547 0.706 0.318 2.468  0.064  ...   \n4  10.000 0.000 -1.922 -1.300 -3.116 -0.253 0.781 0.254 2.027  0.524  ...   \n5  20.000 0.000 -1.575 -1.351 -2.458 -0.025 0.801 0.286 1.692  0.786  ...   \n6  50.000 0.000 -1.201 -1.185 -1.709  0.113 0.729 0.379 1.334  0.913  ...   \n7 100.000 0.000 -0.995 -0.976 -1.295  0.117 0.624 0.419 1.084  0.892  ...   \n\n     w11    w12    w13    w14    w15   w16    w17    w18    w19    R2  \n0 -2.068  4.792 -1.978 -1.690 -2.605 0.738 -2.783  5.118 -0.982 0.585  \n1 -2.150  2.741 -2.162 -0.461 -1.031 0.503 -1.459  2.727 -0.684 0.696  \n2 -2.096  2.094 -2.088 -0.266 -0.518 0.410 -0.984  1.926 -0.570 0.720  \n3 -1.795  0.947 -1.599 -0.319  0.074 0.256 -0.277  0.710 -0.333 0.745  \n4 -1.626  0.540 -1.357 -0.409  0.043 0.204 -0.138  0.446 -0.256 0.748  \n5 -1.431  0.178 -1.126 -0.471 -0.073 0.148 -0.060  0.256 -0.210 0.747  \n6 -1.134 -0.176 -0.838 -0.477 -0.232 0.081 -0.036  0.064 -0.213 0.744  \n7 -0.912 -0.333 -0.647 -0.437 -0.309 0.048 -0.052 -0.040 -0.246 0.740  \n\n[8 rows x 22 columns]",
      "text/html": "<div>\n<style scoped>\n    .dataframe tbody tr th:only-of-type {\n        vertical-align: middle;\n    }\n\n    .dataframe tbody tr th {\n        vertical-align: top;\n    }\n\n    .dataframe thead th {\n        text-align: right;\n    }\n</style>\n<table border=\"1\" class=\"dataframe\">\n  <thead>\n    <tr style=\"text-align: right;\">\n      <th></th>\n      <th>alpha</th>\n      <th>w00</th>\n      <th>w01</th>\n      <th>w02</th>\n      <th>w03</th>\n      <th>w04</th>\n      <th>w05</th>\n      <th>w06</th>\n      <th>w07</th>\n      <th>w08</th>\n      <th>...</th>\n      <th>w11</th>\n      <th>w12</th>\n      <th>w13</th>\n      <th>w14</th>\n      <th>w15</th>\n      <th>w16</th>\n      <th>w17</th>\n      <th>w18</th>\n      <th>w19</th>\n      <th>R2</th>\n    </tr>\n  </thead>\n  <tbody>\n    <tr>\n      <th>0</th>\n      <td>0.010</td>\n      <td>0.000</td>\n      <td>-2.719</td>\n      <td>-0.090</td>\n      <td>-5.129</td>\n      <td>-1.671</td>\n      <td>0.819</td>\n      <td>1.345</td>\n      <td>4.828</td>\n      <td>-3.729</td>\n      <td>...</td>\n      <td>-2.068</td>\n      <td>4.792</td>\n      <td>-1.978</td>\n      <td>-1.690</td>\n      <td>-2.605</td>\n      <td>0.738</td>\n      <td>-2.783</td>\n      <td>5.118</td>\n      <td>-0.982</td>\n      <td>0.585</td>\n    </tr>\n    <tr>\n      <th>1</th>\n      <td>0.500</td>\n      <td>0.000</td>\n      <td>-2.799</td>\n      <td>-0.182</td>\n      <td>-4.890</td>\n      <td>-1.378</td>\n      <td>0.607</td>\n      <td>1.034</td>\n      <td>4.140</td>\n      <td>-2.318</td>\n      <td>...</td>\n      <td>-2.150</td>\n      <td>2.741</td>\n      <td>-2.162</td>\n      <td>-0.461</td>\n      <td>-1.031</td>\n      <td>0.503</td>\n      <td>-1.459</td>\n      <td>2.727</td>\n      <td>-0.684</td>\n      <td>0.696</td>\n    </tr>\n    <tr>\n      <th>2</th>\n      <td>1.000</td>\n      <td>0.000</td>\n      <td>-2.755</td>\n      <td>-0.354</td>\n      <td>-4.693</td>\n      <td>-1.191</td>\n      <td>0.578</td>\n      <td>0.820</td>\n      <td>3.715</td>\n      <td>-1.613</td>\n      <td>...</td>\n      <td>-2.096</td>\n      <td>2.094</td>\n      <td>-2.088</td>\n      <td>-0.266</td>\n      <td>-0.518</td>\n      <td>0.410</td>\n      <td>-0.984</td>\n      <td>1.926</td>\n      <td>-0.570</td>\n      <td>0.720</td>\n    </tr>\n    <tr>\n      <th>3</th>\n      <td>5.000</td>\n      <td>0.000</td>\n      <td>-2.269</td>\n      <td>-1.075</td>\n      <td>-3.739</td>\n      <td>-0.547</td>\n      <td>0.706</td>\n      <td>0.318</td>\n      <td>2.468</td>\n      <td>0.064</td>\n      <td>...</td>\n      <td>-1.795</td>\n      <td>0.947</td>\n      <td>-1.599</td>\n      <td>-0.319</td>\n      <td>0.074</td>\n      <td>0.256</td>\n      <td>-0.277</td>\n      <td>0.710</td>\n      <td>-0.333</td>\n      <td>0.745</td>\n    </tr>\n    <tr>\n      <th>4</th>\n      <td>10.000</td>\n      <td>0.000</td>\n      <td>-1.922</td>\n      <td>-1.300</td>\n      <td>-3.116</td>\n      <td>-0.253</td>\n      <td>0.781</td>\n      <td>0.254</td>\n      <td>2.027</td>\n      <td>0.524</td>\n      <td>...</td>\n      <td>-1.626</td>\n      <td>0.540</td>\n      <td>-1.357</td>\n      <td>-0.409</td>\n      <td>0.043</td>\n      <td>0.204</td>\n      <td>-0.138</td>\n      <td>0.446</td>\n      <td>-0.256</td>\n      <td>0.748</td>\n    </tr>\n    <tr>\n      <th>5</th>\n      <td>20.000</td>\n      <td>0.000</td>\n      <td>-1.575</td>\n      <td>-1.351</td>\n      <td>-2.458</td>\n      <td>-0.025</td>\n      <td>0.801</td>\n      <td>0.286</td>\n      <td>1.692</td>\n      <td>0.786</td>\n      <td>...</td>\n      <td>-1.431</td>\n      <td>0.178</td>\n      <td>-1.126</td>\n      <td>-0.471</td>\n      <td>-0.073</td>\n      <td>0.148</td>\n      <td>-0.060</td>\n      <td>0.256</td>\n      <td>-0.210</td>\n      <td>0.747</td>\n    </tr>\n    <tr>\n      <th>6</th>\n      <td>50.000</td>\n      <td>0.000</td>\n      <td>-1.201</td>\n      <td>-1.185</td>\n      <td>-1.709</td>\n      <td>0.113</td>\n      <td>0.729</td>\n      <td>0.379</td>\n      <td>1.334</td>\n      <td>0.913</td>\n      <td>...</td>\n      <td>-1.134</td>\n      <td>-0.176</td>\n      <td>-0.838</td>\n      <td>-0.477</td>\n      <td>-0.232</td>\n      <td>0.081</td>\n      <td>-0.036</td>\n      <td>0.064</td>\n      <td>-0.213</td>\n      <td>0.744</td>\n    </tr>\n    <tr>\n      <th>7</th>\n      <td>100.000</td>\n      <td>0.000</td>\n      <td>-0.995</td>\n      <td>-0.976</td>\n      <td>-1.295</td>\n      <td>0.117</td>\n      <td>0.624</td>\n      <td>0.419</td>\n      <td>1.084</td>\n      <td>0.892</td>\n      <td>...</td>\n      <td>-0.912</td>\n      <td>-0.333</td>\n      <td>-0.647</td>\n      <td>-0.437</td>\n      <td>-0.309</td>\n      <td>0.048</td>\n      <td>-0.052</td>\n      <td>-0.040</td>\n      <td>-0.246</td>\n      <td>0.740</td>\n    </tr>\n  </tbody>\n</table>\n<p>8 rows × 22 columns</p>\n</div>"
     },
     "metadata": {},
     "output_type": "display_data"
    }
   ],
   "source": [
    "rows = []\n",
    "for val in [0.01, 0.5, 1.0, 5.0, 10.0, 20.0, 50.0, 100.0]:\n",
    "    ridge = Ridge(alpha=val)\n",
    "    ridge.fit(X_p_train_f, y_train)\n",
    "    y_predict = ridge.predict(X_p_test_f)\n",
    "    rows.append(to_dict(val, ridge.coef_, r2_score(y_test, y_predict)))\n",
    "ridge_df = pd.DataFrame.from_dict(rows)\n",
    "with pd.option_context('display.float_format', '{:0.3f}'.format):\n",
    "    display(ridge_df)"
   ],
   "metadata": {
    "collapsed": false,
    "pycharm": {
     "name": "#%%\n"
    }
   }
  },
  {
   "cell_type": "markdown",
   "source": [
    "#### Elastic Net Regression"
   ],
   "metadata": {
    "collapsed": false,
    "pycharm": {
     "name": "#%% md\n"
    }
   }
  },
  {
   "cell_type": "code",
   "execution_count": 25,
   "outputs": [
    {
     "data": {
      "text/plain": "    alpha   w00    w01    w02    w03    w04   w05   w06   w07    w08  ...  \\\n0   0.010 0.000 -2.652 -0.480 -4.536 -0.758 0.316 0.234 3.181 -0.512  ...   \n1   0.500 0.000 -1.127 -0.917 -1.511  0.000 0.242 0.032 1.066  0.910  ...   \n2   1.000 0.000 -0.854 -0.669 -1.122  0.000 0.003 0.000 0.629  0.675  ...   \n3   5.000 0.000 -0.124  0.000 -0.180  0.000 0.000 0.000 0.000  0.000  ...   \n4  10.000 0.000  0.000  0.000  0.000  0.000 0.000 0.000 0.000  0.000  ...   \n5  20.000 0.000  0.000  0.000  0.000  0.000 0.000 0.000 0.000  0.000  ...   \n6  50.000 0.000  0.000  0.000  0.000  0.000 0.000 0.000 0.000  0.000  ...   \n7 100.000 0.000  0.000  0.000  0.000  0.000 0.000 0.000 0.000  0.000  ...   \n\n     w11    w12    w13    w14    w15    w16    w17    w18    w19     R2  \n0 -1.951  1.405 -1.974  0.000  0.000  0.190 -0.079  0.497 -0.241  0.739  \n1 -0.782 -0.213 -0.624 -0.346 -0.231  0.000  0.000  0.000 -0.297  0.743  \n2 -0.541 -0.230 -0.390 -0.273 -0.305  0.000  0.000 -0.008 -0.358  0.717  \n3 -0.252 -0.225 -0.149 -0.100 -0.231 -0.020 -0.033 -0.116 -0.386  0.512  \n4 -0.056 -0.069 -0.067 -0.022 -0.134 -0.143 -0.077 -0.119 -0.324  0.367  \n5  0.000  0.000  0.000  0.000  0.000 -0.180 -0.022  0.000 -0.107  0.142  \n6  0.000  0.000  0.000  0.000  0.000  0.000  0.000  0.000  0.000 -0.000  \n7  0.000  0.000  0.000  0.000  0.000  0.000  0.000  0.000  0.000 -0.000  \n\n[8 rows x 22 columns]",
      "text/html": "<div>\n<style scoped>\n    .dataframe tbody tr th:only-of-type {\n        vertical-align: middle;\n    }\n\n    .dataframe tbody tr th {\n        vertical-align: top;\n    }\n\n    .dataframe thead th {\n        text-align: right;\n    }\n</style>\n<table border=\"1\" class=\"dataframe\">\n  <thead>\n    <tr style=\"text-align: right;\">\n      <th></th>\n      <th>alpha</th>\n      <th>w00</th>\n      <th>w01</th>\n      <th>w02</th>\n      <th>w03</th>\n      <th>w04</th>\n      <th>w05</th>\n      <th>w06</th>\n      <th>w07</th>\n      <th>w08</th>\n      <th>...</th>\n      <th>w11</th>\n      <th>w12</th>\n      <th>w13</th>\n      <th>w14</th>\n      <th>w15</th>\n      <th>w16</th>\n      <th>w17</th>\n      <th>w18</th>\n      <th>w19</th>\n      <th>R2</th>\n    </tr>\n  </thead>\n  <tbody>\n    <tr>\n      <th>0</th>\n      <td>0.010</td>\n      <td>0.000</td>\n      <td>-2.652</td>\n      <td>-0.480</td>\n      <td>-4.536</td>\n      <td>-0.758</td>\n      <td>0.316</td>\n      <td>0.234</td>\n      <td>3.181</td>\n      <td>-0.512</td>\n      <td>...</td>\n      <td>-1.951</td>\n      <td>1.405</td>\n      <td>-1.974</td>\n      <td>0.000</td>\n      <td>0.000</td>\n      <td>0.190</td>\n      <td>-0.079</td>\n      <td>0.497</td>\n      <td>-0.241</td>\n      <td>0.739</td>\n    </tr>\n    <tr>\n      <th>1</th>\n      <td>0.500</td>\n      <td>0.000</td>\n      <td>-1.127</td>\n      <td>-0.917</td>\n      <td>-1.511</td>\n      <td>0.000</td>\n      <td>0.242</td>\n      <td>0.032</td>\n      <td>1.066</td>\n      <td>0.910</td>\n      <td>...</td>\n      <td>-0.782</td>\n      <td>-0.213</td>\n      <td>-0.624</td>\n      <td>-0.346</td>\n      <td>-0.231</td>\n      <td>0.000</td>\n      <td>0.000</td>\n      <td>0.000</td>\n      <td>-0.297</td>\n      <td>0.743</td>\n    </tr>\n    <tr>\n      <th>2</th>\n      <td>1.000</td>\n      <td>0.000</td>\n      <td>-0.854</td>\n      <td>-0.669</td>\n      <td>-1.122</td>\n      <td>0.000</td>\n      <td>0.003</td>\n      <td>0.000</td>\n      <td>0.629</td>\n      <td>0.675</td>\n      <td>...</td>\n      <td>-0.541</td>\n      <td>-0.230</td>\n      <td>-0.390</td>\n      <td>-0.273</td>\n      <td>-0.305</td>\n      <td>0.000</td>\n      <td>0.000</td>\n      <td>-0.008</td>\n      <td>-0.358</td>\n      <td>0.717</td>\n    </tr>\n    <tr>\n      <th>3</th>\n      <td>5.000</td>\n      <td>0.000</td>\n      <td>-0.124</td>\n      <td>0.000</td>\n      <td>-0.180</td>\n      <td>0.000</td>\n      <td>0.000</td>\n      <td>0.000</td>\n      <td>0.000</td>\n      <td>0.000</td>\n      <td>...</td>\n      <td>-0.252</td>\n      <td>-0.225</td>\n      <td>-0.149</td>\n      <td>-0.100</td>\n      <td>-0.231</td>\n      <td>-0.020</td>\n      <td>-0.033</td>\n      <td>-0.116</td>\n      <td>-0.386</td>\n      <td>0.512</td>\n    </tr>\n    <tr>\n      <th>4</th>\n      <td>10.000</td>\n      <td>0.000</td>\n      <td>0.000</td>\n      <td>0.000</td>\n      <td>0.000</td>\n      <td>0.000</td>\n      <td>0.000</td>\n      <td>0.000</td>\n      <td>0.000</td>\n      <td>0.000</td>\n      <td>...</td>\n      <td>-0.056</td>\n      <td>-0.069</td>\n      <td>-0.067</td>\n      <td>-0.022</td>\n      <td>-0.134</td>\n      <td>-0.143</td>\n      <td>-0.077</td>\n      <td>-0.119</td>\n      <td>-0.324</td>\n      <td>0.367</td>\n    </tr>\n    <tr>\n      <th>5</th>\n      <td>20.000</td>\n      <td>0.000</td>\n      <td>0.000</td>\n      <td>0.000</td>\n      <td>0.000</td>\n      <td>0.000</td>\n      <td>0.000</td>\n      <td>0.000</td>\n      <td>0.000</td>\n      <td>0.000</td>\n      <td>...</td>\n      <td>0.000</td>\n      <td>0.000</td>\n      <td>0.000</td>\n      <td>0.000</td>\n      <td>0.000</td>\n      <td>-0.180</td>\n      <td>-0.022</td>\n      <td>0.000</td>\n      <td>-0.107</td>\n      <td>0.142</td>\n    </tr>\n    <tr>\n      <th>6</th>\n      <td>50.000</td>\n      <td>0.000</td>\n      <td>0.000</td>\n      <td>0.000</td>\n      <td>0.000</td>\n      <td>0.000</td>\n      <td>0.000</td>\n      <td>0.000</td>\n      <td>0.000</td>\n      <td>0.000</td>\n      <td>...</td>\n      <td>0.000</td>\n      <td>0.000</td>\n      <td>0.000</td>\n      <td>0.000</td>\n      <td>0.000</td>\n      <td>0.000</td>\n      <td>0.000</td>\n      <td>0.000</td>\n      <td>0.000</td>\n      <td>-0.000</td>\n    </tr>\n    <tr>\n      <th>7</th>\n      <td>100.000</td>\n      <td>0.000</td>\n      <td>0.000</td>\n      <td>0.000</td>\n      <td>0.000</td>\n      <td>0.000</td>\n      <td>0.000</td>\n      <td>0.000</td>\n      <td>0.000</td>\n      <td>0.000</td>\n      <td>...</td>\n      <td>0.000</td>\n      <td>0.000</td>\n      <td>0.000</td>\n      <td>0.000</td>\n      <td>0.000</td>\n      <td>0.000</td>\n      <td>0.000</td>\n      <td>0.000</td>\n      <td>0.000</td>\n      <td>-0.000</td>\n    </tr>\n  </tbody>\n</table>\n<p>8 rows × 22 columns</p>\n</div>"
     },
     "metadata": {},
     "output_type": "display_data"
    }
   ],
   "source": [
    "rows = []\n",
    "for val in [0.01, 0.5, 1.0, 5.0, 10.0, 20.0, 50.0, 100.0]:\n",
    "    elastic = ElasticNet(alpha=val, tol=0.01)\n",
    "    elastic.fit(X_p_train_f, y_train)\n",
    "    y_predict = elastic.predict(X_p_test_f)\n",
    "    rows.append(to_dict(val, elastic.coef_, r2_score(y_test, y_predict)))\n",
    "elastic_df = pd.DataFrame.from_dict(rows)\n",
    "with pd.option_context('display.float_format', '{:0.3f}'.format):\n",
    "    display(elastic_df)"
   ],
   "metadata": {
    "collapsed": false,
    "pycharm": {
     "name": "#%%\n"
    }
   }
  }
 ],
 "metadata": {
  "kernelspec": {
   "display_name": "Python 3",
   "language": "python",
   "name": "python3"
  },
  "language_info": {
   "codemirror_mode": {
    "name": "ipython",
    "version": 2
   },
   "file_extension": ".py",
   "mimetype": "text/x-python",
   "name": "python",
   "nbconvert_exporter": "python",
   "pygments_lexer": "ipython2",
   "version": "2.7.6"
  }
 },
 "nbformat": 4,
 "nbformat_minor": 0
}