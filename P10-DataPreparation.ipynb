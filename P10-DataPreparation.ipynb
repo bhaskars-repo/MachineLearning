{
 "cells": [
  {
   "cell_type": "markdown",
   "metadata": {
    "pycharm": {
     "name": "#%% md\n"
    }
   },
   "source": [
    "# Data Preparation - Part 2"
   ]
  },
  {
   "cell_type": "markdown",
   "metadata": {
    "pycharm": {
     "name": "#%% md\n"
    }
   },
   "source": [
    "#### Python Imports"
   ]
  },
  {
   "cell_type": "code",
   "execution_count": 148,
   "metadata": {
    "pycharm": {
     "name": "#%%\n"
    }
   },
   "outputs": [],
   "source": [
    "import pandas as pd\n",
    "import matplotlib.pyplot as plt\n",
    "import seaborn as sns"
   ]
  },
  {
   "cell_type": "code",
   "execution_count": 149,
   "metadata": {
    "pycharm": {
     "name": "#%%\n"
    }
   },
   "outputs": [],
   "source": [
    "%matplotlib inline\n",
    "plt.style.use('seaborn')"
   ]
  },
  {
   "cell_type": "markdown",
   "metadata": {
    "pycharm": {
     "name": "#%% md\n"
    }
   },
   "source": [
    "#### Data dictionary for the data set\n",
    "\n",
    "[Housing prices in Ames, Iowa - Feature details](http://jse.amstat.org/v19n3/decock/DataDocumentation.txt)"
   ]
  },
  {
   "cell_type": "markdown",
   "metadata": {
    "pycharm": {
     "name": "#%% md\n"
    }
   },
   "source": [
    "## Feature Engineering - Data Imputation"
   ]
  },
  {
   "cell_type": "markdown",
   "metadata": {
    "pycharm": {
     "name": "#%% md\n"
    }
   },
   "source": [
    "#### Load the Ames Iowa Housing Prices Data Set"
   ]
  },
  {
   "cell_type": "code",
   "execution_count": 150,
   "metadata": {
    "pycharm": {
     "name": "#%%\n"
    }
   },
   "outputs": [],
   "source": [
    "url = './data/ames.csv'\n",
    "ames_df = pd.read_csv(url)"
   ]
  },
  {
   "cell_type": "markdown",
   "metadata": {
    "pycharm": {
     "name": "#%% md\n"
    }
   },
   "source": [
    "#### Features to drop\n",
    "\n",
    "- Identifiers and add no values : Order, PID\n",
    "- Lots of missing values : Pool.QC, Misc.Feature, Alley, Fence\n",
    "- Low correlation to target : MS.SubClass, Lot.Frontage, Lot.Area, Overall.Cond, BsmtFin.SF.1, BsmtFin.SF.2, Bsmt.Unit.SF, X2nd.Flr.SF, Low.Qual.Fin.SF, Bsmt.Full.Bath, Bsmt.Half.Bath, Half.Bath, Bedroom.AbvGr, Kitchen.AbvGr, Fireplaces, Wood.Deck.SF, Open.Porch.SF, Enclosed.Porch, X3Ssn.Porch, Screen.Porch, Pool.Area, Misc.Val, Mo.Sold, Yr.Sold"
   ]
  },
  {
   "cell_type": "code",
   "execution_count": 151,
   "metadata": {
    "pycharm": {
     "name": "#%%\n"
    }
   },
   "outputs": [],
   "source": [
    "home_price_df = ames_df.drop(['Order', 'PID', 'Pool.QC', 'Misc.Feature', 'Alley', 'Fence', 'MS.SubClass', 'Lot.Frontage', 'Lot.Area', 'Overall.Cond', 'BsmtFin.SF.1', 'BsmtFin.SF.2', 'Bsmt.Unf.SF', 'X2nd.Flr.SF', 'Low.Qual.Fin.SF', 'Bsmt.Full.Bath', 'Bsmt.Half.Bath', 'Half.Bath', 'Bedroom.AbvGr', 'Kitchen.AbvGr', 'Fireplaces', 'Wood.Deck.SF', 'Open.Porch.SF', 'Enclosed.Porch', 'X3Ssn.Porch', 'Screen.Porch', 'Pool.Area', 'Misc.Val', 'Mo.Sold', 'Yr.Sold'], axis=1)"
   ]
  },
  {
   "cell_type": "markdown",
   "metadata": {
    "pycharm": {
     "name": "#%% md\n"
    }
   },
   "source": [
    "#### Display the shape (rows, columns) of the data set"
   ]
  },
  {
   "cell_type": "code",
   "execution_count": 152,
   "metadata": {
    "pycharm": {
     "name": "#%%\n"
    }
   },
   "outputs": [
    {
     "data": {
      "text/plain": "(2930, 51)"
     },
     "execution_count": 152,
     "metadata": {},
     "output_type": "execute_result"
    }
   ],
   "source": [
    "home_price_df.shape"
   ]
  },
  {
   "cell_type": "markdown",
   "metadata": {
    "pycharm": {
     "name": "#%% md\n"
    }
   },
   "source": [
    "#### Display the feature information about the data set"
   ]
  },
  {
   "cell_type": "code",
   "execution_count": 153,
   "metadata": {
    "pycharm": {
     "name": "#%%\n"
    }
   },
   "outputs": [
    {
     "name": "stdout",
     "output_type": "stream",
     "text": [
      "<class 'pandas.core.frame.DataFrame'>\n",
      "RangeIndex: 2930 entries, 0 to 2929\n",
      "Data columns (total 51 columns):\n",
      " #   Column          Non-Null Count  Dtype  \n",
      "---  ------          --------------  -----  \n",
      " 0   MS.Zoning       2930 non-null   object \n",
      " 1   Street          2930 non-null   object \n",
      " 2   Lot.Shape       2930 non-null   object \n",
      " 3   Land.Contour    2930 non-null   object \n",
      " 4   Utilities       2930 non-null   object \n",
      " 5   Lot.Config      2930 non-null   object \n",
      " 6   Land.Slope      2930 non-null   object \n",
      " 7   Neighborhood    2930 non-null   object \n",
      " 8   Condition.1     2930 non-null   object \n",
      " 9   Condition.2     2930 non-null   object \n",
      " 10  Bldg.Type       2930 non-null   object \n",
      " 11  House.Style     2930 non-null   object \n",
      " 12  Overall.Qual    2930 non-null   int64  \n",
      " 13  Year.Built      2930 non-null   int64  \n",
      " 14  Year.Remod.Add  2930 non-null   int64  \n",
      " 15  Roof.Style      2930 non-null   object \n",
      " 16  Roof.Matl       2930 non-null   object \n",
      " 17  Exterior.1st    2930 non-null   object \n",
      " 18  Exterior.2nd    2930 non-null   object \n",
      " 19  Mas.Vnr.Type    2907 non-null   object \n",
      " 20  Mas.Vnr.Area    2907 non-null   float64\n",
      " 21  Exter.Qual      2930 non-null   object \n",
      " 22  Exter.Cond      2930 non-null   object \n",
      " 23  Foundation      2930 non-null   object \n",
      " 24  Bsmt.Qual       2850 non-null   object \n",
      " 25  Bsmt.Cond       2850 non-null   object \n",
      " 26  Bsmt.Exposure   2847 non-null   object \n",
      " 27  BsmtFin.Type.1  2850 non-null   object \n",
      " 28  BsmtFin.Type.2  2849 non-null   object \n",
      " 29  Total.Bsmt.SF   2929 non-null   float64\n",
      " 30  Heating         2930 non-null   object \n",
      " 31  Heating.QC      2930 non-null   object \n",
      " 32  Central.Air     2930 non-null   object \n",
      " 33  Electrical      2929 non-null   object \n",
      " 34  X1st.Flr.SF     2930 non-null   int64  \n",
      " 35  Full.Bath       2930 non-null   int64  \n",
      " 36  Kitchen.Qual    2930 non-null   object \n",
      " 37  TotRms.AbvGrd   2930 non-null   int64  \n",
      " 38  Functional      2930 non-null   object \n",
      " 39  Fireplace.Qu    1508 non-null   object \n",
      " 40  Garage.Type     2773 non-null   object \n",
      " 41  Garage.Yr.Blt   2771 non-null   float64\n",
      " 42  Garage.Finish   2771 non-null   object \n",
      " 43  Garage.Cars     2929 non-null   float64\n",
      " 44  Garage.Area     2929 non-null   float64\n",
      " 45  Garage.Qual     2771 non-null   object \n",
      " 46  Garage.Cond     2771 non-null   object \n",
      " 47  Paved.Drive     2930 non-null   object \n",
      " 48  Sale.Type       2930 non-null   object \n",
      " 49  Sale.Condition  2930 non-null   object \n",
      " 50  SalePrice       2930 non-null   int64  \n",
      "dtypes: float64(5), int64(7), object(39)\n",
      "memory usage: 1.1+ MB\n"
     ]
    }
   ],
   "source": [
    "home_price_df.info()"
   ]
  },
  {
   "cell_type": "markdown",
   "metadata": {
    "pycharm": {
     "name": "#%% md\n"
    }
   },
   "source": [
    "#### Display the name of the features with missing values"
   ]
  },
  {
   "cell_type": "code",
   "execution_count": 154,
   "metadata": {
    "pycharm": {
     "name": "#%%\n"
    }
   },
   "outputs": [
    {
     "data": {
      "text/plain": "['Mas.Vnr.Type',\n 'Mas.Vnr.Area',\n 'Bsmt.Qual',\n 'Bsmt.Cond',\n 'Bsmt.Exposure',\n 'BsmtFin.Type.1',\n 'BsmtFin.Type.2',\n 'Total.Bsmt.SF',\n 'Electrical',\n 'Fireplace.Qu',\n 'Garage.Type',\n 'Garage.Yr.Blt',\n 'Garage.Finish',\n 'Garage.Cars',\n 'Garage.Area',\n 'Garage.Qual',\n 'Garage.Cond']"
     },
     "execution_count": 154,
     "metadata": {},
     "output_type": "execute_result"
    }
   ],
   "source": [
    "features_na = [feature for feature in home_price_df.columns if home_price_df[feature].isnull().sum() > 0]\n",
    "features_na"
   ]
  },
  {
   "cell_type": "markdown",
   "metadata": {
    "pycharm": {
     "name": "#%% md\n"
    }
   },
   "source": [
    "#### Display the count of values that are missing (take 1)"
   ]
  },
  {
   "cell_type": "code",
   "execution_count": 155,
   "metadata": {
    "pycharm": {
     "name": "#%%\n"
    }
   },
   "outputs": [
    {
     "data": {
      "text/plain": "Electrical           1\nGarage.Area          1\nGarage.Cars          1\nTotal.Bsmt.SF        1\nMas.Vnr.Type        23\nMas.Vnr.Area        23\nBsmtFin.Type.1      80\nBsmt.Cond           80\nBsmt.Qual           80\nBsmtFin.Type.2      81\nBsmt.Exposure       83\nGarage.Type        157\nGarage.Qual        159\nGarage.Yr.Blt      159\nGarage.Finish      159\nGarage.Cond        159\nFireplace.Qu      1422\ndtype: int64"
     },
     "execution_count": 155,
     "metadata": {},
     "output_type": "execute_result"
    }
   ],
   "source": [
    "home_price_df[features_na].isnull().sum().sort_values()"
   ]
  },
  {
   "cell_type": "markdown",
   "metadata": {
    "pycharm": {
     "name": "#%% md\n"
    }
   },
   "source": [
    "#### Display the rows with one missing value - Garage.Cars, Garage.Area, Total.Bsmt.SF, Electrical"
   ]
  },
  {
   "cell_type": "code",
   "execution_count": 156,
   "metadata": {
    "pycharm": {
     "name": "#%%\n"
    }
   },
   "outputs": [
    {
     "data": {
      "text/plain": "     MS.Zoning Street Lot.Shape Land.Contour Utilities Lot.Config Land.Slope  \\\n1341        RM   Pave       IR1          Lvl    AllPub        FR3        Gtl   \n1577        RL   Pave       Reg          Lvl    AllPub     Inside        Gtl   \n2236        RM   Pave       Reg          Lvl    AllPub     Inside        Gtl   \n\n     Neighborhood Condition.1 Condition.2  ... Garage.Yr.Blt Garage.Finish  \\\n1341      BrkSide       Feedr        Norm  ...        1946.0           Unf   \n1577       Timber        Norm        Norm  ...        2007.0           Fin   \n2236       IDOTRR        Norm        Norm  ...           NaN           NaN   \n\n      Garage.Cars  Garage.Area  Garage.Qual Garage.Cond Paved.Drive Sale.Type  \\\n1341          1.0        280.0           TA          TA           Y     ConLD   \n1577          2.0        400.0           TA          TA           Y       WD    \n2236          NaN          NaN          NaN         NaN           Y       WD    \n\n     Sale.Condition SalePrice  \n1341        Abnorml     79000  \n1577         Normal    167500  \n2236         Alloca    150909  \n\n[3 rows x 51 columns]",
      "text/html": "<div>\n<style scoped>\n    .dataframe tbody tr th:only-of-type {\n        vertical-align: middle;\n    }\n\n    .dataframe tbody tr th {\n        vertical-align: top;\n    }\n\n    .dataframe thead th {\n        text-align: right;\n    }\n</style>\n<table border=\"1\" class=\"dataframe\">\n  <thead>\n    <tr style=\"text-align: right;\">\n      <th></th>\n      <th>MS.Zoning</th>\n      <th>Street</th>\n      <th>Lot.Shape</th>\n      <th>Land.Contour</th>\n      <th>Utilities</th>\n      <th>Lot.Config</th>\n      <th>Land.Slope</th>\n      <th>Neighborhood</th>\n      <th>Condition.1</th>\n      <th>Condition.2</th>\n      <th>...</th>\n      <th>Garage.Yr.Blt</th>\n      <th>Garage.Finish</th>\n      <th>Garage.Cars</th>\n      <th>Garage.Area</th>\n      <th>Garage.Qual</th>\n      <th>Garage.Cond</th>\n      <th>Paved.Drive</th>\n      <th>Sale.Type</th>\n      <th>Sale.Condition</th>\n      <th>SalePrice</th>\n    </tr>\n  </thead>\n  <tbody>\n    <tr>\n      <th>1341</th>\n      <td>RM</td>\n      <td>Pave</td>\n      <td>IR1</td>\n      <td>Lvl</td>\n      <td>AllPub</td>\n      <td>FR3</td>\n      <td>Gtl</td>\n      <td>BrkSide</td>\n      <td>Feedr</td>\n      <td>Norm</td>\n      <td>...</td>\n      <td>1946.0</td>\n      <td>Unf</td>\n      <td>1.0</td>\n      <td>280.0</td>\n      <td>TA</td>\n      <td>TA</td>\n      <td>Y</td>\n      <td>ConLD</td>\n      <td>Abnorml</td>\n      <td>79000</td>\n    </tr>\n    <tr>\n      <th>1577</th>\n      <td>RL</td>\n      <td>Pave</td>\n      <td>Reg</td>\n      <td>Lvl</td>\n      <td>AllPub</td>\n      <td>Inside</td>\n      <td>Gtl</td>\n      <td>Timber</td>\n      <td>Norm</td>\n      <td>Norm</td>\n      <td>...</td>\n      <td>2007.0</td>\n      <td>Fin</td>\n      <td>2.0</td>\n      <td>400.0</td>\n      <td>TA</td>\n      <td>TA</td>\n      <td>Y</td>\n      <td>WD</td>\n      <td>Normal</td>\n      <td>167500</td>\n    </tr>\n    <tr>\n      <th>2236</th>\n      <td>RM</td>\n      <td>Pave</td>\n      <td>Reg</td>\n      <td>Lvl</td>\n      <td>AllPub</td>\n      <td>Inside</td>\n      <td>Gtl</td>\n      <td>IDOTRR</td>\n      <td>Norm</td>\n      <td>Norm</td>\n      <td>...</td>\n      <td>NaN</td>\n      <td>NaN</td>\n      <td>NaN</td>\n      <td>NaN</td>\n      <td>NaN</td>\n      <td>NaN</td>\n      <td>Y</td>\n      <td>WD</td>\n      <td>Alloca</td>\n      <td>150909</td>\n    </tr>\n  </tbody>\n</table>\n<p>3 rows × 51 columns</p>\n</div>"
     },
     "execution_count": 156,
     "metadata": {},
     "output_type": "execute_result"
    }
   ],
   "source": [
    "home_price_df[home_price_df['Garage.Cars'].isnull() | home_price_df['Garage.Area'].isnull() | home_price_df['Total.Bsmt.SF'].isnull() | home_price_df['Electrical'].isnull()]"
   ]
  },
  {
   "cell_type": "markdown",
   "metadata": {
    "pycharm": {
     "name": "#%% md\n"
    }
   },
   "source": [
    "#### Drop the 3 rows with one missing value from above"
   ]
  },
  {
   "cell_type": "code",
   "execution_count": 157,
   "metadata": {
    "pycharm": {
     "name": "#%%\n"
    }
   },
   "outputs": [],
   "source": [
    "one_na_index = home_price_df[home_price_df['Garage.Cars'].isnull() | home_price_df['Garage.Area'].isnull() | home_price_df['Total.Bsmt.SF'].isnull() | home_price_df['Electrical'].isnull()].index\n",
    "home_price_df = home_price_df.drop(one_na_index, axis=0)"
   ]
  },
  {
   "cell_type": "markdown",
   "metadata": {
    "pycharm": {
     "name": "#%% md\n"
    }
   },
   "source": [
    "#### Display the count of values that are missing (take 2)"
   ]
  },
  {
   "cell_type": "code",
   "execution_count": 158,
   "metadata": {
    "pycharm": {
     "name": "#%%\n"
    }
   },
   "outputs": [
    {
     "data": {
      "text/plain": "Mas.Vnr.Type        23\nMas.Vnr.Area        23\nBsmt.Qual           79\nBsmt.Cond           79\nBsmtFin.Type.1      79\nBsmtFin.Type.2      80\nBsmt.Exposure       82\nGarage.Type        157\nGarage.Yr.Blt      158\nGarage.Finish      158\nGarage.Qual        158\nGarage.Cond        158\nFireplace.Qu      1419\ndtype: int64"
     },
     "execution_count": 158,
     "metadata": {},
     "output_type": "execute_result"
    }
   ],
   "source": [
    "features_na = [feature for feature in home_price_df.columns if home_price_df[feature].isnull().sum() > 0]\n",
    "home_price_df[features_na].isnull().sum().sort_values()"
   ]
  },
  {
   "cell_type": "markdown",
   "metadata": {
    "pycharm": {
     "name": "#%% md\n"
    }
   },
   "source": [
    "#### Display the rows with 23 missing values - Mas.Vnr.Type and Mas.Vnr.Area"
   ]
  },
  {
   "cell_type": "code",
   "execution_count": 159,
   "metadata": {
    "pycharm": {
     "name": "#%%\n"
    }
   },
   "outputs": [
    {
     "data": {
      "text/plain": "     MS.Zoning Street Lot.Shape Land.Contour Utilities Lot.Config Land.Slope  \\\n55          RL   Pave       Reg          Lvl    AllPub     Inside        Gtl   \n484         RL   Pave       IR1          Lvl    AllPub     Corner        Gtl   \n517         FV   Pave       IR1          Lvl    AllPub     Inside        Gtl   \n538         RL   Pave       Reg          Lvl    AllPub     Inside        Gtl   \n867         RL   Pave       Reg          Lvl    AllPub     Inside        Gtl   \n1095        RL   Pave       Reg          Lvl    AllPub     Inside        Gtl   \n1119        RL   Pave       Reg          Lvl    AllPub     Corner        Gtl   \n1122        FV   Pave       Reg          Lvl    AllPub     Corner        Gtl   \n1127        FV   Pave       Reg          Lvl    AllPub     Inside        Gtl   \n1184        FV   Pave       Reg          Lvl    AllPub     Inside        Gtl   \n1454        RL   Pave       Reg          Lvl    AllPub     Inside        Gtl   \n1727        RL   Pave       IR1          Lvl    AllPub     Inside        Gtl   \n1751        RL   Pave       IR1          Lvl    AllPub     Corner        Gtl   \n1783        RL   Pave       Reg          Lvl    AllPub        FR2        Gtl   \n1799        FV   Pave       IR1          Lvl    AllPub     Inside        Gtl   \n1839        FV   Pave       IR2          Lvl    AllPub     Inside        Gtl   \n1840        FV   Pave       IR1          Lvl    AllPub     Inside        Gtl   \n2229        RL   Pave       IR1          Lvl    AllPub    CulDSac        Gtl   \n2260        RL   Pave       IR1          HLS    AllPub     Inside        Gtl   \n2382        RL   Pave       Reg          Lvl    AllPub     Inside        Gtl   \n2392        RL   Pave       IR1          Lvl    AllPub     Corner        Gtl   \n2455        RL   Pave       IR1          Lvl    AllPub    CulDSac        Gtl   \n2823        RL   Pave       Reg          Lvl    AllPub     Inside        Gtl   \n\n     Neighborhood Condition.1 Condition.2  ... Garage.Yr.Blt Garage.Finish  \\\n55        Gilbert        Norm        Norm  ...        2002.0           Fin   \n484       Gilbert        Norm        Norm  ...        2002.0           Fin   \n517       Somerst        Norm        Norm  ...        2008.0           Fin   \n538       SawyerW        Norm        Norm  ...        2003.0           RFn   \n867       CollgCr        Norm        Norm  ...        2002.0           RFn   \n1095      Gilbert        RRAn        Norm  ...        2002.0           Fin   \n1119      Somerst       Feedr        Norm  ...        2006.0           Fin   \n1122      Somerst        Norm        Norm  ...        2007.0           Fin   \n1127      Somerst        Norm        Norm  ...        2007.0           RFn   \n1184      Somerst        Norm        Norm  ...        2002.0           RFn   \n1454      CollgCr        Norm        Norm  ...        2002.0           RFn   \n1727      Gilbert        RRAn        Norm  ...        2007.0           Unf   \n1751      Gilbert        Norm        Norm  ...        2003.0           Fin   \n1783      Somerst       Feedr        Norm  ...        2007.0           Unf   \n1799      Somerst        Norm        Norm  ...        2007.0           Fin   \n1839      Somerst        Norm        Norm  ...        2007.0           Fin   \n1840      Somerst        Norm        Norm  ...        2007.0           Fin   \n2229      Crawfor        Norm        Norm  ...        1975.0           RFn   \n2260       Timber        Norm        Norm  ...        2207.0           RFn   \n2382      NridgHt        Norm        Norm  ...        2006.0           Fin   \n2392      NridgHt        Norm        Norm  ...        2005.0           Fin   \n2455      Somerst        RRAn        Norm  ...        2006.0           RFn   \n2823      Edwards        Norm        Norm  ...           NaN           NaN   \n\n      Garage.Cars  Garage.Area  Garage.Qual Garage.Cond Paved.Drive Sale.Type  \\\n55            2.0        440.0           TA          TA           Y       WD    \n484           3.0        644.0           TA          TA           Y       WD    \n517           2.0        529.0           TA          TA           Y       New   \n538           2.0        555.0           TA          TA           Y       WD    \n867           2.0        550.0           TA          TA           Y       WD    \n1095          2.0        403.0           TA          TA           Y       WD    \n1119          2.0        480.0           TA          TA           Y       WD    \n1122          2.0        480.0           TA          TA           Y       New   \n1127          2.0        562.0           TA          TA           Y       WD    \n1184          2.0        469.0           TA          TA           Y       WD    \n1454          2.0        577.0           TA          TA           Y       WD    \n1727          2.0        572.0           TA          TA           Y       New   \n1751          2.0        400.0           TA          TA           Y       WD    \n1783          2.0        480.0           TA          TA           Y       New   \n1799          3.0        880.0           TA          TA           Y       New   \n1839          2.0        528.0           TA          TA           Y       New   \n1840          2.0        569.0           TA          TA           Y       New   \n2229          2.0        484.0           TA          TA           Y       WD    \n2260          2.0        502.0           TA          TA           Y       New   \n2382          3.0        850.0           TA          TA           Y       New   \n2392          2.0        575.0           TA          TA           Y       New   \n2455          3.0        928.0           TA          TA           Y       New   \n2823          0.0          0.0          NaN         NaN           N       WD    \n\n     Sale.Condition SalePrice  \n55           Normal    216500  \n484          Normal    257500  \n517         Partial    225000  \n538          Normal    184900  \n867          Normal    198500  \n1095         Normal    176000  \n1119         Normal    247000  \n1122        Partial    182000  \n1127         Normal    205950  \n1184         Normal    205000  \n1454         Normal    237000  \n1727        Partial    181755  \n1751         Normal    165500  \n1783        Partial    235876  \n1799        Partial    310013  \n1839        Partial    207500  \n1840        Partial    199900  \n2229         Alloca    200624  \n2260        Partial    267300  \n2382        Partial    465000  \n2392        Partial    344133  \n2455        Partial    336820  \n2823         Normal    117250  \n\n[23 rows x 51 columns]",
      "text/html": "<div>\n<style scoped>\n    .dataframe tbody tr th:only-of-type {\n        vertical-align: middle;\n    }\n\n    .dataframe tbody tr th {\n        vertical-align: top;\n    }\n\n    .dataframe thead th {\n        text-align: right;\n    }\n</style>\n<table border=\"1\" class=\"dataframe\">\n  <thead>\n    <tr style=\"text-align: right;\">\n      <th></th>\n      <th>MS.Zoning</th>\n      <th>Street</th>\n      <th>Lot.Shape</th>\n      <th>Land.Contour</th>\n      <th>Utilities</th>\n      <th>Lot.Config</th>\n      <th>Land.Slope</th>\n      <th>Neighborhood</th>\n      <th>Condition.1</th>\n      <th>Condition.2</th>\n      <th>...</th>\n      <th>Garage.Yr.Blt</th>\n      <th>Garage.Finish</th>\n      <th>Garage.Cars</th>\n      <th>Garage.Area</th>\n      <th>Garage.Qual</th>\n      <th>Garage.Cond</th>\n      <th>Paved.Drive</th>\n      <th>Sale.Type</th>\n      <th>Sale.Condition</th>\n      <th>SalePrice</th>\n    </tr>\n  </thead>\n  <tbody>\n    <tr>\n      <th>55</th>\n      <td>RL</td>\n      <td>Pave</td>\n      <td>Reg</td>\n      <td>Lvl</td>\n      <td>AllPub</td>\n      <td>Inside</td>\n      <td>Gtl</td>\n      <td>Gilbert</td>\n      <td>Norm</td>\n      <td>Norm</td>\n      <td>...</td>\n      <td>2002.0</td>\n      <td>Fin</td>\n      <td>2.0</td>\n      <td>440.0</td>\n      <td>TA</td>\n      <td>TA</td>\n      <td>Y</td>\n      <td>WD</td>\n      <td>Normal</td>\n      <td>216500</td>\n    </tr>\n    <tr>\n      <th>484</th>\n      <td>RL</td>\n      <td>Pave</td>\n      <td>IR1</td>\n      <td>Lvl</td>\n      <td>AllPub</td>\n      <td>Corner</td>\n      <td>Gtl</td>\n      <td>Gilbert</td>\n      <td>Norm</td>\n      <td>Norm</td>\n      <td>...</td>\n      <td>2002.0</td>\n      <td>Fin</td>\n      <td>3.0</td>\n      <td>644.0</td>\n      <td>TA</td>\n      <td>TA</td>\n      <td>Y</td>\n      <td>WD</td>\n      <td>Normal</td>\n      <td>257500</td>\n    </tr>\n    <tr>\n      <th>517</th>\n      <td>FV</td>\n      <td>Pave</td>\n      <td>IR1</td>\n      <td>Lvl</td>\n      <td>AllPub</td>\n      <td>Inside</td>\n      <td>Gtl</td>\n      <td>Somerst</td>\n      <td>Norm</td>\n      <td>Norm</td>\n      <td>...</td>\n      <td>2008.0</td>\n      <td>Fin</td>\n      <td>2.0</td>\n      <td>529.0</td>\n      <td>TA</td>\n      <td>TA</td>\n      <td>Y</td>\n      <td>New</td>\n      <td>Partial</td>\n      <td>225000</td>\n    </tr>\n    <tr>\n      <th>538</th>\n      <td>RL</td>\n      <td>Pave</td>\n      <td>Reg</td>\n      <td>Lvl</td>\n      <td>AllPub</td>\n      <td>Inside</td>\n      <td>Gtl</td>\n      <td>SawyerW</td>\n      <td>Norm</td>\n      <td>Norm</td>\n      <td>...</td>\n      <td>2003.0</td>\n      <td>RFn</td>\n      <td>2.0</td>\n      <td>555.0</td>\n      <td>TA</td>\n      <td>TA</td>\n      <td>Y</td>\n      <td>WD</td>\n      <td>Normal</td>\n      <td>184900</td>\n    </tr>\n    <tr>\n      <th>867</th>\n      <td>RL</td>\n      <td>Pave</td>\n      <td>Reg</td>\n      <td>Lvl</td>\n      <td>AllPub</td>\n      <td>Inside</td>\n      <td>Gtl</td>\n      <td>CollgCr</td>\n      <td>Norm</td>\n      <td>Norm</td>\n      <td>...</td>\n      <td>2002.0</td>\n      <td>RFn</td>\n      <td>2.0</td>\n      <td>550.0</td>\n      <td>TA</td>\n      <td>TA</td>\n      <td>Y</td>\n      <td>WD</td>\n      <td>Normal</td>\n      <td>198500</td>\n    </tr>\n    <tr>\n      <th>1095</th>\n      <td>RL</td>\n      <td>Pave</td>\n      <td>Reg</td>\n      <td>Lvl</td>\n      <td>AllPub</td>\n      <td>Inside</td>\n      <td>Gtl</td>\n      <td>Gilbert</td>\n      <td>RRAn</td>\n      <td>Norm</td>\n      <td>...</td>\n      <td>2002.0</td>\n      <td>Fin</td>\n      <td>2.0</td>\n      <td>403.0</td>\n      <td>TA</td>\n      <td>TA</td>\n      <td>Y</td>\n      <td>WD</td>\n      <td>Normal</td>\n      <td>176000</td>\n    </tr>\n    <tr>\n      <th>1119</th>\n      <td>RL</td>\n      <td>Pave</td>\n      <td>Reg</td>\n      <td>Lvl</td>\n      <td>AllPub</td>\n      <td>Corner</td>\n      <td>Gtl</td>\n      <td>Somerst</td>\n      <td>Feedr</td>\n      <td>Norm</td>\n      <td>...</td>\n      <td>2006.0</td>\n      <td>Fin</td>\n      <td>2.0</td>\n      <td>480.0</td>\n      <td>TA</td>\n      <td>TA</td>\n      <td>Y</td>\n      <td>WD</td>\n      <td>Normal</td>\n      <td>247000</td>\n    </tr>\n    <tr>\n      <th>1122</th>\n      <td>FV</td>\n      <td>Pave</td>\n      <td>Reg</td>\n      <td>Lvl</td>\n      <td>AllPub</td>\n      <td>Corner</td>\n      <td>Gtl</td>\n      <td>Somerst</td>\n      <td>Norm</td>\n      <td>Norm</td>\n      <td>...</td>\n      <td>2007.0</td>\n      <td>Fin</td>\n      <td>2.0</td>\n      <td>480.0</td>\n      <td>TA</td>\n      <td>TA</td>\n      <td>Y</td>\n      <td>New</td>\n      <td>Partial</td>\n      <td>182000</td>\n    </tr>\n    <tr>\n      <th>1127</th>\n      <td>FV</td>\n      <td>Pave</td>\n      <td>Reg</td>\n      <td>Lvl</td>\n      <td>AllPub</td>\n      <td>Inside</td>\n      <td>Gtl</td>\n      <td>Somerst</td>\n      <td>Norm</td>\n      <td>Norm</td>\n      <td>...</td>\n      <td>2007.0</td>\n      <td>RFn</td>\n      <td>2.0</td>\n      <td>562.0</td>\n      <td>TA</td>\n      <td>TA</td>\n      <td>Y</td>\n      <td>WD</td>\n      <td>Normal</td>\n      <td>205950</td>\n    </tr>\n    <tr>\n      <th>1184</th>\n      <td>FV</td>\n      <td>Pave</td>\n      <td>Reg</td>\n      <td>Lvl</td>\n      <td>AllPub</td>\n      <td>Inside</td>\n      <td>Gtl</td>\n      <td>Somerst</td>\n      <td>Norm</td>\n      <td>Norm</td>\n      <td>...</td>\n      <td>2002.0</td>\n      <td>RFn</td>\n      <td>2.0</td>\n      <td>469.0</td>\n      <td>TA</td>\n      <td>TA</td>\n      <td>Y</td>\n      <td>WD</td>\n      <td>Normal</td>\n      <td>205000</td>\n    </tr>\n    <tr>\n      <th>1454</th>\n      <td>RL</td>\n      <td>Pave</td>\n      <td>Reg</td>\n      <td>Lvl</td>\n      <td>AllPub</td>\n      <td>Inside</td>\n      <td>Gtl</td>\n      <td>CollgCr</td>\n      <td>Norm</td>\n      <td>Norm</td>\n      <td>...</td>\n      <td>2002.0</td>\n      <td>RFn</td>\n      <td>2.0</td>\n      <td>577.0</td>\n      <td>TA</td>\n      <td>TA</td>\n      <td>Y</td>\n      <td>WD</td>\n      <td>Normal</td>\n      <td>237000</td>\n    </tr>\n    <tr>\n      <th>1727</th>\n      <td>RL</td>\n      <td>Pave</td>\n      <td>IR1</td>\n      <td>Lvl</td>\n      <td>AllPub</td>\n      <td>Inside</td>\n      <td>Gtl</td>\n      <td>Gilbert</td>\n      <td>RRAn</td>\n      <td>Norm</td>\n      <td>...</td>\n      <td>2007.0</td>\n      <td>Unf</td>\n      <td>2.0</td>\n      <td>572.0</td>\n      <td>TA</td>\n      <td>TA</td>\n      <td>Y</td>\n      <td>New</td>\n      <td>Partial</td>\n      <td>181755</td>\n    </tr>\n    <tr>\n      <th>1751</th>\n      <td>RL</td>\n      <td>Pave</td>\n      <td>IR1</td>\n      <td>Lvl</td>\n      <td>AllPub</td>\n      <td>Corner</td>\n      <td>Gtl</td>\n      <td>Gilbert</td>\n      <td>Norm</td>\n      <td>Norm</td>\n      <td>...</td>\n      <td>2003.0</td>\n      <td>Fin</td>\n      <td>2.0</td>\n      <td>400.0</td>\n      <td>TA</td>\n      <td>TA</td>\n      <td>Y</td>\n      <td>WD</td>\n      <td>Normal</td>\n      <td>165500</td>\n    </tr>\n    <tr>\n      <th>1783</th>\n      <td>RL</td>\n      <td>Pave</td>\n      <td>Reg</td>\n      <td>Lvl</td>\n      <td>AllPub</td>\n      <td>FR2</td>\n      <td>Gtl</td>\n      <td>Somerst</td>\n      <td>Feedr</td>\n      <td>Norm</td>\n      <td>...</td>\n      <td>2007.0</td>\n      <td>Unf</td>\n      <td>2.0</td>\n      <td>480.0</td>\n      <td>TA</td>\n      <td>TA</td>\n      <td>Y</td>\n      <td>New</td>\n      <td>Partial</td>\n      <td>235876</td>\n    </tr>\n    <tr>\n      <th>1799</th>\n      <td>FV</td>\n      <td>Pave</td>\n      <td>IR1</td>\n      <td>Lvl</td>\n      <td>AllPub</td>\n      <td>Inside</td>\n      <td>Gtl</td>\n      <td>Somerst</td>\n      <td>Norm</td>\n      <td>Norm</td>\n      <td>...</td>\n      <td>2007.0</td>\n      <td>Fin</td>\n      <td>3.0</td>\n      <td>880.0</td>\n      <td>TA</td>\n      <td>TA</td>\n      <td>Y</td>\n      <td>New</td>\n      <td>Partial</td>\n      <td>310013</td>\n    </tr>\n    <tr>\n      <th>1839</th>\n      <td>FV</td>\n      <td>Pave</td>\n      <td>IR2</td>\n      <td>Lvl</td>\n      <td>AllPub</td>\n      <td>Inside</td>\n      <td>Gtl</td>\n      <td>Somerst</td>\n      <td>Norm</td>\n      <td>Norm</td>\n      <td>...</td>\n      <td>2007.0</td>\n      <td>Fin</td>\n      <td>2.0</td>\n      <td>528.0</td>\n      <td>TA</td>\n      <td>TA</td>\n      <td>Y</td>\n      <td>New</td>\n      <td>Partial</td>\n      <td>207500</td>\n    </tr>\n    <tr>\n      <th>1840</th>\n      <td>FV</td>\n      <td>Pave</td>\n      <td>IR1</td>\n      <td>Lvl</td>\n      <td>AllPub</td>\n      <td>Inside</td>\n      <td>Gtl</td>\n      <td>Somerst</td>\n      <td>Norm</td>\n      <td>Norm</td>\n      <td>...</td>\n      <td>2007.0</td>\n      <td>Fin</td>\n      <td>2.0</td>\n      <td>569.0</td>\n      <td>TA</td>\n      <td>TA</td>\n      <td>Y</td>\n      <td>New</td>\n      <td>Partial</td>\n      <td>199900</td>\n    </tr>\n    <tr>\n      <th>2229</th>\n      <td>RL</td>\n      <td>Pave</td>\n      <td>IR1</td>\n      <td>Lvl</td>\n      <td>AllPub</td>\n      <td>CulDSac</td>\n      <td>Gtl</td>\n      <td>Crawfor</td>\n      <td>Norm</td>\n      <td>Norm</td>\n      <td>...</td>\n      <td>1975.0</td>\n      <td>RFn</td>\n      <td>2.0</td>\n      <td>484.0</td>\n      <td>TA</td>\n      <td>TA</td>\n      <td>Y</td>\n      <td>WD</td>\n      <td>Alloca</td>\n      <td>200624</td>\n    </tr>\n    <tr>\n      <th>2260</th>\n      <td>RL</td>\n      <td>Pave</td>\n      <td>IR1</td>\n      <td>HLS</td>\n      <td>AllPub</td>\n      <td>Inside</td>\n      <td>Gtl</td>\n      <td>Timber</td>\n      <td>Norm</td>\n      <td>Norm</td>\n      <td>...</td>\n      <td>2207.0</td>\n      <td>RFn</td>\n      <td>2.0</td>\n      <td>502.0</td>\n      <td>TA</td>\n      <td>TA</td>\n      <td>Y</td>\n      <td>New</td>\n      <td>Partial</td>\n      <td>267300</td>\n    </tr>\n    <tr>\n      <th>2382</th>\n      <td>RL</td>\n      <td>Pave</td>\n      <td>Reg</td>\n      <td>Lvl</td>\n      <td>AllPub</td>\n      <td>Inside</td>\n      <td>Gtl</td>\n      <td>NridgHt</td>\n      <td>Norm</td>\n      <td>Norm</td>\n      <td>...</td>\n      <td>2006.0</td>\n      <td>Fin</td>\n      <td>3.0</td>\n      <td>850.0</td>\n      <td>TA</td>\n      <td>TA</td>\n      <td>Y</td>\n      <td>New</td>\n      <td>Partial</td>\n      <td>465000</td>\n    </tr>\n    <tr>\n      <th>2392</th>\n      <td>RL</td>\n      <td>Pave</td>\n      <td>IR1</td>\n      <td>Lvl</td>\n      <td>AllPub</td>\n      <td>Corner</td>\n      <td>Gtl</td>\n      <td>NridgHt</td>\n      <td>Norm</td>\n      <td>Norm</td>\n      <td>...</td>\n      <td>2005.0</td>\n      <td>Fin</td>\n      <td>2.0</td>\n      <td>575.0</td>\n      <td>TA</td>\n      <td>TA</td>\n      <td>Y</td>\n      <td>New</td>\n      <td>Partial</td>\n      <td>344133</td>\n    </tr>\n    <tr>\n      <th>2455</th>\n      <td>RL</td>\n      <td>Pave</td>\n      <td>IR1</td>\n      <td>Lvl</td>\n      <td>AllPub</td>\n      <td>CulDSac</td>\n      <td>Gtl</td>\n      <td>Somerst</td>\n      <td>RRAn</td>\n      <td>Norm</td>\n      <td>...</td>\n      <td>2006.0</td>\n      <td>RFn</td>\n      <td>3.0</td>\n      <td>928.0</td>\n      <td>TA</td>\n      <td>TA</td>\n      <td>Y</td>\n      <td>New</td>\n      <td>Partial</td>\n      <td>336820</td>\n    </tr>\n    <tr>\n      <th>2823</th>\n      <td>RL</td>\n      <td>Pave</td>\n      <td>Reg</td>\n      <td>Lvl</td>\n      <td>AllPub</td>\n      <td>Inside</td>\n      <td>Gtl</td>\n      <td>Edwards</td>\n      <td>Norm</td>\n      <td>Norm</td>\n      <td>...</td>\n      <td>NaN</td>\n      <td>NaN</td>\n      <td>0.0</td>\n      <td>0.0</td>\n      <td>NaN</td>\n      <td>NaN</td>\n      <td>N</td>\n      <td>WD</td>\n      <td>Normal</td>\n      <td>117250</td>\n    </tr>\n  </tbody>\n</table>\n<p>23 rows × 51 columns</p>\n</div>"
     },
     "execution_count": 159,
     "metadata": {},
     "output_type": "execute_result"
    }
   ],
   "source": [
    "home_price_df[home_price_df['Mas.Vnr.Type'].isnull() | home_price_df['Mas.Vnr.Area'].isnull()]"
   ]
  },
  {
   "cell_type": "markdown",
   "metadata": {
    "pycharm": {
     "name": "#%% md\n"
    }
   },
   "source": [
    "#### Replace missing values for Mas.Vnr.Type and Mas.Vnr.Area\n",
    "\n",
    "The following are the acceptable values from the data dictionary:\n",
    "\n",
    "   - BrkCmn\tBrick Common\n",
    "   - BrkFace\tBrick Face\n",
    "   - CBlock\tCinder Block\n",
    "   - None\tNone\n",
    "   - Stone\tStone\n",
    "\n",
    "We will use 'None' to fill the missing values for Mas.Vnr.Type and 0 for Mas.Vnr.Area"
   ]
  },
  {
   "cell_type": "code",
   "execution_count": 160,
   "metadata": {
    "pycharm": {
     "name": "#%%\n"
    }
   },
   "outputs": [],
   "source": [
    "home_price_df['Mas.Vnr.Type'].fillna('None', inplace=True)\n",
    "home_price_df['Mas.Vnr.Area'].fillna(0, inplace=True)"
   ]
  },
  {
   "cell_type": "markdown",
   "metadata": {
    "pycharm": {
     "name": "#%% md\n"
    }
   },
   "source": [
    "#### Display the count of values that are missing (take 3)"
   ]
  },
  {
   "cell_type": "code",
   "execution_count": 161,
   "metadata": {
    "pycharm": {
     "name": "#%%\n"
    }
   },
   "outputs": [
    {
     "data": {
      "text/plain": "Bsmt.Qual           79\nBsmt.Cond           79\nBsmtFin.Type.1      79\nBsmtFin.Type.2      80\nBsmt.Exposure       82\nGarage.Type        157\nGarage.Yr.Blt      158\nGarage.Finish      158\nGarage.Qual        158\nGarage.Cond        158\nFireplace.Qu      1419\ndtype: int64"
     },
     "execution_count": 161,
     "metadata": {},
     "output_type": "execute_result"
    }
   ],
   "source": [
    "features_na = [feature for feature in home_price_df.columns if home_price_df[feature].isnull().sum() > 0]\n",
    "home_price_df[features_na].isnull().sum().sort_values()"
   ]
  },
  {
   "cell_type": "markdown",
   "metadata": {
    "pycharm": {
     "name": "#%% md\n"
    }
   },
   "source": [
    "#### Display the rows with 79 to 82 missing values - Bsmt.Qual, Bsmt.Cond, BsmtFin.Type.1, BsmtFin.Type.2 and Bsmt.Exposure"
   ]
  },
  {
   "cell_type": "code",
   "execution_count": 162,
   "metadata": {
    "pycharm": {
     "name": "#%%\n"
    }
   },
   "outputs": [
    {
     "data": {
      "text/plain": "     MS.Zoning Street Lot.Shape Land.Contour Utilities Lot.Config Land.Slope  \\\n66          RL   Pave       Reg          Lvl    AllPub     Inside        Gtl   \n83          RM   Pave       Reg          Lvl    AllPub     Inside        Gtl   \n154         RL   Pave       Reg          Lvl    AllPub     Inside        Gtl   \n206         RM   Pave       Reg          Lvl    AllPub     Inside        Gtl   \n243         RL   Pave       Reg          Low    AllPub     Inside        Gtl   \n...        ...    ...       ...          ...       ...        ...        ...   \n2744        RL   Pave       Reg          Lvl    AllPub     Corner        Gtl   \n2779        RL   Pave       IR1          Lvl    AllPub     Inside        Gtl   \n2879   C (all)   Pave       Reg          Lvl    AllPub     Inside        Gtl   \n2892        RM   Pave       IR1          Lvl    AllPub     Inside        Gtl   \n2903   A (agr)   Pave       Reg          Lvl    AllPub     Inside        Gtl   \n\n     Neighborhood Condition.1 Condition.2  ... Garage.Yr.Blt Garage.Finish  \\\n66        Somerst        Norm        Norm  ...        2005.0           RFn   \n83         Sawyer        RRAe        Norm  ...        1978.0           Unf   \n154         NAmes        Norm        Norm  ...        1967.0           Unf   \n206        IDOTRR        Norm        Norm  ...           NaN           NaN   \n243       Edwards        Norm        Norm  ...        1946.0           Unf   \n...           ...         ...         ...  ...           ...           ...   \n2744      Edwards        Norm        Norm  ...           NaN           NaN   \n2779      CollgCr        Norm        Norm  ...        2002.0           RFn   \n2879       IDOTRR       Feedr        Norm  ...           NaN           NaN   \n2892      GrnHill        Norm        Norm  ...        1986.0           RFn   \n2903      Mitchel      Artery        Norm  ...        1951.0           Unf   \n\n      Garage.Cars  Garage.Area  Garage.Qual Garage.Cond Paved.Drive Sale.Type  \\\n66            3.0        880.0           TA          TA           Y       WD    \n83            2.0        539.0           TA          TA           Y       WD    \n154           1.0        392.0           TA          TA           Y       WD    \n206           0.0          0.0          NaN         NaN           N       WD    \n243           1.0        308.0           TA          TA           Y       WD    \n...           ...          ...          ...         ...         ...       ...   \n2744          0.0          0.0          NaN         NaN           N       WD    \n2779          2.0        474.0           TA          TA           Y       WD    \n2879          0.0          0.0          NaN         NaN           N       WD    \n2892          1.0        312.0           TA          TA           Y       WD    \n2903          1.0        270.0           Fa          TA           N       WD    \n\n     Sale.Condition SalePrice  \n66           Normal    221500  \n83           Normal    112000  \n154          Normal    107500  \n206          Normal     55000  \n243         Abnorml     84900  \n...             ...       ...  \n2744         Normal     93000  \n2779         Normal    192500  \n2879        Abnorml     51689  \n2892         Normal    230000  \n2903         Normal     81500  \n\n[83 rows x 51 columns]",
      "text/html": "<div>\n<style scoped>\n    .dataframe tbody tr th:only-of-type {\n        vertical-align: middle;\n    }\n\n    .dataframe tbody tr th {\n        vertical-align: top;\n    }\n\n    .dataframe thead th {\n        text-align: right;\n    }\n</style>\n<table border=\"1\" class=\"dataframe\">\n  <thead>\n    <tr style=\"text-align: right;\">\n      <th></th>\n      <th>MS.Zoning</th>\n      <th>Street</th>\n      <th>Lot.Shape</th>\n      <th>Land.Contour</th>\n      <th>Utilities</th>\n      <th>Lot.Config</th>\n      <th>Land.Slope</th>\n      <th>Neighborhood</th>\n      <th>Condition.1</th>\n      <th>Condition.2</th>\n      <th>...</th>\n      <th>Garage.Yr.Blt</th>\n      <th>Garage.Finish</th>\n      <th>Garage.Cars</th>\n      <th>Garage.Area</th>\n      <th>Garage.Qual</th>\n      <th>Garage.Cond</th>\n      <th>Paved.Drive</th>\n      <th>Sale.Type</th>\n      <th>Sale.Condition</th>\n      <th>SalePrice</th>\n    </tr>\n  </thead>\n  <tbody>\n    <tr>\n      <th>66</th>\n      <td>RL</td>\n      <td>Pave</td>\n      <td>Reg</td>\n      <td>Lvl</td>\n      <td>AllPub</td>\n      <td>Inside</td>\n      <td>Gtl</td>\n      <td>Somerst</td>\n      <td>Norm</td>\n      <td>Norm</td>\n      <td>...</td>\n      <td>2005.0</td>\n      <td>RFn</td>\n      <td>3.0</td>\n      <td>880.0</td>\n      <td>TA</td>\n      <td>TA</td>\n      <td>Y</td>\n      <td>WD</td>\n      <td>Normal</td>\n      <td>221500</td>\n    </tr>\n    <tr>\n      <th>83</th>\n      <td>RM</td>\n      <td>Pave</td>\n      <td>Reg</td>\n      <td>Lvl</td>\n      <td>AllPub</td>\n      <td>Inside</td>\n      <td>Gtl</td>\n      <td>Sawyer</td>\n      <td>RRAe</td>\n      <td>Norm</td>\n      <td>...</td>\n      <td>1978.0</td>\n      <td>Unf</td>\n      <td>2.0</td>\n      <td>539.0</td>\n      <td>TA</td>\n      <td>TA</td>\n      <td>Y</td>\n      <td>WD</td>\n      <td>Normal</td>\n      <td>112000</td>\n    </tr>\n    <tr>\n      <th>154</th>\n      <td>RL</td>\n      <td>Pave</td>\n      <td>Reg</td>\n      <td>Lvl</td>\n      <td>AllPub</td>\n      <td>Inside</td>\n      <td>Gtl</td>\n      <td>NAmes</td>\n      <td>Norm</td>\n      <td>Norm</td>\n      <td>...</td>\n      <td>1967.0</td>\n      <td>Unf</td>\n      <td>1.0</td>\n      <td>392.0</td>\n      <td>TA</td>\n      <td>TA</td>\n      <td>Y</td>\n      <td>WD</td>\n      <td>Normal</td>\n      <td>107500</td>\n    </tr>\n    <tr>\n      <th>206</th>\n      <td>RM</td>\n      <td>Pave</td>\n      <td>Reg</td>\n      <td>Lvl</td>\n      <td>AllPub</td>\n      <td>Inside</td>\n      <td>Gtl</td>\n      <td>IDOTRR</td>\n      <td>Norm</td>\n      <td>Norm</td>\n      <td>...</td>\n      <td>NaN</td>\n      <td>NaN</td>\n      <td>0.0</td>\n      <td>0.0</td>\n      <td>NaN</td>\n      <td>NaN</td>\n      <td>N</td>\n      <td>WD</td>\n      <td>Normal</td>\n      <td>55000</td>\n    </tr>\n    <tr>\n      <th>243</th>\n      <td>RL</td>\n      <td>Pave</td>\n      <td>Reg</td>\n      <td>Low</td>\n      <td>AllPub</td>\n      <td>Inside</td>\n      <td>Gtl</td>\n      <td>Edwards</td>\n      <td>Norm</td>\n      <td>Norm</td>\n      <td>...</td>\n      <td>1946.0</td>\n      <td>Unf</td>\n      <td>1.0</td>\n      <td>308.0</td>\n      <td>TA</td>\n      <td>TA</td>\n      <td>Y</td>\n      <td>WD</td>\n      <td>Abnorml</td>\n      <td>84900</td>\n    </tr>\n    <tr>\n      <th>...</th>\n      <td>...</td>\n      <td>...</td>\n      <td>...</td>\n      <td>...</td>\n      <td>...</td>\n      <td>...</td>\n      <td>...</td>\n      <td>...</td>\n      <td>...</td>\n      <td>...</td>\n      <td>...</td>\n      <td>...</td>\n      <td>...</td>\n      <td>...</td>\n      <td>...</td>\n      <td>...</td>\n      <td>...</td>\n      <td>...</td>\n      <td>...</td>\n      <td>...</td>\n      <td>...</td>\n    </tr>\n    <tr>\n      <th>2744</th>\n      <td>RL</td>\n      <td>Pave</td>\n      <td>Reg</td>\n      <td>Lvl</td>\n      <td>AllPub</td>\n      <td>Corner</td>\n      <td>Gtl</td>\n      <td>Edwards</td>\n      <td>Norm</td>\n      <td>Norm</td>\n      <td>...</td>\n      <td>NaN</td>\n      <td>NaN</td>\n      <td>0.0</td>\n      <td>0.0</td>\n      <td>NaN</td>\n      <td>NaN</td>\n      <td>N</td>\n      <td>WD</td>\n      <td>Normal</td>\n      <td>93000</td>\n    </tr>\n    <tr>\n      <th>2779</th>\n      <td>RL</td>\n      <td>Pave</td>\n      <td>IR1</td>\n      <td>Lvl</td>\n      <td>AllPub</td>\n      <td>Inside</td>\n      <td>Gtl</td>\n      <td>CollgCr</td>\n      <td>Norm</td>\n      <td>Norm</td>\n      <td>...</td>\n      <td>2002.0</td>\n      <td>RFn</td>\n      <td>2.0</td>\n      <td>474.0</td>\n      <td>TA</td>\n      <td>TA</td>\n      <td>Y</td>\n      <td>WD</td>\n      <td>Normal</td>\n      <td>192500</td>\n    </tr>\n    <tr>\n      <th>2879</th>\n      <td>C (all)</td>\n      <td>Pave</td>\n      <td>Reg</td>\n      <td>Lvl</td>\n      <td>AllPub</td>\n      <td>Inside</td>\n      <td>Gtl</td>\n      <td>IDOTRR</td>\n      <td>Feedr</td>\n      <td>Norm</td>\n      <td>...</td>\n      <td>NaN</td>\n      <td>NaN</td>\n      <td>0.0</td>\n      <td>0.0</td>\n      <td>NaN</td>\n      <td>NaN</td>\n      <td>N</td>\n      <td>WD</td>\n      <td>Abnorml</td>\n      <td>51689</td>\n    </tr>\n    <tr>\n      <th>2892</th>\n      <td>RM</td>\n      <td>Pave</td>\n      <td>IR1</td>\n      <td>Lvl</td>\n      <td>AllPub</td>\n      <td>Inside</td>\n      <td>Gtl</td>\n      <td>GrnHill</td>\n      <td>Norm</td>\n      <td>Norm</td>\n      <td>...</td>\n      <td>1986.0</td>\n      <td>RFn</td>\n      <td>1.0</td>\n      <td>312.0</td>\n      <td>TA</td>\n      <td>TA</td>\n      <td>Y</td>\n      <td>WD</td>\n      <td>Normal</td>\n      <td>230000</td>\n    </tr>\n    <tr>\n      <th>2903</th>\n      <td>A (agr)</td>\n      <td>Pave</td>\n      <td>Reg</td>\n      <td>Lvl</td>\n      <td>AllPub</td>\n      <td>Inside</td>\n      <td>Gtl</td>\n      <td>Mitchel</td>\n      <td>Artery</td>\n      <td>Norm</td>\n      <td>...</td>\n      <td>1951.0</td>\n      <td>Unf</td>\n      <td>1.0</td>\n      <td>270.0</td>\n      <td>Fa</td>\n      <td>TA</td>\n      <td>N</td>\n      <td>WD</td>\n      <td>Normal</td>\n      <td>81500</td>\n    </tr>\n  </tbody>\n</table>\n<p>83 rows × 51 columns</p>\n</div>"
     },
     "execution_count": 162,
     "metadata": {},
     "output_type": "execute_result"
    }
   ],
   "source": [
    "home_price_df[home_price_df['Bsmt.Qual'].isnull() | home_price_df['Bsmt.Cond'].isnull() | home_price_df['BsmtFin.Type.1'].isnull() | home_price_df['BsmtFin.Type.2'].isnull() | home_price_df['Bsmt.Exposure'].isnull()]"
   ]
  },
  {
   "cell_type": "markdown",
   "metadata": {
    "pycharm": {
     "name": "#%% md\n"
    }
   },
   "source": [
    "#### Fix index 444 - missing value for BsmtFin.Type.2\n",
    "\n",
    "BsmtFin Type 1\t(Ordinal): Rating of basement finished area\n",
    "BsmtFin Type 2\t(Ordinal): Rating of basement finished area (if multiple types)\n",
    "\n",
    "    - GLQ\tGood Living Quarters\n",
    "    - ALQ\tAverage Living Quarters\n",
    "    - BLQ\tBelow Average Living Quarters\n",
    "    - Rec\tAverage Rec Room\n",
    "    - LwQ\tLow Quality\n",
    "    - Unf\tUnfinshed\n",
    "    - NA\tNo Basement\n",
    "\n",
    "\n",
    "Since BsmtFin.Type.1 is GLQ, we will set BsmtFin.Type.2 to GLQ as well"
   ]
  },
  {
   "cell_type": "code",
   "execution_count": 163,
   "metadata": {
    "pycharm": {
     "name": "#%%\n"
    }
   },
   "outputs": [],
   "source": [
    "home_price_df.loc[444, 'BsmtFin.Type.2'] = 'GLQ'"
   ]
  },
  {
   "cell_type": "markdown",
   "metadata": {
    "pycharm": {
     "name": "#%% md\n"
    }
   },
   "source": [
    "#### Replace missing values for Bsmt.Qual, Bsmt.Cond, BsmtFin.Type.1, BsmtFin.Type.2, and Bsmt.Exposure with 'NA'"
   ]
  },
  {
   "cell_type": "code",
   "execution_count": 164,
   "metadata": {
    "pycharm": {
     "name": "#%%\n"
    }
   },
   "outputs": [],
   "source": [
    "home_price_df['Bsmt.Qual'].fillna('NA', inplace=True)\n",
    "home_price_df['Bsmt.Cond'].fillna('NA', inplace=True)\n",
    "home_price_df['BsmtFin.Type.1'].fillna('NA', inplace=True)\n",
    "home_price_df['BsmtFin.Type.2'].fillna('NA', inplace=True)\n",
    "home_price_df['Bsmt.Exposure'].fillna('NA', inplace=True)"
   ]
  },
  {
   "cell_type": "markdown",
   "metadata": {
    "pycharm": {
     "name": "#%% md\n"
    }
   },
   "source": [
    "#### Display the count of values that are missing (take 4)"
   ]
  },
  {
   "cell_type": "code",
   "execution_count": 165,
   "metadata": {
    "pycharm": {
     "name": "#%%\n"
    }
   },
   "outputs": [
    {
     "data": {
      "text/plain": "Garage.Type       157\nGarage.Yr.Blt     158\nGarage.Finish     158\nGarage.Qual       158\nGarage.Cond       158\nFireplace.Qu     1419\ndtype: int64"
     },
     "execution_count": 165,
     "metadata": {},
     "output_type": "execute_result"
    }
   ],
   "source": [
    "features_na = [feature for feature in home_price_df.columns if home_price_df[feature].isnull().sum() > 0]\n",
    "home_price_df[features_na].isnull().sum().sort_values()"
   ]
  },
  {
   "cell_type": "markdown",
   "metadata": {
    "pycharm": {
     "name": "#%% md\n"
    }
   },
   "source": [
    "#### Display the rows with 157 to 158 missing values - Garage.Type, Garage.Yr.Blt, Garage.Finish, Garage.Qual, and Garage.Cond\n",
    "\n",
    "The row with index **1356** has a `Garage.Type` of 'Detchd', `Garage.Cars` of 1.0, and `Garage.Area` of 360.0"
   ]
  },
  {
   "cell_type": "code",
   "execution_count": 166,
   "metadata": {
    "pycharm": {
     "name": "#%%\n"
    }
   },
   "outputs": [
    {
     "data": {
      "text/plain": "     MS.Zoning Street Lot.Shape Land.Contour Utilities Lot.Config Land.Slope  \\\n27          RL   Pave       Reg          Lvl    AllPub        FR2        Gtl   \n119         RL   Pave       IR1          Lvl    AllPub     Inside        Gtl   \n125         RL   Pave       IR1          Lvl    AllPub     Inside        Gtl   \n129         RL   Pave       IR1          Lvl    AllPub     Inside        Gtl   \n130         RL   Pave       IR1          Lvl    AllPub     Inside        Gtl   \n...        ...    ...       ...          ...       ...        ...        ...   \n2913        RM   Pave       Reg          Lvl    AllPub     Inside        Gtl   \n2916        RM   Pave       Reg          Lvl    AllPub     Inside        Gtl   \n2918        RM   Pave       Reg          Lvl    AllPub     Inside        Gtl   \n2919        RM   Pave       Reg          Lvl    AllPub     Inside        Gtl   \n2927        RL   Pave       Reg          Lvl    AllPub     Inside        Gtl   \n\n     Neighborhood Condition.1 Condition.2  ... Garage.Yr.Blt Garage.Finish  \\\n27          NAmes        Norm        Norm  ...           NaN           NaN   \n119         NAmes        Norm        Norm  ...           NaN           NaN   \n125         NAmes        Norm        Norm  ...           NaN           NaN   \n129       BrkSide        Norm        Norm  ...           NaN           NaN   \n130       BrkSide        Norm        Norm  ...           NaN           NaN   \n...           ...         ...         ...  ...           ...           ...   \n2913      MeadowV        Norm        Norm  ...           NaN           NaN   \n2916      MeadowV        Norm        Norm  ...           NaN           NaN   \n2918      MeadowV        Norm        Norm  ...           NaN           NaN   \n2919      MeadowV        Norm        Norm  ...           NaN           NaN   \n2927      Mitchel        Norm        Norm  ...           NaN           NaN   \n\n      Garage.Cars  Garage.Area  Garage.Qual Garage.Cond Paved.Drive Sale.Type  \\\n27            0.0          0.0          NaN         NaN           Y     ConLI   \n119           0.0          0.0          NaN         NaN           Y       WD    \n125           0.0          0.0          NaN         NaN           Y       Oth   \n129           0.0          0.0          NaN         NaN           Y       WD    \n130           0.0          0.0          NaN         NaN           Y       WD    \n...           ...          ...          ...         ...         ...       ...   \n2913          0.0          0.0          NaN         NaN           Y       WD    \n2916          0.0          0.0          NaN         NaN           Y       WD    \n2918          0.0          0.0          NaN         NaN           Y       WD    \n2919          0.0          0.0          NaN         NaN           Y       WD    \n2927          0.0          0.0          NaN         NaN           Y       WD    \n\n     Sale.Condition SalePrice  \n27           Normal    115000  \n119          Normal    128950  \n125         Abnorml     84900  \n129          Normal    116500  \n130          Normal     76500  \n...             ...       ...  \n2913         Normal     73000  \n2916        Abnorml     92000  \n2918         Normal     79500  \n2919         Normal     90500  \n2927         Normal    132000  \n\n[158 rows x 51 columns]",
      "text/html": "<div>\n<style scoped>\n    .dataframe tbody tr th:only-of-type {\n        vertical-align: middle;\n    }\n\n    .dataframe tbody tr th {\n        vertical-align: top;\n    }\n\n    .dataframe thead th {\n        text-align: right;\n    }\n</style>\n<table border=\"1\" class=\"dataframe\">\n  <thead>\n    <tr style=\"text-align: right;\">\n      <th></th>\n      <th>MS.Zoning</th>\n      <th>Street</th>\n      <th>Lot.Shape</th>\n      <th>Land.Contour</th>\n      <th>Utilities</th>\n      <th>Lot.Config</th>\n      <th>Land.Slope</th>\n      <th>Neighborhood</th>\n      <th>Condition.1</th>\n      <th>Condition.2</th>\n      <th>...</th>\n      <th>Garage.Yr.Blt</th>\n      <th>Garage.Finish</th>\n      <th>Garage.Cars</th>\n      <th>Garage.Area</th>\n      <th>Garage.Qual</th>\n      <th>Garage.Cond</th>\n      <th>Paved.Drive</th>\n      <th>Sale.Type</th>\n      <th>Sale.Condition</th>\n      <th>SalePrice</th>\n    </tr>\n  </thead>\n  <tbody>\n    <tr>\n      <th>27</th>\n      <td>RL</td>\n      <td>Pave</td>\n      <td>Reg</td>\n      <td>Lvl</td>\n      <td>AllPub</td>\n      <td>FR2</td>\n      <td>Gtl</td>\n      <td>NAmes</td>\n      <td>Norm</td>\n      <td>Norm</td>\n      <td>...</td>\n      <td>NaN</td>\n      <td>NaN</td>\n      <td>0.0</td>\n      <td>0.0</td>\n      <td>NaN</td>\n      <td>NaN</td>\n      <td>Y</td>\n      <td>ConLI</td>\n      <td>Normal</td>\n      <td>115000</td>\n    </tr>\n    <tr>\n      <th>119</th>\n      <td>RL</td>\n      <td>Pave</td>\n      <td>IR1</td>\n      <td>Lvl</td>\n      <td>AllPub</td>\n      <td>Inside</td>\n      <td>Gtl</td>\n      <td>NAmes</td>\n      <td>Norm</td>\n      <td>Norm</td>\n      <td>...</td>\n      <td>NaN</td>\n      <td>NaN</td>\n      <td>0.0</td>\n      <td>0.0</td>\n      <td>NaN</td>\n      <td>NaN</td>\n      <td>Y</td>\n      <td>WD</td>\n      <td>Normal</td>\n      <td>128950</td>\n    </tr>\n    <tr>\n      <th>125</th>\n      <td>RL</td>\n      <td>Pave</td>\n      <td>IR1</td>\n      <td>Lvl</td>\n      <td>AllPub</td>\n      <td>Inside</td>\n      <td>Gtl</td>\n      <td>NAmes</td>\n      <td>Norm</td>\n      <td>Norm</td>\n      <td>...</td>\n      <td>NaN</td>\n      <td>NaN</td>\n      <td>0.0</td>\n      <td>0.0</td>\n      <td>NaN</td>\n      <td>NaN</td>\n      <td>Y</td>\n      <td>Oth</td>\n      <td>Abnorml</td>\n      <td>84900</td>\n    </tr>\n    <tr>\n      <th>129</th>\n      <td>RL</td>\n      <td>Pave</td>\n      <td>IR1</td>\n      <td>Lvl</td>\n      <td>AllPub</td>\n      <td>Inside</td>\n      <td>Gtl</td>\n      <td>BrkSide</td>\n      <td>Norm</td>\n      <td>Norm</td>\n      <td>...</td>\n      <td>NaN</td>\n      <td>NaN</td>\n      <td>0.0</td>\n      <td>0.0</td>\n      <td>NaN</td>\n      <td>NaN</td>\n      <td>Y</td>\n      <td>WD</td>\n      <td>Normal</td>\n      <td>116500</td>\n    </tr>\n    <tr>\n      <th>130</th>\n      <td>RL</td>\n      <td>Pave</td>\n      <td>IR1</td>\n      <td>Lvl</td>\n      <td>AllPub</td>\n      <td>Inside</td>\n      <td>Gtl</td>\n      <td>BrkSide</td>\n      <td>Norm</td>\n      <td>Norm</td>\n      <td>...</td>\n      <td>NaN</td>\n      <td>NaN</td>\n      <td>0.0</td>\n      <td>0.0</td>\n      <td>NaN</td>\n      <td>NaN</td>\n      <td>Y</td>\n      <td>WD</td>\n      <td>Normal</td>\n      <td>76500</td>\n    </tr>\n    <tr>\n      <th>...</th>\n      <td>...</td>\n      <td>...</td>\n      <td>...</td>\n      <td>...</td>\n      <td>...</td>\n      <td>...</td>\n      <td>...</td>\n      <td>...</td>\n      <td>...</td>\n      <td>...</td>\n      <td>...</td>\n      <td>...</td>\n      <td>...</td>\n      <td>...</td>\n      <td>...</td>\n      <td>...</td>\n      <td>...</td>\n      <td>...</td>\n      <td>...</td>\n      <td>...</td>\n      <td>...</td>\n    </tr>\n    <tr>\n      <th>2913</th>\n      <td>RM</td>\n      <td>Pave</td>\n      <td>Reg</td>\n      <td>Lvl</td>\n      <td>AllPub</td>\n      <td>Inside</td>\n      <td>Gtl</td>\n      <td>MeadowV</td>\n      <td>Norm</td>\n      <td>Norm</td>\n      <td>...</td>\n      <td>NaN</td>\n      <td>NaN</td>\n      <td>0.0</td>\n      <td>0.0</td>\n      <td>NaN</td>\n      <td>NaN</td>\n      <td>Y</td>\n      <td>WD</td>\n      <td>Normal</td>\n      <td>73000</td>\n    </tr>\n    <tr>\n      <th>2916</th>\n      <td>RM</td>\n      <td>Pave</td>\n      <td>Reg</td>\n      <td>Lvl</td>\n      <td>AllPub</td>\n      <td>Inside</td>\n      <td>Gtl</td>\n      <td>MeadowV</td>\n      <td>Norm</td>\n      <td>Norm</td>\n      <td>...</td>\n      <td>NaN</td>\n      <td>NaN</td>\n      <td>0.0</td>\n      <td>0.0</td>\n      <td>NaN</td>\n      <td>NaN</td>\n      <td>Y</td>\n      <td>WD</td>\n      <td>Abnorml</td>\n      <td>92000</td>\n    </tr>\n    <tr>\n      <th>2918</th>\n      <td>RM</td>\n      <td>Pave</td>\n      <td>Reg</td>\n      <td>Lvl</td>\n      <td>AllPub</td>\n      <td>Inside</td>\n      <td>Gtl</td>\n      <td>MeadowV</td>\n      <td>Norm</td>\n      <td>Norm</td>\n      <td>...</td>\n      <td>NaN</td>\n      <td>NaN</td>\n      <td>0.0</td>\n      <td>0.0</td>\n      <td>NaN</td>\n      <td>NaN</td>\n      <td>Y</td>\n      <td>WD</td>\n      <td>Normal</td>\n      <td>79500</td>\n    </tr>\n    <tr>\n      <th>2919</th>\n      <td>RM</td>\n      <td>Pave</td>\n      <td>Reg</td>\n      <td>Lvl</td>\n      <td>AllPub</td>\n      <td>Inside</td>\n      <td>Gtl</td>\n      <td>MeadowV</td>\n      <td>Norm</td>\n      <td>Norm</td>\n      <td>...</td>\n      <td>NaN</td>\n      <td>NaN</td>\n      <td>0.0</td>\n      <td>0.0</td>\n      <td>NaN</td>\n      <td>NaN</td>\n      <td>Y</td>\n      <td>WD</td>\n      <td>Normal</td>\n      <td>90500</td>\n    </tr>\n    <tr>\n      <th>2927</th>\n      <td>RL</td>\n      <td>Pave</td>\n      <td>Reg</td>\n      <td>Lvl</td>\n      <td>AllPub</td>\n      <td>Inside</td>\n      <td>Gtl</td>\n      <td>Mitchel</td>\n      <td>Norm</td>\n      <td>Norm</td>\n      <td>...</td>\n      <td>NaN</td>\n      <td>NaN</td>\n      <td>0.0</td>\n      <td>0.0</td>\n      <td>NaN</td>\n      <td>NaN</td>\n      <td>Y</td>\n      <td>WD</td>\n      <td>Normal</td>\n      <td>132000</td>\n    </tr>\n  </tbody>\n</table>\n<p>158 rows × 51 columns</p>\n</div>"
     },
     "execution_count": 166,
     "metadata": {},
     "output_type": "execute_result"
    }
   ],
   "source": [
    "home_price_df[home_price_df['Garage.Type'].isnull() | home_price_df['Garage.Yr.Blt'].isnull() | home_price_df['Garage.Finish'].isnull() | home_price_df['Garage.Qual'].isnull() | home_price_df['Garage.Cond'].isnull()]"
   ]
  },
  {
   "cell_type": "markdown",
   "metadata": {
    "pycharm": {
     "name": "#%% md\n"
    }
   },
   "source": [
    "#### Display the values for features Year.Built and Year.Remod.Add for index 1356"
   ]
  },
  {
   "cell_type": "code",
   "execution_count": 167,
   "metadata": {
    "pycharm": {
     "name": "#%%\n"
    }
   },
   "outputs": [
    {
     "data": {
      "text/plain": "      Year.Built  Year.Remod.Add  Garage.Yr.Blt\n1356        1910            1983            NaN",
      "text/html": "<div>\n<style scoped>\n    .dataframe tbody tr th:only-of-type {\n        vertical-align: middle;\n    }\n\n    .dataframe tbody tr th {\n        vertical-align: top;\n    }\n\n    .dataframe thead th {\n        text-align: right;\n    }\n</style>\n<table border=\"1\" class=\"dataframe\">\n  <thead>\n    <tr style=\"text-align: right;\">\n      <th></th>\n      <th>Year.Built</th>\n      <th>Year.Remod.Add</th>\n      <th>Garage.Yr.Blt</th>\n    </tr>\n  </thead>\n  <tbody>\n    <tr>\n      <th>1356</th>\n      <td>1910</td>\n      <td>1983</td>\n      <td>NaN</td>\n    </tr>\n  </tbody>\n</table>\n</div>"
     },
     "execution_count": 167,
     "metadata": {},
     "output_type": "execute_result"
    }
   ],
   "source": [
    "home_price_df.loc[[1356], ['Year.Built', 'Year.Remod.Add', 'Garage.Yr.Blt']]"
   ]
  },
  {
   "cell_type": "markdown",
   "metadata": {
    "pycharm": {
     "name": "#%% md\n"
    }
   },
   "source": [
    "#### Display a count plot for Garage.Finish"
   ]
  },
  {
   "cell_type": "code",
   "execution_count": 168,
   "metadata": {
    "pycharm": {
     "name": "#%%\n"
    }
   },
   "outputs": [
    {
     "data": {
      "text/plain": "<Figure size 576x396 with 1 Axes>",
      "image/png": "[encoded data removed]"
     },
     "metadata": {},
     "output_type": "display_data"
    }
   ],
   "source": [
    "sns.countplot(x='Garage.Finish', data=home_price_df)\n",
    "plt.show()"
   ]
  },
  {
   "cell_type": "markdown",
   "metadata": {
    "pycharm": {
     "name": "#%% md\n"
    }
   },
   "source": [
    "#### Display a count plot for Garage.Qual"
   ]
  },
  {
   "cell_type": "code",
   "execution_count": 169,
   "metadata": {
    "pycharm": {
     "name": "#%%\n"
    }
   },
   "outputs": [
    {
     "data": {
      "text/plain": "<Figure size 576x396 with 1 Axes>",
      "image/png": "[encoded data removed]"
     },
     "metadata": {},
     "output_type": "display_data"
    }
   ],
   "source": [
    "sns.countplot(x='Garage.Qual', data=home_price_df)\n",
    "plt.show()"
   ]
  },
  {
   "cell_type": "markdown",
   "metadata": {
    "pycharm": {
     "name": "#%% md\n"
    }
   },
   "source": [
    "#### Display a count plot for Garage.Cond"
   ]
  },
  {
   "cell_type": "code",
   "execution_count": 170,
   "metadata": {
    "pycharm": {
     "name": "#%%\n"
    }
   },
   "outputs": [
    {
     "data": {
      "text/plain": "<Figure size 576x396 with 1 Axes>",
      "image/png": "[encoded data removed]"
     },
     "metadata": {},
     "output_type": "display_data"
    }
   ],
   "source": [
    "sns.countplot(x='Garage.Cond', data=home_price_df)\n",
    "plt.show()"
   ]
  },
  {
   "cell_type": "markdown",
   "metadata": {
    "pycharm": {
     "name": "#%% md\n"
    }
   },
   "source": [
    "#### Fix index 1356 - missing values for Garage.Yr.Blt, Garage.Finish, Garage.Qual, Garage.Cond\n",
    "\n",
    "We will use the Year.Built to fill in Garage.Yr.Blt, 'Unf' to fill Garage.Finish, 'TA' for both Garage.Qual and Garage.Cond"
   ]
  },
  {
   "cell_type": "code",
   "execution_count": 171,
   "metadata": {
    "pycharm": {
     "name": "#%%\n"
    }
   },
   "outputs": [],
   "source": [
    "home_price_df.loc[1356, 'Garage.Yr.Blt'] = home_price_df.loc[1356, 'Year.Built']\n",
    "home_price_df.loc[1356, 'Garage.Finish'] = 'Unf'\n",
    "home_price_df.loc[1356, 'Garage.Qual'] = 'TA'\n",
    "home_price_df.loc[1356, 'Garage.Cond'] = 'TA'"
   ]
  },
  {
   "cell_type": "markdown",
   "metadata": {
    "pycharm": {
     "name": "#%% md\n"
    }
   },
   "source": [
    "#### Replace missing values for Garage.Yr.Blt with **ZERO (0)** AND Garage.Type, Garage.Finish, Garage.Qual, and Garage.Cond with 'NA'"
   ]
  },
  {
   "cell_type": "code",
   "execution_count": 172,
   "metadata": {
    "pycharm": {
     "name": "#%%\n"
    }
   },
   "outputs": [],
   "source": [
    "home_price_df['Garage.Yr.Blt'].fillna(0, inplace=True)\n",
    "home_price_df['Garage.Type'].fillna('NA', inplace=True)\n",
    "home_price_df['Garage.Finish'].fillna('NA', inplace=True)\n",
    "home_price_df['Garage.Qual'].fillna('NA', inplace=True)\n",
    "home_price_df['Garage.Cond'].fillna('NA', inplace=True)"
   ]
  },
  {
   "cell_type": "markdown",
   "metadata": {
    "pycharm": {
     "name": "#%% md\n"
    }
   },
   "source": [
    "#### Replace Fireplace.Qu missing values with 'NA'\n",
    "\n",
    "The following are the acceptable values from the data dictionary:\n",
    "\n",
    "- Ex\tExcellent - Exceptional Masonry Fireplace\n",
    "- Gd\tGood - Masonry Fireplace in main level\n",
    "- TA\tAverage - Prefabricated Fireplace in main living area or Masonry Fireplace in basement\n",
    "- Fa\tFair - Prefabricated Fireplace in basement\n",
    "- Po\tPoor - Ben Franklin Stove\n",
    "- NA\tNo Fireplace\n",
    "\n",
    "We will use 'NA' to fill the missing values"
   ]
  },
  {
   "cell_type": "code",
   "execution_count": 173,
   "metadata": {
    "pycharm": {
     "name": "#%%\n"
    }
   },
   "outputs": [],
   "source": [
    "home_price_df['Fireplace.Qu'].fillna('NA', inplace=True)"
   ]
  },
  {
   "cell_type": "markdown",
   "metadata": {
    "pycharm": {
     "name": "#%% md\n"
    }
   },
   "source": [
    "#### Ensure there are no more missing values"
   ]
  },
  {
   "cell_type": "code",
   "execution_count": 174,
   "metadata": {
    "pycharm": {
     "name": "#%%\n"
    }
   },
   "outputs": [
    {
     "data": {
      "text/plain": "MS.Zoning         0\nStreet            0\nLot.Shape         0\nLand.Contour      0\nUtilities         0\nLot.Config        0\nLand.Slope        0\nNeighborhood      0\nCondition.1       0\nCondition.2       0\nBldg.Type         0\nHouse.Style       0\nOverall.Qual      0\nYear.Built        0\nYear.Remod.Add    0\nRoof.Style        0\nRoof.Matl         0\nExterior.1st      0\nExterior.2nd      0\nMas.Vnr.Type      0\nMas.Vnr.Area      0\nExter.Qual        0\nExter.Cond        0\nFoundation        0\nBsmt.Qual         0\nBsmt.Cond         0\nBsmt.Exposure     0\nBsmtFin.Type.1    0\nBsmtFin.Type.2    0\nTotal.Bsmt.SF     0\nHeating           0\nHeating.QC        0\nCentral.Air       0\nElectrical        0\nX1st.Flr.SF       0\nFull.Bath         0\nKitchen.Qual      0\nTotRms.AbvGrd     0\nFunctional        0\nFireplace.Qu      0\nGarage.Type       0\nGarage.Yr.Blt     0\nGarage.Finish     0\nGarage.Cars       0\nGarage.Area       0\nGarage.Qual       0\nGarage.Cond       0\nPaved.Drive       0\nSale.Type         0\nSale.Condition    0\nSalePrice         0\ndtype: int64"
     },
     "execution_count": 174,
     "metadata": {},
     "output_type": "execute_result"
    }
   ],
   "source": [
    "home_price_df.isnull().sum()"
   ]
  },
  {
   "cell_type": "markdown",
   "metadata": {
    "pycharm": {
     "name": "#%% md\n"
    }
   },
   "source": [
    "#### Save the cleansed data set to a csv file"
   ]
  },
  {
   "cell_type": "code",
   "execution_count": 175,
   "metadata": {
    "pycharm": {
     "name": "#%%\n"
    }
   },
   "outputs": [],
   "source": [
    "home_price_df.to_csv('./data/ames-imputed.csv', index=False)"
   ]
  }
 ],
 "metadata": {
  "kernelspec": {
   "display_name": "Python 3 (ipykernel)",
   "language": "python",
   "name": "python3"
  },
  "language_info": {
   "codemirror_mode": {
    "name": "ipython",
    "version": 3
   },
   "file_extension": ".py",
   "mimetype": "text/x-python",
   "name": "python",
   "nbconvert_exporter": "python",
   "pygments_lexer": "ipython3",
   "version": "3.8.10"
  }
 },
 "nbformat": 4,
 "nbformat_minor": 1
}