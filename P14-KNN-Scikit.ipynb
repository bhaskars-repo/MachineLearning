{
 "cells": [
  {
   "cell_type": "markdown",
   "source": [
    "# K Nearest Neighbors using Scikit-Learn"
   ],
   "metadata": {
    "collapsed": false,
    "pycharm": {
     "name": "#%% md\n"
    }
   }
  },
  {
   "cell_type": "markdown",
   "source": [
    "#### Python Imports"
   ],
   "metadata": {
    "collapsed": false,
    "pycharm": {
     "name": "#%% md\n"
    }
   }
  },
  {
   "cell_type": "code",
   "execution_count": 18,
   "outputs": [],
   "source": [
    "import pandas as pd\n",
    "import matplotlib.pyplot as plt\n",
    "from sklearn.preprocessing import StandardScaler\n",
    "from sklearn.model_selection import train_test_split, GridSearchCV\n",
    "from sklearn.neighbors import KNeighborsClassifier\n",
    "from sklearn.metrics import accuracy_score"
   ],
   "metadata": {
    "collapsed": false,
    "pycharm": {
     "name": "#%%\n"
    }
   }
  },
  {
   "cell_type": "code",
   "execution_count": 19,
   "outputs": [],
   "source": [
    "%matplotlib inline\n",
    "plt.style.use('seaborn')"
   ],
   "metadata": {
    "collapsed": false,
    "pycharm": {
     "name": "#%%\n"
    }
   }
  },
  {
   "cell_type": "markdown",
   "source": [
    "#### Python Function to Illustrate KNN"
   ],
   "metadata": {
    "collapsed": false,
    "pycharm": {
     "name": "#%% md\n"
    }
   }
  },
  {
   "cell_type": "code",
   "execution_count": 20,
   "outputs": [],
   "source": [
    "def knn_visual(s):\n",
    "    r_x = [1.0, 1.5, 2.0, 2.5, 3.0]\n",
    "    r_y = [1.8, 2.4, 1.1, 2.2, 2.3]\n",
    "    b_x = [4.5, 5.0, 5.5, 6.0]\n",
    "    b_y = [4.2, 3.8, 4.4, 4.0]\n",
    "    plt.xlim(0.0, 7.0)\n",
    "    plt.ylim(0.0, 7.0)\n",
    "    plt.scatter(r_x, r_y, color='salmon', marker='D')\n",
    "    plt.scatter(b_x, b_y, color='dodgerblue', marker='s')\n",
    "    if s > 1:\n",
    "        plt.plot(3.5, 3.1, marker='o', markerfacecolor='limegreen', markersize=10)\n",
    "    if s > 2:\n",
    "        plt.plot([3.5, 3.0], [3.1, 2.3], color='gray', linestyle='--')\n",
    "        plt.annotate('0.80', xy=(3.3, 2.5), fontsize=11, weight='bold', color='gray')\n",
    "        plt.plot([3.5, 2.5], [3.1, 2.2], color='gray', linestyle='--')\n",
    "        plt.annotate('1.35', xy=(2.6, 2.7), fontsize=11, weight='bold', color='gray')\n",
    "        plt.plot([3.5, 4.5], [3.1, 4.2], color='gray', linestyle='--')\n",
    "        plt.annotate('1.49', xy=(3.6, 3.7), fontsize=11, weight='bold', color='gray')\n",
    "    plt.show()"
   ],
   "metadata": {
    "collapsed": false,
    "pycharm": {
     "name": "#%%\n"
    }
   }
  },
  {
   "cell_type": "markdown",
   "source": [
    "#### KNN Concept Illustrations"
   ],
   "metadata": {
    "collapsed": false,
    "pycharm": {
     "name": "#%% md\n"
    }
   }
  },
  {
   "cell_type": "code",
   "execution_count": 21,
   "outputs": [
    {
     "data": {
      "text/plain": "<Figure size 576x396 with 1 Axes>",
      "image/png": "[encoded data removed]"
     },
     "metadata": {},
     "output_type": "display_data"
    }
   ],
   "source": [
    "knn_visual(1)"
   ],
   "metadata": {
    "collapsed": false,
    "pycharm": {
     "name": "#%%\n"
    }
   }
  },
  {
   "cell_type": "code",
   "execution_count": 22,
   "outputs": [
    {
     "data": {
      "text/plain": "<Figure size 576x396 with 1 Axes>",
      "image/png": "[encoded data removed]"
     },
     "metadata": {},
     "output_type": "display_data"
    }
   ],
   "source": [
    "knn_visual(2)"
   ],
   "metadata": {
    "collapsed": false,
    "pycharm": {
     "name": "#%%\n"
    }
   }
  },
  {
   "cell_type": "code",
   "execution_count": 23,
   "outputs": [
    {
     "data": {
      "text/plain": "<Figure size 576x396 with 1 Axes>",
      "image/png": "[encoded data removed]"
     },
     "metadata": {},
     "output_type": "display_data"
    }
   ],
   "source": [
    "knn_visual(3)"
   ],
   "metadata": {
    "collapsed": false,
    "pycharm": {
     "name": "#%%\n"
    }
   }
  },
  {
   "cell_type": "markdown",
   "source": [
    "#### Load and Display the Glass Identification Data Set\n",
    "Source: [UCI Machine Learning Repository - Glass Identification Data Set](https://archive.ics.uci.edu/ml/machine-learning-databases/glass/glass.data)\n",
    "\n",
    "**Attribute**\n",
    "\n",
    "1. Id number: 1 to 214\n",
    "2. RI: refractive index\n",
    "3. Na: Sodium (unit measurement: weight percent in corresponding oxide, as are attributes 4-10)\n",
    "4. Mg: Magnesium\n",
    "5. Al: Aluminum\n",
    "6. Si: Silicon\n",
    "7. K: Potassium\n",
    "8. Ca: Calcium\n",
    "9. Ba: Barium\n",
    "10. Fe: Iron\n",
    "11. Type of glass: (class attribute)\n",
    "    - 1 building_windows_float_processed\n",
    "    - 2 building_windows_non_float_processed\n",
    "    - 3 vehicle_windows_float_processed\n",
    "    - 4 vehicle_windows_non_float_processed (none in this database)\n",
    "    - 5 containers\n",
    "    - 6 tableware\n",
    "    - 7 headlamps"
   ],
   "metadata": {
    "collapsed": false,
    "pycharm": {
     "name": "#%% md\n"
    }
   }
  },
  {
   "cell_type": "code",
   "execution_count": 24,
   "outputs": [
    {
     "data": {
      "text/plain": "     r_index  sodium  magnesium  aluminum  silicon  potassium  calcium  \\\n0    1.52101   13.64       4.49      1.10    71.78       0.06     8.75   \n1    1.51761   13.89       3.60      1.36    72.73       0.48     7.83   \n2    1.51618   13.53       3.55      1.54    72.99       0.39     7.78   \n3    1.51766   13.21       3.69      1.29    72.61       0.57     8.22   \n4    1.51742   13.27       3.62      1.24    73.08       0.55     8.07   \n..       ...     ...        ...       ...      ...        ...      ...   \n209  1.51623   14.14       0.00      2.88    72.61       0.08     9.18   \n210  1.51685   14.92       0.00      1.99    73.06       0.00     8.40   \n211  1.52065   14.36       0.00      2.02    73.42       0.00     8.44   \n212  1.51651   14.38       0.00      1.94    73.61       0.00     8.48   \n213  1.51711   14.23       0.00      2.08    73.36       0.00     8.62   \n\n     barium  iron  glass_type  \n0      0.00   0.0           1  \n1      0.00   0.0           1  \n2      0.00   0.0           1  \n3      0.00   0.0           1  \n4      0.00   0.0           1  \n..      ...   ...         ...  \n209    1.06   0.0           7  \n210    1.59   0.0           7  \n211    1.64   0.0           7  \n212    1.57   0.0           7  \n213    1.67   0.0           7  \n\n[214 rows x 10 columns]",
      "text/html": "<div>\n<style scoped>\n    .dataframe tbody tr th:only-of-type {\n        vertical-align: middle;\n    }\n\n    .dataframe tbody tr th {\n        vertical-align: top;\n    }\n\n    .dataframe thead th {\n        text-align: right;\n    }\n</style>\n<table border=\"1\" class=\"dataframe\">\n  <thead>\n    <tr style=\"text-align: right;\">\n      <th></th>\n      <th>r_index</th>\n      <th>sodium</th>\n      <th>magnesium</th>\n      <th>aluminum</th>\n      <th>silicon</th>\n      <th>potassium</th>\n      <th>calcium</th>\n      <th>barium</th>\n      <th>iron</th>\n      <th>glass_type</th>\n    </tr>\n  </thead>\n  <tbody>\n    <tr>\n      <th>0</th>\n      <td>1.52101</td>\n      <td>13.64</td>\n      <td>4.49</td>\n      <td>1.10</td>\n      <td>71.78</td>\n      <td>0.06</td>\n      <td>8.75</td>\n      <td>0.00</td>\n      <td>0.0</td>\n      <td>1</td>\n    </tr>\n    <tr>\n      <th>1</th>\n      <td>1.51761</td>\n      <td>13.89</td>\n      <td>3.60</td>\n      <td>1.36</td>\n      <td>72.73</td>\n      <td>0.48</td>\n      <td>7.83</td>\n      <td>0.00</td>\n      <td>0.0</td>\n      <td>1</td>\n    </tr>\n    <tr>\n      <th>2</th>\n      <td>1.51618</td>\n      <td>13.53</td>\n      <td>3.55</td>\n      <td>1.54</td>\n      <td>72.99</td>\n      <td>0.39</td>\n      <td>7.78</td>\n      <td>0.00</td>\n      <td>0.0</td>\n      <td>1</td>\n    </tr>\n    <tr>\n      <th>3</th>\n      <td>1.51766</td>\n      <td>13.21</td>\n      <td>3.69</td>\n      <td>1.29</td>\n      <td>72.61</td>\n      <td>0.57</td>\n      <td>8.22</td>\n      <td>0.00</td>\n      <td>0.0</td>\n      <td>1</td>\n    </tr>\n    <tr>\n      <th>4</th>\n      <td>1.51742</td>\n      <td>13.27</td>\n      <td>3.62</td>\n      <td>1.24</td>\n      <td>73.08</td>\n      <td>0.55</td>\n      <td>8.07</td>\n      <td>0.00</td>\n      <td>0.0</td>\n      <td>1</td>\n    </tr>\n    <tr>\n      <th>...</th>\n      <td>...</td>\n      <td>...</td>\n      <td>...</td>\n      <td>...</td>\n      <td>...</td>\n      <td>...</td>\n      <td>...</td>\n      <td>...</td>\n      <td>...</td>\n      <td>...</td>\n    </tr>\n    <tr>\n      <th>209</th>\n      <td>1.51623</td>\n      <td>14.14</td>\n      <td>0.00</td>\n      <td>2.88</td>\n      <td>72.61</td>\n      <td>0.08</td>\n      <td>9.18</td>\n      <td>1.06</td>\n      <td>0.0</td>\n      <td>7</td>\n    </tr>\n    <tr>\n      <th>210</th>\n      <td>1.51685</td>\n      <td>14.92</td>\n      <td>0.00</td>\n      <td>1.99</td>\n      <td>73.06</td>\n      <td>0.00</td>\n      <td>8.40</td>\n      <td>1.59</td>\n      <td>0.0</td>\n      <td>7</td>\n    </tr>\n    <tr>\n      <th>211</th>\n      <td>1.52065</td>\n      <td>14.36</td>\n      <td>0.00</td>\n      <td>2.02</td>\n      <td>73.42</td>\n      <td>0.00</td>\n      <td>8.44</td>\n      <td>1.64</td>\n      <td>0.0</td>\n      <td>7</td>\n    </tr>\n    <tr>\n      <th>212</th>\n      <td>1.51651</td>\n      <td>14.38</td>\n      <td>0.00</td>\n      <td>1.94</td>\n      <td>73.61</td>\n      <td>0.00</td>\n      <td>8.48</td>\n      <td>1.57</td>\n      <td>0.0</td>\n      <td>7</td>\n    </tr>\n    <tr>\n      <th>213</th>\n      <td>1.51711</td>\n      <td>14.23</td>\n      <td>0.00</td>\n      <td>2.08</td>\n      <td>73.36</td>\n      <td>0.00</td>\n      <td>8.62</td>\n      <td>1.67</td>\n      <td>0.0</td>\n      <td>7</td>\n    </tr>\n  </tbody>\n</table>\n<p>214 rows × 10 columns</p>\n</div>"
     },
     "execution_count": 24,
     "metadata": {},
     "output_type": "execute_result"
    }
   ],
   "source": [
    "url = 'https://archive.ics.uci.edu/ml/machine-learning-databases/glass/glass.data'\n",
    "glass_df = pd.read_csv(url, header=None)\n",
    "glass_df = glass_df.drop(glass_df.columns[0], axis=1)\n",
    "glass_df.columns = ['r_index', 'sodium', 'magnesium', 'aluminum', 'silicon', 'potassium', 'calcium', 'barium', 'iron', 'glass_type']\n",
    "glass_df"
   ],
   "metadata": {
    "collapsed": false,
    "pycharm": {
     "name": "#%%\n"
    }
   }
  },
  {
   "cell_type": "markdown",
   "source": [
    "#### Display the feature information about the Glass Identification data set"
   ],
   "metadata": {
    "collapsed": false,
    "pycharm": {
     "name": "#%% md\n"
    }
   }
  },
  {
   "cell_type": "code",
   "execution_count": 25,
   "outputs": [
    {
     "name": "stdout",
     "output_type": "stream",
     "text": [
      "<class 'pandas.core.frame.DataFrame'>\n",
      "RangeIndex: 214 entries, 0 to 213\n",
      "Data columns (total 10 columns):\n",
      " #   Column      Non-Null Count  Dtype  \n",
      "---  ------      --------------  -----  \n",
      " 0   r_index     214 non-null    float64\n",
      " 1   sodium      214 non-null    float64\n",
      " 2   magnesium   214 non-null    float64\n",
      " 3   aluminum    214 non-null    float64\n",
      " 4   silicon     214 non-null    float64\n",
      " 5   potassium   214 non-null    float64\n",
      " 6   calcium     214 non-null    float64\n",
      " 7   barium      214 non-null    float64\n",
      " 8   iron        214 non-null    float64\n",
      " 9   glass_type  214 non-null    int64  \n",
      "dtypes: float64(9), int64(1)\n",
      "memory usage: 16.8 KB\n"
     ]
    }
   ],
   "source": [
    "glass_df.info()"
   ],
   "metadata": {
    "collapsed": false,
    "pycharm": {
     "name": "#%%\n"
    }
   }
  },
  {
   "cell_type": "markdown",
   "source": [
    "#### Create the training and test data sets"
   ],
   "metadata": {
    "collapsed": false,
    "pycharm": {
     "name": "#%% md\n"
    }
   }
  },
  {
   "cell_type": "code",
   "execution_count": 26,
   "outputs": [],
   "source": [
    "X_train, X_test, y_train, y_test = train_test_split(glass_df, glass_df['glass_type'], test_size=0.25, random_state=101)\n",
    "X_train = X_train.drop('glass_type', axis=1)\n",
    "X_test = X_test.drop('glass_type', axis=1)"
   ],
   "metadata": {
    "collapsed": false,
    "pycharm": {
     "name": "#%%\n"
    }
   }
  },
  {
   "cell_type": "markdown",
   "source": [
    "#### Scale the training and test data set"
   ],
   "metadata": {
    "collapsed": false,
    "pycharm": {
     "name": "#%% md\n"
    }
   }
  },
  {
   "cell_type": "code",
   "execution_count": 27,
   "outputs": [],
   "source": [
    "scaler = StandardScaler()\n",
    "s_X_train = pd.DataFrame(scaler.fit_transform(X_train), columns=X_train.columns, index=X_train.index)\n",
    "s_X_test = pd.DataFrame(scaler.fit_transform(X_test), columns=X_test.columns, index=X_test.index)"
   ],
   "metadata": {
    "collapsed": false,
    "pycharm": {
     "name": "#%%\n"
    }
   }
  },
  {
   "cell_type": "markdown",
   "source": [
    "#### Initialize and fit the KNN model"
   ],
   "metadata": {
    "collapsed": false,
    "pycharm": {
     "name": "#%% md\n"
    }
   }
  },
  {
   "cell_type": "code",
   "execution_count": 28,
   "outputs": [
    {
     "data": {
      "text/plain": "KNeighborsClassifier(n_neighbors=3)"
     },
     "execution_count": 28,
     "metadata": {},
     "output_type": "execute_result"
    }
   ],
   "source": [
    "model = KNeighborsClassifier(n_neighbors=3)\n",
    "model.fit(s_X_train, y_train)"
   ],
   "metadata": {
    "collapsed": false,
    "pycharm": {
     "name": "#%%\n"
    }
   }
  },
  {
   "cell_type": "markdown",
   "source": [
    "#### Predict the target `glass_type` using the test data set"
   ],
   "metadata": {
    "collapsed": false,
    "pycharm": {
     "name": "#%% md\n"
    }
   }
  },
  {
   "cell_type": "code",
   "execution_count": 29,
   "outputs": [],
   "source": [
    "y_predict = model.predict(s_X_test)"
   ],
   "metadata": {
    "collapsed": false,
    "pycharm": {
     "name": "#%%\n"
    }
   }
  },
  {
   "cell_type": "markdown",
   "source": [
    "#### Display the accuracy score"
   ],
   "metadata": {
    "collapsed": false,
    "pycharm": {
     "name": "#%% md\n"
    }
   }
  },
  {
   "cell_type": "code",
   "execution_count": 30,
   "outputs": [
    {
     "data": {
      "text/plain": "0.6111111111111112"
     },
     "execution_count": 30,
     "metadata": {},
     "output_type": "execute_result"
    }
   ],
   "source": [
    "accuracy_score(y_test, y_predict)"
   ],
   "metadata": {
    "collapsed": false,
    "pycharm": {
     "name": "#%%\n"
    }
   }
  },
  {
   "cell_type": "markdown",
   "source": [
    "#### Perform grid search to find and display the optimal hyperparameter"
   ],
   "metadata": {
    "collapsed": false,
    "pycharm": {
     "name": "#%% md\n"
    }
   }
  },
  {
   "cell_type": "code",
   "execution_count": 35,
   "outputs": [
    {
     "name": "stdout",
     "output_type": "stream",
     "text": [
      "Fitting 5 folds for each of 13 candidates, totalling 65 fits\n"
     ]
    },
    {
     "data": {
      "text/plain": "{'n_neighbors': 1}"
     },
     "execution_count": 35,
     "metadata": {},
     "output_type": "execute_result"
    }
   ],
   "source": [
    "parameters = {\n",
    "    'n_neighbors': range(1, 26, 2)\n",
    "}\n",
    "cv_model = GridSearchCV(estimator=model, param_grid=parameters, cv=5, verbose=1, scoring='accuracy')\n",
    "cv_model.fit(s_X_train, y_train)\n",
    "cv_model.best_params_"
   ],
   "metadata": {
    "collapsed": false,
    "pycharm": {
     "name": "#%%\n"
    }
   }
  },
  {
   "cell_type": "markdown",
   "source": [
    "#### Re-Initialize and fit the Gaussian Naive Bayes model with the optimal hyperparameter"
   ],
   "metadata": {
    "collapsed": false,
    "pycharm": {
     "name": "#%% md\n"
    }
   }
  },
  {
   "cell_type": "code",
   "execution_count": 32,
   "outputs": [
    {
     "data": {
      "text/plain": "KNeighborsClassifier(n_neighbors=1)"
     },
     "execution_count": 32,
     "metadata": {},
     "output_type": "execute_result"
    }
   ],
   "source": [
    "model = KNeighborsClassifier(n_neighbors=1)\n",
    "model.fit(s_X_train, y_train)"
   ],
   "metadata": {
    "collapsed": false,
    "pycharm": {
     "name": "#%%\n"
    }
   }
  },
  {
   "cell_type": "markdown",
   "source": [
    "#### Predict the target `glass_type` using the test data set"
   ],
   "metadata": {
    "collapsed": false,
    "pycharm": {
     "name": "#%% md\n"
    }
   }
  },
  {
   "cell_type": "code",
   "execution_count": 33,
   "outputs": [],
   "source": [
    "y_predict = model.predict(s_X_test)"
   ],
   "metadata": {
    "collapsed": false,
    "pycharm": {
     "name": "#%%\n"
    }
   }
  },
  {
   "cell_type": "markdown",
   "source": [
    "#### Display the accuracy score"
   ],
   "metadata": {
    "collapsed": false,
    "pycharm": {
     "name": "#%% md\n"
    }
   }
  },
  {
   "cell_type": "code",
   "execution_count": 34,
   "outputs": [
    {
     "data": {
      "text/plain": "0.6851851851851852"
     },
     "execution_count": 34,
     "metadata": {},
     "output_type": "execute_result"
    }
   ],
   "source": [
    "accuracy_score(y_test, y_predict)"
   ],
   "metadata": {
    "collapsed": false,
    "pycharm": {
     "name": "#%%\n"
    }
   }
  }
 ],
 "metadata": {
  "kernelspec": {
   "display_name": "Python 3",
   "language": "python",
   "name": "python3"
  },
  "language_info": {
   "codemirror_mode": {
    "name": "ipython",
    "version": 2
   },
   "file_extension": ".py",
   "mimetype": "text/x-python",
   "name": "python",
   "nbconvert_exporter": "python",
   "pygments_lexer": "ipython2",
   "version": "2.7.6"
  }
 },
 "nbformat": 4,
 "nbformat_minor": 0
}