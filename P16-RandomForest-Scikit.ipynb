{
 "cells": [
  {
   "cell_type": "markdown",
   "source": [
    "# Random Forest using Scikit-Learn"
   ],
   "metadata": {
    "collapsed": false,
    "pycharm": {
     "name": "#%% md\n"
    }
   }
  },
  {
   "cell_type": "markdown",
   "source": [
    "#### Python Imports"
   ],
   "metadata": {
    "collapsed": false,
    "pycharm": {
     "name": "#%% md\n"
    }
   }
  },
  {
   "cell_type": "code",
   "execution_count": 1,
   "outputs": [],
   "source": [
    "import pandas as pd\n",
    "import matplotlib.pyplot as plt\n",
    "import seaborn as sns\n",
    "from sklearn.model_selection import train_test_split\n",
    "from sklearn.ensemble import RandomForestClassifier\n",
    "from sklearn.metrics import accuracy_score"
   ],
   "metadata": {
    "collapsed": false,
    "pycharm": {
     "name": "#%%\n"
    }
   }
  },
  {
   "cell_type": "code",
   "execution_count": 2,
   "outputs": [],
   "source": [
    "%matplotlib inline\n",
    "plt.style.use('seaborn')"
   ],
   "metadata": {
    "collapsed": false,
    "pycharm": {
     "name": "#%%\n"
    }
   }
  },
  {
   "cell_type": "markdown",
   "source": [
    "#### Load and Display the Palmer Penguins Data Set\n",
    "Source: [Palmer Penguins Data Set](https://vincentarelbundock.github.io/Rdatasets/csv/palmerpenguins/penguins.csv)\n",
    "\n",
    "**Attribute**\n",
    "\n",
    "1. species: denotes the penguin species (Adelie, Chinstrap, and Gentoo)\n",
    "2. island: denotes the island in Palmer Archipelago, Antarctica (Biscoe, Dream, or Torgersen)\n",
    "3. bill_length_mm: denotes the penguins beak length (millimeters)\n",
    "4. bill_depth_mm: denotes the penguins beak depth (millimeters)\n",
    "5. flipper_length_mm: denotes the penguins flipper length (millimeters)\n",
    "6. body_mass_g: denotes the penguins body mass (grams)\n",
    "7. sex: denotes the penguins sex (female, male)\n",
    "8. year: denotes the study year (2007, 2008, or 2009)"
   ],
   "metadata": {
    "collapsed": false,
    "pycharm": {
     "name": "#%% md\n"
    }
   }
  },
  {
   "cell_type": "code",
   "execution_count": 3,
   "outputs": [
    {
     "data": {
      "text/plain": "       species     island  bill_length_mm  bill_depth_mm  flipper_length_mm  \\\n0       Adelie  Torgersen            39.1           18.7              181.0   \n1       Adelie  Torgersen            39.5           17.4              186.0   \n2       Adelie  Torgersen            40.3           18.0              195.0   \n3       Adelie  Torgersen             NaN            NaN                NaN   \n4       Adelie  Torgersen            36.7           19.3              193.0   \n..         ...        ...             ...            ...                ...   \n339  Chinstrap      Dream            55.8           19.8              207.0   \n340  Chinstrap      Dream            43.5           18.1              202.0   \n341  Chinstrap      Dream            49.6           18.2              193.0   \n342  Chinstrap      Dream            50.8           19.0              210.0   \n343  Chinstrap      Dream            50.2           18.7              198.0   \n\n     body_mass_g     sex  year  \n0         3750.0    male  2007  \n1         3800.0  female  2007  \n2         3250.0  female  2007  \n3            NaN     NaN  2007  \n4         3450.0  female  2007  \n..           ...     ...   ...  \n339       4000.0    male  2009  \n340       3400.0  female  2009  \n341       3775.0    male  2009  \n342       4100.0    male  2009  \n343       3775.0  female  2009  \n\n[344 rows x 8 columns]",
      "text/html": "<div>\n<style scoped>\n    .dataframe tbody tr th:only-of-type {\n        vertical-align: middle;\n    }\n\n    .dataframe tbody tr th {\n        vertical-align: top;\n    }\n\n    .dataframe thead th {\n        text-align: right;\n    }\n</style>\n<table border=\"1\" class=\"dataframe\">\n  <thead>\n    <tr style=\"text-align: right;\">\n      <th></th>\n      <th>species</th>\n      <th>island</th>\n      <th>bill_length_mm</th>\n      <th>bill_depth_mm</th>\n      <th>flipper_length_mm</th>\n      <th>body_mass_g</th>\n      <th>sex</th>\n      <th>year</th>\n    </tr>\n  </thead>\n  <tbody>\n    <tr>\n      <th>0</th>\n      <td>Adelie</td>\n      <td>Torgersen</td>\n      <td>39.1</td>\n      <td>18.7</td>\n      <td>181.0</td>\n      <td>3750.0</td>\n      <td>male</td>\n      <td>2007</td>\n    </tr>\n    <tr>\n      <th>1</th>\n      <td>Adelie</td>\n      <td>Torgersen</td>\n      <td>39.5</td>\n      <td>17.4</td>\n      <td>186.0</td>\n      <td>3800.0</td>\n      <td>female</td>\n      <td>2007</td>\n    </tr>\n    <tr>\n      <th>2</th>\n      <td>Adelie</td>\n      <td>Torgersen</td>\n      <td>40.3</td>\n      <td>18.0</td>\n      <td>195.0</td>\n      <td>3250.0</td>\n      <td>female</td>\n      <td>2007</td>\n    </tr>\n    <tr>\n      <th>3</th>\n      <td>Adelie</td>\n      <td>Torgersen</td>\n      <td>NaN</td>\n      <td>NaN</td>\n      <td>NaN</td>\n      <td>NaN</td>\n      <td>NaN</td>\n      <td>2007</td>\n    </tr>\n    <tr>\n      <th>4</th>\n      <td>Adelie</td>\n      <td>Torgersen</td>\n      <td>36.7</td>\n      <td>19.3</td>\n      <td>193.0</td>\n      <td>3450.0</td>\n      <td>female</td>\n      <td>2007</td>\n    </tr>\n    <tr>\n      <th>...</th>\n      <td>...</td>\n      <td>...</td>\n      <td>...</td>\n      <td>...</td>\n      <td>...</td>\n      <td>...</td>\n      <td>...</td>\n      <td>...</td>\n    </tr>\n    <tr>\n      <th>339</th>\n      <td>Chinstrap</td>\n      <td>Dream</td>\n      <td>55.8</td>\n      <td>19.8</td>\n      <td>207.0</td>\n      <td>4000.0</td>\n      <td>male</td>\n      <td>2009</td>\n    </tr>\n    <tr>\n      <th>340</th>\n      <td>Chinstrap</td>\n      <td>Dream</td>\n      <td>43.5</td>\n      <td>18.1</td>\n      <td>202.0</td>\n      <td>3400.0</td>\n      <td>female</td>\n      <td>2009</td>\n    </tr>\n    <tr>\n      <th>341</th>\n      <td>Chinstrap</td>\n      <td>Dream</td>\n      <td>49.6</td>\n      <td>18.2</td>\n      <td>193.0</td>\n      <td>3775.0</td>\n      <td>male</td>\n      <td>2009</td>\n    </tr>\n    <tr>\n      <th>342</th>\n      <td>Chinstrap</td>\n      <td>Dream</td>\n      <td>50.8</td>\n      <td>19.0</td>\n      <td>210.0</td>\n      <td>4100.0</td>\n      <td>male</td>\n      <td>2009</td>\n    </tr>\n    <tr>\n      <th>343</th>\n      <td>Chinstrap</td>\n      <td>Dream</td>\n      <td>50.2</td>\n      <td>18.7</td>\n      <td>198.0</td>\n      <td>3775.0</td>\n      <td>female</td>\n      <td>2009</td>\n    </tr>\n  </tbody>\n</table>\n<p>344 rows × 8 columns</p>\n</div>"
     },
     "execution_count": 3,
     "metadata": {},
     "output_type": "execute_result"
    }
   ],
   "source": [
    "url = 'https://vincentarelbundock.github.io/Rdatasets/csv/palmerpenguins/penguins.csv'\n",
    "penguins_df = pd.read_csv(url)\n",
    "penguins_df = penguins_df.drop(penguins_df.columns[0], axis=1)\n",
    "penguins_df"
   ],
   "metadata": {
    "collapsed": false,
    "pycharm": {
     "name": "#%%\n"
    }
   }
  },
  {
   "cell_type": "markdown",
   "source": [
    "#### Display feature information about the Palmer Penguins data set"
   ],
   "metadata": {
    "collapsed": false,
    "pycharm": {
     "name": "#%% md\n"
    }
   }
  },
  {
   "cell_type": "code",
   "execution_count": 4,
   "outputs": [
    {
     "name": "stdout",
     "output_type": "stream",
     "text": [
      "<class 'pandas.core.frame.DataFrame'>\n",
      "RangeIndex: 344 entries, 0 to 343\n",
      "Data columns (total 8 columns):\n",
      " #   Column             Non-Null Count  Dtype  \n",
      "---  ------             --------------  -----  \n",
      " 0   species            344 non-null    object \n",
      " 1   island             344 non-null    object \n",
      " 2   bill_length_mm     342 non-null    float64\n",
      " 3   bill_depth_mm      342 non-null    float64\n",
      " 4   flipper_length_mm  342 non-null    float64\n",
      " 5   body_mass_g        342 non-null    float64\n",
      " 6   sex                333 non-null    object \n",
      " 7   year               344 non-null    int64  \n",
      "dtypes: float64(4), int64(1), object(3)\n",
      "memory usage: 21.6+ KB\n"
     ]
    }
   ],
   "source": [
    "penguins_df.info()"
   ],
   "metadata": {
    "collapsed": false,
    "pycharm": {
     "name": "#%%\n"
    }
   }
  },
  {
   "cell_type": "markdown",
   "source": [
    "#### Display the rows with missing values in `bill_length_mm`, `bill_depth_mm`, and `flipper_length_mm`"
   ],
   "metadata": {
    "collapsed": false,
    "pycharm": {
     "name": "#%% md\n"
    }
   }
  },
  {
   "cell_type": "code",
   "execution_count": 5,
   "outputs": [
    {
     "data": {
      "text/plain": "    species     island  bill_length_mm  bill_depth_mm  flipper_length_mm  \\\n3    Adelie  Torgersen             NaN            NaN                NaN   \n271  Gentoo     Biscoe             NaN            NaN                NaN   \n\n     body_mass_g  sex  year  \n3            NaN  NaN  2007  \n271          NaN  NaN  2009  ",
      "text/html": "<div>\n<style scoped>\n    .dataframe tbody tr th:only-of-type {\n        vertical-align: middle;\n    }\n\n    .dataframe tbody tr th {\n        vertical-align: top;\n    }\n\n    .dataframe thead th {\n        text-align: right;\n    }\n</style>\n<table border=\"1\" class=\"dataframe\">\n  <thead>\n    <tr style=\"text-align: right;\">\n      <th></th>\n      <th>species</th>\n      <th>island</th>\n      <th>bill_length_mm</th>\n      <th>bill_depth_mm</th>\n      <th>flipper_length_mm</th>\n      <th>body_mass_g</th>\n      <th>sex</th>\n      <th>year</th>\n    </tr>\n  </thead>\n  <tbody>\n    <tr>\n      <th>3</th>\n      <td>Adelie</td>\n      <td>Torgersen</td>\n      <td>NaN</td>\n      <td>NaN</td>\n      <td>NaN</td>\n      <td>NaN</td>\n      <td>NaN</td>\n      <td>2007</td>\n    </tr>\n    <tr>\n      <th>271</th>\n      <td>Gentoo</td>\n      <td>Biscoe</td>\n      <td>NaN</td>\n      <td>NaN</td>\n      <td>NaN</td>\n      <td>NaN</td>\n      <td>NaN</td>\n      <td>2009</td>\n    </tr>\n  </tbody>\n</table>\n</div>"
     },
     "execution_count": 5,
     "metadata": {},
     "output_type": "execute_result"
    }
   ],
   "source": [
    "penguins_df[penguins_df['bill_length_mm'].isnull() | penguins_df['bill_depth_mm'].isnull() | penguins_df['flipper_length_mm'].isnull()]"
   ],
   "metadata": {
    "collapsed": false,
    "pycharm": {
     "name": "#%%\n"
    }
   }
  },
  {
   "cell_type": "markdown",
   "source": [
    "#### Drop rows with missing values for majority of the columns\n",
    "\n",
    "Given that mot of the columns are missing for the rows at index 3 and 271, it is better to drop them"
   ],
   "metadata": {
    "collapsed": false,
    "pycharm": {
     "name": "#%% md\n"
    }
   }
  },
  {
   "cell_type": "code",
   "execution_count": 6,
   "outputs": [],
   "source": [
    "penguins_df = penguins_df.drop([3, 271], axis=0)"
   ],
   "metadata": {
    "collapsed": false,
    "pycharm": {
     "name": "#%%\n"
    }
   }
  },
  {
   "cell_type": "markdown",
   "source": [
    "#### Display the rows with missing values in `sex`"
   ],
   "metadata": {
    "collapsed": false,
    "pycharm": {
     "name": "#%% md\n"
    }
   }
  },
  {
   "cell_type": "code",
   "execution_count": 7,
   "outputs": [
    {
     "data": {
      "text/plain": "    species     island  bill_length_mm  bill_depth_mm  flipper_length_mm  \\\n8    Adelie  Torgersen            34.1           18.1              193.0   \n9    Adelie  Torgersen            42.0           20.2              190.0   \n10   Adelie  Torgersen            37.8           17.1              186.0   \n11   Adelie  Torgersen            37.8           17.3              180.0   \n47   Adelie      Dream            37.5           18.9              179.0   \n178  Gentoo     Biscoe            44.5           14.3              216.0   \n218  Gentoo     Biscoe            46.2           14.4              214.0   \n256  Gentoo     Biscoe            47.3           13.8              216.0   \n268  Gentoo     Biscoe            44.5           15.7              217.0   \n\n     body_mass_g  sex  year  \n8         3475.0  NaN  2007  \n9         4250.0  NaN  2007  \n10        3300.0  NaN  2007  \n11        3700.0  NaN  2007  \n47        2975.0  NaN  2007  \n178       4100.0  NaN  2007  \n218       4650.0  NaN  2008  \n256       4725.0  NaN  2009  \n268       4875.0  NaN  2009  ",
      "text/html": "<div>\n<style scoped>\n    .dataframe tbody tr th:only-of-type {\n        vertical-align: middle;\n    }\n\n    .dataframe tbody tr th {\n        vertical-align: top;\n    }\n\n    .dataframe thead th {\n        text-align: right;\n    }\n</style>\n<table border=\"1\" class=\"dataframe\">\n  <thead>\n    <tr style=\"text-align: right;\">\n      <th></th>\n      <th>species</th>\n      <th>island</th>\n      <th>bill_length_mm</th>\n      <th>bill_depth_mm</th>\n      <th>flipper_length_mm</th>\n      <th>body_mass_g</th>\n      <th>sex</th>\n      <th>year</th>\n    </tr>\n  </thead>\n  <tbody>\n    <tr>\n      <th>8</th>\n      <td>Adelie</td>\n      <td>Torgersen</td>\n      <td>34.1</td>\n      <td>18.1</td>\n      <td>193.0</td>\n      <td>3475.0</td>\n      <td>NaN</td>\n      <td>2007</td>\n    </tr>\n    <tr>\n      <th>9</th>\n      <td>Adelie</td>\n      <td>Torgersen</td>\n      <td>42.0</td>\n      <td>20.2</td>\n      <td>190.0</td>\n      <td>4250.0</td>\n      <td>NaN</td>\n      <td>2007</td>\n    </tr>\n    <tr>\n      <th>10</th>\n      <td>Adelie</td>\n      <td>Torgersen</td>\n      <td>37.8</td>\n      <td>17.1</td>\n      <td>186.0</td>\n      <td>3300.0</td>\n      <td>NaN</td>\n      <td>2007</td>\n    </tr>\n    <tr>\n      <th>11</th>\n      <td>Adelie</td>\n      <td>Torgersen</td>\n      <td>37.8</td>\n      <td>17.3</td>\n      <td>180.0</td>\n      <td>3700.0</td>\n      <td>NaN</td>\n      <td>2007</td>\n    </tr>\n    <tr>\n      <th>47</th>\n      <td>Adelie</td>\n      <td>Dream</td>\n      <td>37.5</td>\n      <td>18.9</td>\n      <td>179.0</td>\n      <td>2975.0</td>\n      <td>NaN</td>\n      <td>2007</td>\n    </tr>\n    <tr>\n      <th>178</th>\n      <td>Gentoo</td>\n      <td>Biscoe</td>\n      <td>44.5</td>\n      <td>14.3</td>\n      <td>216.0</td>\n      <td>4100.0</td>\n      <td>NaN</td>\n      <td>2007</td>\n    </tr>\n    <tr>\n      <th>218</th>\n      <td>Gentoo</td>\n      <td>Biscoe</td>\n      <td>46.2</td>\n      <td>14.4</td>\n      <td>214.0</td>\n      <td>4650.0</td>\n      <td>NaN</td>\n      <td>2008</td>\n    </tr>\n    <tr>\n      <th>256</th>\n      <td>Gentoo</td>\n      <td>Biscoe</td>\n      <td>47.3</td>\n      <td>13.8</td>\n      <td>216.0</td>\n      <td>4725.0</td>\n      <td>NaN</td>\n      <td>2009</td>\n    </tr>\n    <tr>\n      <th>268</th>\n      <td>Gentoo</td>\n      <td>Biscoe</td>\n      <td>44.5</td>\n      <td>15.7</td>\n      <td>217.0</td>\n      <td>4875.0</td>\n      <td>NaN</td>\n      <td>2009</td>\n    </tr>\n  </tbody>\n</table>\n</div>"
     },
     "execution_count": 7,
     "metadata": {},
     "output_type": "execute_result"
    }
   ],
   "source": [
    "penguins_df[penguins_df['sex'].isnull()]"
   ],
   "metadata": {
    "collapsed": false,
    "pycharm": {
     "name": "#%%\n"
    }
   }
  },
  {
   "cell_type": "markdown",
   "source": [
    "#### Display a bar plot of `bill_length_mm` for the different `species`"
   ],
   "metadata": {
    "collapsed": false,
    "pycharm": {
     "name": "#%% md\n"
    }
   }
  },
  {
   "cell_type": "code",
   "execution_count": 8,
   "outputs": [
    {
     "data": {
      "text/plain": "<Figure size 576x396 with 1 Axes>",
      "image/png": "[encoded data removed]"
     },
     "metadata": {},
     "output_type": "display_data"
    }
   ],
   "source": [
    "sns.barplot(data=penguins_df, x='species', y='bill_length_mm', hue='sex', alpha=0.7)\n",
    "plt.show()"
   ],
   "metadata": {
    "collapsed": false,
    "pycharm": {
     "name": "#%%\n"
    }
   }
  },
  {
   "cell_type": "markdown",
   "source": [
    "#### Display a bar plot of `bill_depth_mm` for the different `species`"
   ],
   "metadata": {
    "collapsed": false,
    "pycharm": {
     "name": "#%% md\n"
    }
   }
  },
  {
   "cell_type": "code",
   "execution_count": 9,
   "outputs": [
    {
     "data": {
      "text/plain": "<Figure size 576x396 with 1 Axes>",
      "image/png": "[encoded data removed]"
     },
     "metadata": {},
     "output_type": "display_data"
    }
   ],
   "source": [
    "sns.barplot(data=penguins_df, x='species', y='bill_depth_mm', hue='sex', palette='tab10', alpha=0.7)\n",
    "plt.show()"
   ],
   "metadata": {
    "collapsed": false,
    "pycharm": {
     "name": "#%%\n"
    }
   }
  },
  {
   "cell_type": "markdown",
   "source": [
    "#### Display a bar plot of `body_mass_g` for the different `species`"
   ],
   "metadata": {
    "collapsed": false,
    "pycharm": {
     "name": "#%% md\n"
    }
   }
  },
  {
   "cell_type": "code",
   "execution_count": 10,
   "outputs": [
    {
     "data": {
      "text/plain": "<Figure size 576x396 with 1 Axes>",
      "image/png": "[encoded data removed]"
     },
     "metadata": {},
     "output_type": "display_data"
    }
   ],
   "source": [
    "sns.barplot(data=penguins_df, x='species', y='body_mass_g', hue='sex', palette='mako', alpha=0.7)\n",
    "plt.show()"
   ],
   "metadata": {
    "collapsed": false,
    "pycharm": {
     "name": "#%%\n"
    }
   }
  },
  {
   "cell_type": "markdown",
   "source": [
    "#### Create dataframe without the `year` for gathering summary statistics on other features"
   ],
   "metadata": {
    "collapsed": false,
    "pycharm": {
     "name": "#%% md\n"
    }
   }
  },
  {
   "cell_type": "code",
   "execution_count": 30,
   "outputs": [],
   "source": [
    "pdf = penguins_df.drop('year', axis=1)"
   ],
   "metadata": {
    "collapsed": false,
    "pycharm": {
     "name": "#%%\n"
    }
   }
  },
  {
   "cell_type": "markdown",
   "source": [
    "#### Display summary statistics for (species == 'Adelie' and island == 'Torgesen') grouped by `sex`"
   ],
   "metadata": {
    "collapsed": false,
    "pycharm": {
     "name": "#%% md\n"
    }
   }
  },
  {
   "cell_type": "code",
   "execution_count": 31,
   "outputs": [
    {
     "data": {
      "text/plain": "sex                           female         male\nbill_length_mm    count    27.000000    24.000000\n                  mean     37.444444    40.645833\n                  std       2.182506     2.974965\n                  min      33.500000    34.600000\n                  25%      35.800000    38.975000\n                  50%      37.800000    41.250000\n                  75%      38.950000    42.575000\n                  max      41.100000    46.000000\nbill_depth_mm     count    27.000000    24.000000\n                  mean     17.544444    19.425000\n                  std       0.840482     1.071468\n                  min      15.900000    17.600000\n                  25%      17.050000    18.575000\n                  50%      17.400000    19.300000\n                  75%      17.950000    20.275000\n                  max      19.300000    21.500000\nflipper_length_mm count    27.000000    24.000000\n                  mean    188.074074   194.708333\n                  std       4.763046     5.871665\n                  min     176.000000   181.000000\n                  25%     186.000000   190.750000\n                  50%     189.000000   195.000000\n                  75%     191.000000   198.000000\n                  max     196.000000   210.000000\nbody_mass_g       count    27.000000    24.000000\n                  mean   3406.481481  4043.750000\n                  std     251.876858   366.923905\n                  min    2900.000000  3325.000000\n                  25%    3225.000000  3793.750000\n                  50%    3450.000000  4000.000000\n                  75%    3612.500000  4262.500000\n                  max    3800.000000  4700.000000",
      "text/html": "<div>\n<style scoped>\n    .dataframe tbody tr th:only-of-type {\n        vertical-align: middle;\n    }\n\n    .dataframe tbody tr th {\n        vertical-align: top;\n    }\n\n    .dataframe thead th {\n        text-align: right;\n    }\n</style>\n<table border=\"1\" class=\"dataframe\">\n  <thead>\n    <tr style=\"text-align: right;\">\n      <th></th>\n      <th>sex</th>\n      <th>female</th>\n      <th>male</th>\n    </tr>\n  </thead>\n  <tbody>\n    <tr>\n      <th rowspan=\"8\" valign=\"top\">bill_length_mm</th>\n      <th>count</th>\n      <td>27.000000</td>\n      <td>24.000000</td>\n    </tr>\n    <tr>\n      <th>mean</th>\n      <td>37.444444</td>\n      <td>40.645833</td>\n    </tr>\n    <tr>\n      <th>std</th>\n      <td>2.182506</td>\n      <td>2.974965</td>\n    </tr>\n    <tr>\n      <th>min</th>\n      <td>33.500000</td>\n      <td>34.600000</td>\n    </tr>\n    <tr>\n      <th>25%</th>\n      <td>35.800000</td>\n      <td>38.975000</td>\n    </tr>\n    <tr>\n      <th>50%</th>\n      <td>37.800000</td>\n      <td>41.250000</td>\n    </tr>\n    <tr>\n      <th>75%</th>\n      <td>38.950000</td>\n      <td>42.575000</td>\n    </tr>\n    <tr>\n      <th>max</th>\n      <td>41.100000</td>\n      <td>46.000000</td>\n    </tr>\n    <tr>\n      <th rowspan=\"8\" valign=\"top\">bill_depth_mm</th>\n      <th>count</th>\n      <td>27.000000</td>\n      <td>24.000000</td>\n    </tr>\n    <tr>\n      <th>mean</th>\n      <td>17.544444</td>\n      <td>19.425000</td>\n    </tr>\n    <tr>\n      <th>std</th>\n      <td>0.840482</td>\n      <td>1.071468</td>\n    </tr>\n    <tr>\n      <th>min</th>\n      <td>15.900000</td>\n      <td>17.600000</td>\n    </tr>\n    <tr>\n      <th>25%</th>\n      <td>17.050000</td>\n      <td>18.575000</td>\n    </tr>\n    <tr>\n      <th>50%</th>\n      <td>17.400000</td>\n      <td>19.300000</td>\n    </tr>\n    <tr>\n      <th>75%</th>\n      <td>17.950000</td>\n      <td>20.275000</td>\n    </tr>\n    <tr>\n      <th>max</th>\n      <td>19.300000</td>\n      <td>21.500000</td>\n    </tr>\n    <tr>\n      <th rowspan=\"8\" valign=\"top\">flipper_length_mm</th>\n      <th>count</th>\n      <td>27.000000</td>\n      <td>24.000000</td>\n    </tr>\n    <tr>\n      <th>mean</th>\n      <td>188.074074</td>\n      <td>194.708333</td>\n    </tr>\n    <tr>\n      <th>std</th>\n      <td>4.763046</td>\n      <td>5.871665</td>\n    </tr>\n    <tr>\n      <th>min</th>\n      <td>176.000000</td>\n      <td>181.000000</td>\n    </tr>\n    <tr>\n      <th>25%</th>\n      <td>186.000000</td>\n      <td>190.750000</td>\n    </tr>\n    <tr>\n      <th>50%</th>\n      <td>189.000000</td>\n      <td>195.000000</td>\n    </tr>\n    <tr>\n      <th>75%</th>\n      <td>191.000000</td>\n      <td>198.000000</td>\n    </tr>\n    <tr>\n      <th>max</th>\n      <td>196.000000</td>\n      <td>210.000000</td>\n    </tr>\n    <tr>\n      <th rowspan=\"8\" valign=\"top\">body_mass_g</th>\n      <th>count</th>\n      <td>27.000000</td>\n      <td>24.000000</td>\n    </tr>\n    <tr>\n      <th>mean</th>\n      <td>3406.481481</td>\n      <td>4043.750000</td>\n    </tr>\n    <tr>\n      <th>std</th>\n      <td>251.876858</td>\n      <td>366.923905</td>\n    </tr>\n    <tr>\n      <th>min</th>\n      <td>2900.000000</td>\n      <td>3325.000000</td>\n    </tr>\n    <tr>\n      <th>25%</th>\n      <td>3225.000000</td>\n      <td>3793.750000</td>\n    </tr>\n    <tr>\n      <th>50%</th>\n      <td>3450.000000</td>\n      <td>4000.000000</td>\n    </tr>\n    <tr>\n      <th>75%</th>\n      <td>3612.500000</td>\n      <td>4262.500000</td>\n    </tr>\n    <tr>\n      <th>max</th>\n      <td>3800.000000</td>\n      <td>4700.000000</td>\n    </tr>\n  </tbody>\n</table>\n</div>"
     },
     "execution_count": 31,
     "metadata": {},
     "output_type": "execute_result"
    }
   ],
   "source": [
    "df = pdf[(pdf['species'] == 'Adelie') & (pdf['island'] == 'Torgersen')].groupby('sex').describe()\n",
    "df.T"
   ],
   "metadata": {
    "collapsed": false,
    "pycharm": {
     "name": "#%%\n"
    }
   }
  },
  {
   "cell_type": "markdown",
   "source": [
    "#### Fill in the missing values for rows where (species == 'Adelie' and island == 'Torgesen')\n",
    "\n",
    "Comparing the mean values of the features (`bill_length_mm`, `bill_depth_mm`, `flipper_length_mm`, and `body_mass_g`) with the ones in the rows at index 8, 10, 11, we can infer the value for `sex` to be **female**. Similarly, the value of `sex` for the row at index 9 is **male**"
   ],
   "metadata": {
    "collapsed": false,
    "pycharm": {
     "name": "#%% md\n"
    }
   }
  },
  {
   "cell_type": "code",
   "execution_count": 12,
   "outputs": [],
   "source": [
    "penguins_df.loc[[8, 10, 11], 'sex'] = 'female'\n",
    "penguins_df.at[9, 'sex'] = 'male'"
   ],
   "metadata": {
    "collapsed": false,
    "pycharm": {
     "name": "#%%\n"
    }
   }
  },
  {
   "cell_type": "markdown",
   "source": [
    "#### Display summary statistics for (species == 'Adelie' and island == 'Dream') grouped by `sex`"
   ],
   "metadata": {
    "collapsed": false,
    "pycharm": {
     "name": "#%% md\n"
    }
   }
  },
  {
   "cell_type": "code",
   "execution_count": 32,
   "outputs": [
    {
     "data": {
      "text/plain": "sex                           female         male\nbill_length_mm    count    28.000000    28.000000\n                  mean     36.932143    40.071429\n                  std       2.053011     1.748196\n                  min      32.100000    36.300000\n                  25%      36.000000    39.150000\n                  50%      36.850000    40.250000\n                  75%      37.725000    41.100000\n                  max      42.200000    44.100000\nbill_depth_mm     count    28.000000    28.000000\n                  mean     17.664286    18.839286\n                  std       0.913363     1.033276\n                  min      15.500000    17.000000\n                  25%      17.075000    18.100000\n                  50%      17.800000    18.650000\n                  75%      18.500000    19.275000\n                  max      19.300000    21.200000\nflipper_length_mm count    28.000000    28.000000\n                  mean    187.535714   191.928571\n                  std       5.660010     6.803749\n                  min     178.000000   178.000000\n                  25%     184.750000   188.500000\n                  50%     187.500000   190.500000\n                  75%     191.000000   196.000000\n                  max     202.000000   208.000000\nbody_mass_g       count    28.000000    28.000000\n                  mean   3331.250000  4045.535714\n                  std     219.492787   330.547636\n                  min    2900.000000  3425.000000\n                  25%    3168.750000  3875.000000\n                  50%    3375.000000  3987.500000\n                  75%    3481.250000  4300.000000\n                  max    3700.000000  4650.000000",
      "text/html": "<div>\n<style scoped>\n    .dataframe tbody tr th:only-of-type {\n        vertical-align: middle;\n    }\n\n    .dataframe tbody tr th {\n        vertical-align: top;\n    }\n\n    .dataframe thead th {\n        text-align: right;\n    }\n</style>\n<table border=\"1\" class=\"dataframe\">\n  <thead>\n    <tr style=\"text-align: right;\">\n      <th></th>\n      <th>sex</th>\n      <th>female</th>\n      <th>male</th>\n    </tr>\n  </thead>\n  <tbody>\n    <tr>\n      <th rowspan=\"8\" valign=\"top\">bill_length_mm</th>\n      <th>count</th>\n      <td>28.000000</td>\n      <td>28.000000</td>\n    </tr>\n    <tr>\n      <th>mean</th>\n      <td>36.932143</td>\n      <td>40.071429</td>\n    </tr>\n    <tr>\n      <th>std</th>\n      <td>2.053011</td>\n      <td>1.748196</td>\n    </tr>\n    <tr>\n      <th>min</th>\n      <td>32.100000</td>\n      <td>36.300000</td>\n    </tr>\n    <tr>\n      <th>25%</th>\n      <td>36.000000</td>\n      <td>39.150000</td>\n    </tr>\n    <tr>\n      <th>50%</th>\n      <td>36.850000</td>\n      <td>40.250000</td>\n    </tr>\n    <tr>\n      <th>75%</th>\n      <td>37.725000</td>\n      <td>41.100000</td>\n    </tr>\n    <tr>\n      <th>max</th>\n      <td>42.200000</td>\n      <td>44.100000</td>\n    </tr>\n    <tr>\n      <th rowspan=\"8\" valign=\"top\">bill_depth_mm</th>\n      <th>count</th>\n      <td>28.000000</td>\n      <td>28.000000</td>\n    </tr>\n    <tr>\n      <th>mean</th>\n      <td>17.664286</td>\n      <td>18.839286</td>\n    </tr>\n    <tr>\n      <th>std</th>\n      <td>0.913363</td>\n      <td>1.033276</td>\n    </tr>\n    <tr>\n      <th>min</th>\n      <td>15.500000</td>\n      <td>17.000000</td>\n    </tr>\n    <tr>\n      <th>25%</th>\n      <td>17.075000</td>\n      <td>18.100000</td>\n    </tr>\n    <tr>\n      <th>50%</th>\n      <td>17.800000</td>\n      <td>18.650000</td>\n    </tr>\n    <tr>\n      <th>75%</th>\n      <td>18.500000</td>\n      <td>19.275000</td>\n    </tr>\n    <tr>\n      <th>max</th>\n      <td>19.300000</td>\n      <td>21.200000</td>\n    </tr>\n    <tr>\n      <th rowspan=\"8\" valign=\"top\">flipper_length_mm</th>\n      <th>count</th>\n      <td>28.000000</td>\n      <td>28.000000</td>\n    </tr>\n    <tr>\n      <th>mean</th>\n      <td>187.535714</td>\n      <td>191.928571</td>\n    </tr>\n    <tr>\n      <th>std</th>\n      <td>5.660010</td>\n      <td>6.803749</td>\n    </tr>\n    <tr>\n      <th>min</th>\n      <td>178.000000</td>\n      <td>178.000000</td>\n    </tr>\n    <tr>\n      <th>25%</th>\n      <td>184.750000</td>\n      <td>188.500000</td>\n    </tr>\n    <tr>\n      <th>50%</th>\n      <td>187.500000</td>\n      <td>190.500000</td>\n    </tr>\n    <tr>\n      <th>75%</th>\n      <td>191.000000</td>\n      <td>196.000000</td>\n    </tr>\n    <tr>\n      <th>max</th>\n      <td>202.000000</td>\n      <td>208.000000</td>\n    </tr>\n    <tr>\n      <th rowspan=\"8\" valign=\"top\">body_mass_g</th>\n      <th>count</th>\n      <td>28.000000</td>\n      <td>28.000000</td>\n    </tr>\n    <tr>\n      <th>mean</th>\n      <td>3331.250000</td>\n      <td>4045.535714</td>\n    </tr>\n    <tr>\n      <th>std</th>\n      <td>219.492787</td>\n      <td>330.547636</td>\n    </tr>\n    <tr>\n      <th>min</th>\n      <td>2900.000000</td>\n      <td>3425.000000</td>\n    </tr>\n    <tr>\n      <th>25%</th>\n      <td>3168.750000</td>\n      <td>3875.000000</td>\n    </tr>\n    <tr>\n      <th>50%</th>\n      <td>3375.000000</td>\n      <td>3987.500000</td>\n    </tr>\n    <tr>\n      <th>75%</th>\n      <td>3481.250000</td>\n      <td>4300.000000</td>\n    </tr>\n    <tr>\n      <th>max</th>\n      <td>3700.000000</td>\n      <td>4650.000000</td>\n    </tr>\n  </tbody>\n</table>\n</div>"
     },
     "execution_count": 32,
     "metadata": {},
     "output_type": "execute_result"
    }
   ],
   "source": [
    "df = pdf[(pdf['species'] == 'Adelie') & (pdf['island'] == 'Dream')].groupby('sex').describe()\n",
    "df.T"
   ],
   "metadata": {
    "collapsed": false,
    "pycharm": {
     "name": "#%%\n"
    }
   }
  },
  {
   "cell_type": "markdown",
   "source": [
    "#### Fill in the missing values for the row where (species == 'Adelie' and island == 'Dream')\n",
    "\n",
    "Comparing the mean values of the features (`bill_length_mm`, `bill_depth_mm`, `flipper_length_mm`, and `body_mass_g`) with the ones in the row at index 47, we can infer the value for `sex` to be **female**"
   ],
   "metadata": {
    "collapsed": false,
    "pycharm": {
     "name": "#%% md\n"
    }
   }
  },
  {
   "cell_type": "code",
   "execution_count": 14,
   "outputs": [],
   "source": [
    "penguins_df.at[47, 'sex'] = 'female'"
   ],
   "metadata": {
    "collapsed": false,
    "pycharm": {
     "name": "#%%\n"
    }
   }
  },
  {
   "cell_type": "markdown",
   "source": [
    "#### Display summary statistics for (species == 'Gentoo' and island == 'Biscoe') grouped by `sex`"
   ],
   "metadata": {
    "collapsed": false,
    "pycharm": {
     "name": "#%% md\n"
    }
   }
  },
  {
   "cell_type": "code",
   "execution_count": 33,
   "outputs": [
    {
     "data": {
      "text/plain": "sex                           female         male\nbill_length_mm    count    62.000000    61.000000\n                  mean     45.567742    49.473770\n                  std       2.006201     2.720594\n                  min      40.900000    44.400000\n                  25%      44.125000    48.100000\n                  50%      45.500000    49.500000\n                  75%      46.875000    50.500000\n                  max      50.500000    59.600000\nbill_depth_mm     count    62.000000    61.000000\n                  mean     14.258065    15.718033\n                  std       0.557673     0.741060\n                  min      13.100000    14.100000\n                  25%      13.800000    15.200000\n                  50%      14.300000    15.700000\n                  75%      14.600000    16.100000\n                  max      15.700000    17.300000\nflipper_length_mm count    62.000000    61.000000\n                  mean    212.903226   221.540984\n                  std       3.852654     5.673252\n                  min     203.000000   208.000000\n                  25%     210.000000   218.000000\n                  50%     213.000000   221.000000\n                  75%     216.000000   225.000000\n                  max     222.000000   231.000000\nbody_mass_g       count    62.000000    61.000000\n                  mean   4673.790323  5484.836066\n                  std     283.256365   313.158596\n                  min    3950.000000  4750.000000\n                  25%    4462.500000  5300.000000\n                  50%    4700.000000  5500.000000\n                  75%    4875.000000  5700.000000\n                  max    5200.000000  6300.000000",
      "text/html": "<div>\n<style scoped>\n    .dataframe tbody tr th:only-of-type {\n        vertical-align: middle;\n    }\n\n    .dataframe tbody tr th {\n        vertical-align: top;\n    }\n\n    .dataframe thead th {\n        text-align: right;\n    }\n</style>\n<table border=\"1\" class=\"dataframe\">\n  <thead>\n    <tr style=\"text-align: right;\">\n      <th></th>\n      <th>sex</th>\n      <th>female</th>\n      <th>male</th>\n    </tr>\n  </thead>\n  <tbody>\n    <tr>\n      <th rowspan=\"8\" valign=\"top\">bill_length_mm</th>\n      <th>count</th>\n      <td>62.000000</td>\n      <td>61.000000</td>\n    </tr>\n    <tr>\n      <th>mean</th>\n      <td>45.567742</td>\n      <td>49.473770</td>\n    </tr>\n    <tr>\n      <th>std</th>\n      <td>2.006201</td>\n      <td>2.720594</td>\n    </tr>\n    <tr>\n      <th>min</th>\n      <td>40.900000</td>\n      <td>44.400000</td>\n    </tr>\n    <tr>\n      <th>25%</th>\n      <td>44.125000</td>\n      <td>48.100000</td>\n    </tr>\n    <tr>\n      <th>50%</th>\n      <td>45.500000</td>\n      <td>49.500000</td>\n    </tr>\n    <tr>\n      <th>75%</th>\n      <td>46.875000</td>\n      <td>50.500000</td>\n    </tr>\n    <tr>\n      <th>max</th>\n      <td>50.500000</td>\n      <td>59.600000</td>\n    </tr>\n    <tr>\n      <th rowspan=\"8\" valign=\"top\">bill_depth_mm</th>\n      <th>count</th>\n      <td>62.000000</td>\n      <td>61.000000</td>\n    </tr>\n    <tr>\n      <th>mean</th>\n      <td>14.258065</td>\n      <td>15.718033</td>\n    </tr>\n    <tr>\n      <th>std</th>\n      <td>0.557673</td>\n      <td>0.741060</td>\n    </tr>\n    <tr>\n      <th>min</th>\n      <td>13.100000</td>\n      <td>14.100000</td>\n    </tr>\n    <tr>\n      <th>25%</th>\n      <td>13.800000</td>\n      <td>15.200000</td>\n    </tr>\n    <tr>\n      <th>50%</th>\n      <td>14.300000</td>\n      <td>15.700000</td>\n    </tr>\n    <tr>\n      <th>75%</th>\n      <td>14.600000</td>\n      <td>16.100000</td>\n    </tr>\n    <tr>\n      <th>max</th>\n      <td>15.700000</td>\n      <td>17.300000</td>\n    </tr>\n    <tr>\n      <th rowspan=\"8\" valign=\"top\">flipper_length_mm</th>\n      <th>count</th>\n      <td>62.000000</td>\n      <td>61.000000</td>\n    </tr>\n    <tr>\n      <th>mean</th>\n      <td>212.903226</td>\n      <td>221.540984</td>\n    </tr>\n    <tr>\n      <th>std</th>\n      <td>3.852654</td>\n      <td>5.673252</td>\n    </tr>\n    <tr>\n      <th>min</th>\n      <td>203.000000</td>\n      <td>208.000000</td>\n    </tr>\n    <tr>\n      <th>25%</th>\n      <td>210.000000</td>\n      <td>218.000000</td>\n    </tr>\n    <tr>\n      <th>50%</th>\n      <td>213.000000</td>\n      <td>221.000000</td>\n    </tr>\n    <tr>\n      <th>75%</th>\n      <td>216.000000</td>\n      <td>225.000000</td>\n    </tr>\n    <tr>\n      <th>max</th>\n      <td>222.000000</td>\n      <td>231.000000</td>\n    </tr>\n    <tr>\n      <th rowspan=\"8\" valign=\"top\">body_mass_g</th>\n      <th>count</th>\n      <td>62.000000</td>\n      <td>61.000000</td>\n    </tr>\n    <tr>\n      <th>mean</th>\n      <td>4673.790323</td>\n      <td>5484.836066</td>\n    </tr>\n    <tr>\n      <th>std</th>\n      <td>283.256365</td>\n      <td>313.158596</td>\n    </tr>\n    <tr>\n      <th>min</th>\n      <td>3950.000000</td>\n      <td>4750.000000</td>\n    </tr>\n    <tr>\n      <th>25%</th>\n      <td>4462.500000</td>\n      <td>5300.000000</td>\n    </tr>\n    <tr>\n      <th>50%</th>\n      <td>4700.000000</td>\n      <td>5500.000000</td>\n    </tr>\n    <tr>\n      <th>75%</th>\n      <td>4875.000000</td>\n      <td>5700.000000</td>\n    </tr>\n    <tr>\n      <th>max</th>\n      <td>5200.000000</td>\n      <td>6300.000000</td>\n    </tr>\n  </tbody>\n</table>\n</div>"
     },
     "execution_count": 33,
     "metadata": {},
     "output_type": "execute_result"
    }
   ],
   "source": [
    "df = pdf[(pdf['species'] == 'Gentoo') & (pdf['island'] == 'Biscoe')].groupby('sex').describe()\n",
    "df.T"
   ],
   "metadata": {
    "collapsed": false,
    "pycharm": {
     "name": "#%%\n"
    }
   }
  },
  {
   "cell_type": "markdown",
   "source": [
    "#### Fill in the missing values for rows where (species == 'Gentoo' and island == 'Biscoe')\n",
    "\n",
    "Comparing the mean values of the features (`bill_length_mm`, `bill_depth_mm`, `flipper_length_mm`, and `body_mass_g`) with the ones in the rows at index 178, 218, 256, 268, we can infer the value for `sex` to be **female**"
   ],
   "metadata": {
    "collapsed": false,
    "pycharm": {
     "name": "#%% md\n"
    }
   }
  },
  {
   "cell_type": "code",
   "execution_count": 16,
   "outputs": [],
   "source": [
    "penguins_df.loc[[178, 218, 256, 268], 'sex'] = 'female'"
   ],
   "metadata": {
    "collapsed": false,
    "pycharm": {
     "name": "#%%\n"
    }
   }
  },
  {
   "cell_type": "markdown",
   "source": [
    "#### Display feature information about the Palmer Penguins data set after the fixes"
   ],
   "metadata": {
    "collapsed": false,
    "pycharm": {
     "name": "#%% md\n"
    }
   }
  },
  {
   "cell_type": "code",
   "execution_count": 17,
   "outputs": [
    {
     "name": "stdout",
     "output_type": "stream",
     "text": [
      "<class 'pandas.core.frame.DataFrame'>\n",
      "Int64Index: 342 entries, 0 to 343\n",
      "Data columns (total 8 columns):\n",
      " #   Column             Non-Null Count  Dtype  \n",
      "---  ------             --------------  -----  \n",
      " 0   species            342 non-null    object \n",
      " 1   island             342 non-null    object \n",
      " 2   bill_length_mm     342 non-null    float64\n",
      " 3   bill_depth_mm      342 non-null    float64\n",
      " 4   flipper_length_mm  342 non-null    float64\n",
      " 5   body_mass_g        342 non-null    float64\n",
      " 6   sex                342 non-null    object \n",
      " 7   year               342 non-null    int64  \n",
      "dtypes: float64(4), int64(1), object(3)\n",
      "memory usage: 32.1+ KB\n"
     ]
    }
   ],
   "source": [
    "penguins_df.info()"
   ],
   "metadata": {
    "collapsed": false,
    "pycharm": {
     "name": "#%%\n"
    }
   }
  },
  {
   "cell_type": "markdown",
   "source": [
    "#### Encode the categorical features `island` and `sex`"
   ],
   "metadata": {
    "collapsed": false,
    "pycharm": {
     "name": "#%% md\n"
    }
   }
  },
  {
   "cell_type": "code",
   "execution_count": 18,
   "outputs": [
    {
     "data": {
      "text/plain": "     island.Dream  island.Torgersen  sex.male\n0               0                 1         1\n1               0                 1         0\n2               0                 1         0\n4               0                 1         0\n5               0                 1         1\n..            ...               ...       ...\n339             1                 0         1\n340             1                 0         0\n341             1                 0         1\n342             1                 0         1\n343             1                 0         0\n\n[342 rows x 3 columns]",
      "text/html": "<div>\n<style scoped>\n    .dataframe tbody tr th:only-of-type {\n        vertical-align: middle;\n    }\n\n    .dataframe tbody tr th {\n        vertical-align: top;\n    }\n\n    .dataframe thead th {\n        text-align: right;\n    }\n</style>\n<table border=\"1\" class=\"dataframe\">\n  <thead>\n    <tr style=\"text-align: right;\">\n      <th></th>\n      <th>island.Dream</th>\n      <th>island.Torgersen</th>\n      <th>sex.male</th>\n    </tr>\n  </thead>\n  <tbody>\n    <tr>\n      <th>0</th>\n      <td>0</td>\n      <td>1</td>\n      <td>1</td>\n    </tr>\n    <tr>\n      <th>1</th>\n      <td>0</td>\n      <td>1</td>\n      <td>0</td>\n    </tr>\n    <tr>\n      <th>2</th>\n      <td>0</td>\n      <td>1</td>\n      <td>0</td>\n    </tr>\n    <tr>\n      <th>4</th>\n      <td>0</td>\n      <td>1</td>\n      <td>0</td>\n    </tr>\n    <tr>\n      <th>5</th>\n      <td>0</td>\n      <td>1</td>\n      <td>1</td>\n    </tr>\n    <tr>\n      <th>...</th>\n      <td>...</td>\n      <td>...</td>\n      <td>...</td>\n    </tr>\n    <tr>\n      <th>339</th>\n      <td>1</td>\n      <td>0</td>\n      <td>1</td>\n    </tr>\n    <tr>\n      <th>340</th>\n      <td>1</td>\n      <td>0</td>\n      <td>0</td>\n    </tr>\n    <tr>\n      <th>341</th>\n      <td>1</td>\n      <td>0</td>\n      <td>1</td>\n    </tr>\n    <tr>\n      <th>342</th>\n      <td>1</td>\n      <td>0</td>\n      <td>1</td>\n    </tr>\n    <tr>\n      <th>343</th>\n      <td>1</td>\n      <td>0</td>\n      <td>0</td>\n    </tr>\n  </tbody>\n</table>\n<p>342 rows × 3 columns</p>\n</div>"
     },
     "execution_count": 18,
     "metadata": {},
     "output_type": "execute_result"
    }
   ],
   "source": [
    "nom_features = ['island', 'sex']\n",
    "nom_encoded_df = pd.get_dummies(penguins_df[nom_features], prefix_sep='.', drop_first=True, sparse=False)\n",
    "nom_encoded_df"
   ],
   "metadata": {
    "collapsed": false,
    "pycharm": {
     "name": "#%%\n"
    }
   }
  },
  {
   "cell_type": "markdown",
   "source": [
    "#### Replace categorical features with encoded features"
   ],
   "metadata": {
    "collapsed": false,
    "pycharm": {
     "name": "#%% md\n"
    }
   }
  },
  {
   "cell_type": "code",
   "execution_count": 19,
   "outputs": [
    {
     "data": {
      "text/plain": "       species  bill_length_mm  bill_depth_mm  flipper_length_mm  body_mass_g  \\\n0       Adelie            39.1           18.7              181.0       3750.0   \n1       Adelie            39.5           17.4              186.0       3800.0   \n2       Adelie            40.3           18.0              195.0       3250.0   \n4       Adelie            36.7           19.3              193.0       3450.0   \n5       Adelie            39.3           20.6              190.0       3650.0   \n..         ...             ...            ...                ...          ...   \n339  Chinstrap            55.8           19.8              207.0       4000.0   \n340  Chinstrap            43.5           18.1              202.0       3400.0   \n341  Chinstrap            49.6           18.2              193.0       3775.0   \n342  Chinstrap            50.8           19.0              210.0       4100.0   \n343  Chinstrap            50.2           18.7              198.0       3775.0   \n\n     year  island.Dream  island.Torgersen  sex.male  \n0    2007             0                 1         1  \n1    2007             0                 1         0  \n2    2007             0                 1         0  \n4    2007             0                 1         0  \n5    2007             0                 1         1  \n..    ...           ...               ...       ...  \n339  2009             1                 0         1  \n340  2009             1                 0         0  \n341  2009             1                 0         1  \n342  2009             1                 0         1  \n343  2009             1                 0         0  \n\n[342 rows x 9 columns]",
      "text/html": "<div>\n<style scoped>\n    .dataframe tbody tr th:only-of-type {\n        vertical-align: middle;\n    }\n\n    .dataframe tbody tr th {\n        vertical-align: top;\n    }\n\n    .dataframe thead th {\n        text-align: right;\n    }\n</style>\n<table border=\"1\" class=\"dataframe\">\n  <thead>\n    <tr style=\"text-align: right;\">\n      <th></th>\n      <th>species</th>\n      <th>bill_length_mm</th>\n      <th>bill_depth_mm</th>\n      <th>flipper_length_mm</th>\n      <th>body_mass_g</th>\n      <th>year</th>\n      <th>island.Dream</th>\n      <th>island.Torgersen</th>\n      <th>sex.male</th>\n    </tr>\n  </thead>\n  <tbody>\n    <tr>\n      <th>0</th>\n      <td>Adelie</td>\n      <td>39.1</td>\n      <td>18.7</td>\n      <td>181.0</td>\n      <td>3750.0</td>\n      <td>2007</td>\n      <td>0</td>\n      <td>1</td>\n      <td>1</td>\n    </tr>\n    <tr>\n      <th>1</th>\n      <td>Adelie</td>\n      <td>39.5</td>\n      <td>17.4</td>\n      <td>186.0</td>\n      <td>3800.0</td>\n      <td>2007</td>\n      <td>0</td>\n      <td>1</td>\n      <td>0</td>\n    </tr>\n    <tr>\n      <th>2</th>\n      <td>Adelie</td>\n      <td>40.3</td>\n      <td>18.0</td>\n      <td>195.0</td>\n      <td>3250.0</td>\n      <td>2007</td>\n      <td>0</td>\n      <td>1</td>\n      <td>0</td>\n    </tr>\n    <tr>\n      <th>4</th>\n      <td>Adelie</td>\n      <td>36.7</td>\n      <td>19.3</td>\n      <td>193.0</td>\n      <td>3450.0</td>\n      <td>2007</td>\n      <td>0</td>\n      <td>1</td>\n      <td>0</td>\n    </tr>\n    <tr>\n      <th>5</th>\n      <td>Adelie</td>\n      <td>39.3</td>\n      <td>20.6</td>\n      <td>190.0</td>\n      <td>3650.0</td>\n      <td>2007</td>\n      <td>0</td>\n      <td>1</td>\n      <td>1</td>\n    </tr>\n    <tr>\n      <th>...</th>\n      <td>...</td>\n      <td>...</td>\n      <td>...</td>\n      <td>...</td>\n      <td>...</td>\n      <td>...</td>\n      <td>...</td>\n      <td>...</td>\n      <td>...</td>\n    </tr>\n    <tr>\n      <th>339</th>\n      <td>Chinstrap</td>\n      <td>55.8</td>\n      <td>19.8</td>\n      <td>207.0</td>\n      <td>4000.0</td>\n      <td>2009</td>\n      <td>1</td>\n      <td>0</td>\n      <td>1</td>\n    </tr>\n    <tr>\n      <th>340</th>\n      <td>Chinstrap</td>\n      <td>43.5</td>\n      <td>18.1</td>\n      <td>202.0</td>\n      <td>3400.0</td>\n      <td>2009</td>\n      <td>1</td>\n      <td>0</td>\n      <td>0</td>\n    </tr>\n    <tr>\n      <th>341</th>\n      <td>Chinstrap</td>\n      <td>49.6</td>\n      <td>18.2</td>\n      <td>193.0</td>\n      <td>3775.0</td>\n      <td>2009</td>\n      <td>1</td>\n      <td>0</td>\n      <td>1</td>\n    </tr>\n    <tr>\n      <th>342</th>\n      <td>Chinstrap</td>\n      <td>50.8</td>\n      <td>19.0</td>\n      <td>210.0</td>\n      <td>4100.0</td>\n      <td>2009</td>\n      <td>1</td>\n      <td>0</td>\n      <td>1</td>\n    </tr>\n    <tr>\n      <th>343</th>\n      <td>Chinstrap</td>\n      <td>50.2</td>\n      <td>18.7</td>\n      <td>198.0</td>\n      <td>3775.0</td>\n      <td>2009</td>\n      <td>1</td>\n      <td>0</td>\n      <td>0</td>\n    </tr>\n  </tbody>\n</table>\n<p>342 rows × 9 columns</p>\n</div>"
     },
     "execution_count": 19,
     "metadata": {},
     "output_type": "execute_result"
    }
   ],
   "source": [
    "penguins_df2 = penguins_df.drop(penguins_df[nom_features], axis=1)\n",
    "penguins_df3 = pd.concat([penguins_df2, nom_encoded_df], axis=1)\n",
    "penguins_df3"
   ],
   "metadata": {
    "collapsed": false,
    "pycharm": {
     "name": "#%%\n"
    }
   }
  },
  {
   "cell_type": "markdown",
   "source": [
    "#### Create the training and testing data sets"
   ],
   "metadata": {
    "collapsed": false,
    "pycharm": {
     "name": "#%% md\n"
    }
   }
  },
  {
   "cell_type": "code",
   "execution_count": 20,
   "outputs": [],
   "source": [
    "X_train, X_test, y_train, y_test = train_test_split(penguins_df3, penguins_df3['species'], test_size=0.25, random_state=101)"
   ],
   "metadata": {
    "collapsed": false,
    "pycharm": {
     "name": "#%%\n"
    }
   }
  },
  {
   "cell_type": "markdown",
   "source": [
    "#### Drop the target from the training and testing data sets"
   ],
   "metadata": {
    "collapsed": false,
    "pycharm": {
     "name": "#%% md\n"
    }
   }
  },
  {
   "cell_type": "code",
   "execution_count": 21,
   "outputs": [],
   "source": [
    "X_train = X_train.drop('species', axis=1)\n",
    "X_test = X_test.drop('species', axis=1)"
   ],
   "metadata": {
    "collapsed": false,
    "pycharm": {
     "name": "#%%\n"
    }
   }
  },
  {
   "cell_type": "markdown",
   "source": [
    "#### Initialize and fit the RandomForest model\n",
    "\n",
    "The hyperparameter `n_estimators` indicates the number of Decision Trees to use - a typical value is between 64 and 128. Note that we are not using the hyperparameter `oob_score` which is related to out-of-bag errors"
   ],
   "metadata": {
    "collapsed": false,
    "pycharm": {
     "name": "#%% md\n"
    }
   }
  },
  {
   "cell_type": "code",
   "execution_count": 22,
   "outputs": [
    {
     "data": {
      "text/plain": "RandomForestClassifier(max_depth=4, n_estimators=64, random_state=101)"
     },
     "execution_count": 22,
     "metadata": {},
     "output_type": "execute_result"
    }
   ],
   "source": [
    "model = RandomForestClassifier(max_depth=4, n_estimators=64, random_state=101)\n",
    "model.fit(X_train, y_train)"
   ],
   "metadata": {
    "collapsed": false,
    "pycharm": {
     "name": "#%%\n"
    }
   }
  },
  {
   "cell_type": "markdown",
   "source": [
    "#### Predict the target `species` using the testing data set"
   ],
   "metadata": {
    "collapsed": false,
    "pycharm": {
     "name": "#%% md\n"
    }
   }
  },
  {
   "cell_type": "code",
   "execution_count": 23,
   "outputs": [],
   "source": [
    "y_predict = model.predict(X_test)"
   ],
   "metadata": {
    "collapsed": false,
    "pycharm": {
     "name": "#%%\n"
    }
   }
  },
  {
   "cell_type": "markdown",
   "source": [
    "#### Display the accuracy score"
   ],
   "metadata": {
    "collapsed": false,
    "pycharm": {
     "name": "#%% md\n"
    }
   }
  },
  {
   "cell_type": "code",
   "execution_count": 24,
   "outputs": [
    {
     "data": {
      "text/plain": "0.9883720930232558"
     },
     "execution_count": 24,
     "metadata": {},
     "output_type": "execute_result"
    }
   ],
   "source": [
    "accuracy_score(y_test, y_predict)"
   ],
   "metadata": {
    "collapsed": false,
    "pycharm": {
     "name": "#%%\n"
    }
   }
  }
 ],
 "metadata": {
  "kernelspec": {
   "display_name": "Python 3",
   "language": "python",
   "name": "python3"
  },
  "language_info": {
   "codemirror_mode": {
    "name": "ipython",
    "version": 2
   },
   "file_extension": ".py",
   "mimetype": "text/x-python",
   "name": "python",
   "nbconvert_exporter": "python",
   "pygments_lexer": "ipython2",
   "version": "2.7.6"
  }
 },
 "nbformat": 4,
 "nbformat_minor": 0
}