{
 "cells": [
  {
   "cell_type": "markdown",
   "metadata": {},
   "source": [
    "# Linear Regression"
   ]
  },
  {
   "cell_type": "markdown",
   "metadata": {},
   "source": [
    "## Part - 1"
   ]
  },
  {
   "cell_type": "code",
   "execution_count": 1,
   "metadata": {
    "collapsed": true
   },
   "outputs": [],
   "source": [
    "import numpy as np\n",
    "import pandas as pd\n",
    "import matplotlib.pyplot as plt"
   ]
  },
  {
   "cell_type": "code",
   "execution_count": 2,
   "metadata": {
    "pycharm": {
     "name": "#%%\n"
    }
   },
   "outputs": [],
   "source": [
    "%matplotlib inline\n",
    "plt.style.use('seaborn')"
   ]
  },
  {
   "cell_type": "markdown",
   "metadata": {},
   "source": [
    "### Simple Linear Regression"
   ]
  },
  {
   "cell_type": "markdown",
   "metadata": {},
   "source": [
    "#### Simulated Line of Best Fit with actual vs predicted"
   ]
  },
  {
   "cell_type": "code",
   "execution_count": 3,
   "metadata": {
    "pycharm": {
     "name": "#%%\n"
    }
   },
   "outputs": [],
   "source": [
    "x_sim = np.array([1, 3, 2, 5, 4, 7, 6, 9, 8])\n",
    "y_sim = 0.5 * x_sim + 1\n",
    "yhat_sim = np.array([2.2, 3.0, 1.7, 3.5, 2.4, 5.3, 4.0, 6.1, 4.7])\n",
    "x_txt = [1.2, 2.2, 2.2, 4.2, 6.2, 8.2, 8.2]\n",
    "y_txt = [1.95, 1.85, 2.65, 2.65, 4.75, 4.75, 5.75]\n",
    "label = ['$y_1 - y$', '$y_2 - y$', '$y_3 - y$', '$y_4 - y$', '$y_7 - y$', '$y_8 - y$', '$y_9 - y$']"
   ]
  },
  {
   "cell_type": "code",
   "execution_count": 4,
   "metadata": {
    "pycharm": {
     "name": "#%%\n"
    }
   },
   "outputs": [
    {
     "data": {
      "text/plain": "<Figure size 576x396 with 1 Axes>",
      "image/png": "[encoded data removed]"
     },
     "metadata": {},
     "output_type": "display_data"
    }
   ],
   "source": [
    "plt.plot(x_sim, y_sim, linewidth=2, color='skyblue')\n",
    "plt.scatter(x_sim, y_sim, color='blue')\n",
    "plt.scatter(x_sim, yhat_sim, color='red')\n",
    "for i in range(0, 9):\n",
    "    plt.plot([x_sim[i], x_sim[i]], [y_sim[i], yhat_sim[i]], linestyle='--', color='red')\n",
    "for i in range(0, 7):\n",
    "    plt.text(x_txt[i], y_txt[i], label[i], color='red')\n",
    "plt.show()"
   ]
  },
  {
   "cell_type": "markdown",
   "metadata": {
    "pycharm": {
     "name": "#%% md\n"
    }
   },
   "source": [
    "#### Auto MPG Data Set\n",
    "Source: [UCI Machine Learning Repository - Auto MPG Data Set](https://archive.ics.uci.edu/ml/datasets/Auto+MPG)"
   ]
  },
  {
   "cell_type": "code",
   "execution_count": 5,
   "metadata": {
    "pycharm": {
     "name": "#%%\n"
    }
   },
   "outputs": [],
   "source": [
    "url = 'https://archive.ics.uci.edu/ml/machine-learning-databases/auto-mpg/auto-mpg.data'\n",
    "auto_df = pd.read_csv(url, delim_whitespace=True)\n",
    "auto_df.columns = ['mpg', 'cylinders', 'displacement', 'horsepower', 'weight', 'acceleration', 'model_year', 'origin', 'car_name']"
   ]
  },
  {
   "cell_type": "markdown",
   "metadata": {},
   "source": [
    "#### Check column data types"
   ]
  },
  {
   "cell_type": "code",
   "execution_count": 6,
   "metadata": {
    "pycharm": {
     "name": "#%%\n"
    }
   },
   "outputs": [
    {
     "data": {
      "text/plain": "mpg             float64\ncylinders         int64\ndisplacement    float64\nhorsepower       object\nweight          float64\nacceleration    float64\nmodel_year        int64\norigin            int64\ncar_name         object\ndtype: object"
     },
     "execution_count": 6,
     "metadata": {},
     "output_type": "execute_result"
    }
   ],
   "source": [
    "auto_df.dtypes"
   ]
  },
  {
   "cell_type": "markdown",
   "metadata": {},
   "source": [
    "#### Fix data types for the columns - horsepower and car_name"
   ]
  },
  {
   "cell_type": "code",
   "execution_count": 7,
   "metadata": {
    "pycharm": {
     "name": "#%%\n"
    }
   },
   "outputs": [],
   "source": [
    "auto_df.horsepower = pd.to_numeric(auto_df.horsepower, errors='coerce')\n",
    "auto_df.car_name = auto_df.car_name.astype('string')"
   ]
  },
  {
   "cell_type": "code",
   "execution_count": 8,
   "metadata": {
    "pycharm": {
     "name": "#%%\n"
    }
   },
   "outputs": [
    {
     "data": {
      "text/plain": "mpg             float64\ncylinders         int64\ndisplacement    float64\nhorsepower      float64\nweight          float64\nacceleration    float64\nmodel_year        int64\norigin            int64\ncar_name         string\ndtype: object"
     },
     "execution_count": 8,
     "metadata": {},
     "output_type": "execute_result"
    }
   ],
   "source": [
    "auto_df.dtypes"
   ]
  },
  {
   "cell_type": "markdown",
   "metadata": {},
   "source": [
    "#### Display first few records"
   ]
  },
  {
   "cell_type": "code",
   "execution_count": 9,
   "metadata": {
    "pycharm": {
     "name": "#%%\n"
    }
   },
   "outputs": [
    {
     "data": {
      "text/plain": "    mpg  cylinders  displacement  horsepower  weight  acceleration  \\\n0  15.0          8         350.0       165.0  3693.0          11.5   \n1  18.0          8         318.0       150.0  3436.0          11.0   \n2  16.0          8         304.0       150.0  3433.0          12.0   \n3  17.0          8         302.0       140.0  3449.0          10.5   \n4  15.0          8         429.0       198.0  4341.0          10.0   \n\n   model_year  origin            car_name  \n0          70       1   buick skylark 320  \n1          70       1  plymouth satellite  \n2          70       1       amc rebel sst  \n3          70       1         ford torino  \n4          70       1    ford galaxie 500  ",
      "text/html": "<div>\n<style scoped>\n    .dataframe tbody tr th:only-of-type {\n        vertical-align: middle;\n    }\n\n    .dataframe tbody tr th {\n        vertical-align: top;\n    }\n\n    .dataframe thead th {\n        text-align: right;\n    }\n</style>\n<table border=\"1\" class=\"dataframe\">\n  <thead>\n    <tr style=\"text-align: right;\">\n      <th></th>\n      <th>mpg</th>\n      <th>cylinders</th>\n      <th>displacement</th>\n      <th>horsepower</th>\n      <th>weight</th>\n      <th>acceleration</th>\n      <th>model_year</th>\n      <th>origin</th>\n      <th>car_name</th>\n    </tr>\n  </thead>\n  <tbody>\n    <tr>\n      <th>0</th>\n      <td>15.0</td>\n      <td>8</td>\n      <td>350.0</td>\n      <td>165.0</td>\n      <td>3693.0</td>\n      <td>11.5</td>\n      <td>70</td>\n      <td>1</td>\n      <td>buick skylark 320</td>\n    </tr>\n    <tr>\n      <th>1</th>\n      <td>18.0</td>\n      <td>8</td>\n      <td>318.0</td>\n      <td>150.0</td>\n      <td>3436.0</td>\n      <td>11.0</td>\n      <td>70</td>\n      <td>1</td>\n      <td>plymouth satellite</td>\n    </tr>\n    <tr>\n      <th>2</th>\n      <td>16.0</td>\n      <td>8</td>\n      <td>304.0</td>\n      <td>150.0</td>\n      <td>3433.0</td>\n      <td>12.0</td>\n      <td>70</td>\n      <td>1</td>\n      <td>amc rebel sst</td>\n    </tr>\n    <tr>\n      <th>3</th>\n      <td>17.0</td>\n      <td>8</td>\n      <td>302.0</td>\n      <td>140.0</td>\n      <td>3449.0</td>\n      <td>10.5</td>\n      <td>70</td>\n      <td>1</td>\n      <td>ford torino</td>\n    </tr>\n    <tr>\n      <th>4</th>\n      <td>15.0</td>\n      <td>8</td>\n      <td>429.0</td>\n      <td>198.0</td>\n      <td>4341.0</td>\n      <td>10.0</td>\n      <td>70</td>\n      <td>1</td>\n      <td>ford galaxie 500</td>\n    </tr>\n  </tbody>\n</table>\n</div>"
     },
     "execution_count": 9,
     "metadata": {},
     "output_type": "execute_result"
    }
   ],
   "source": [
    "auto_df.head()"
   ]
  },
  {
   "cell_type": "code",
   "execution_count": 10,
   "metadata": {
    "pycharm": {
     "name": "#%%\n"
    }
   },
   "outputs": [
    {
     "data": {
      "text/plain": "397"
     },
     "execution_count": 10,
     "metadata": {},
     "output_type": "execute_result"
    }
   ],
   "source": [
    "len(auto_df)"
   ]
  },
  {
   "cell_type": "markdown",
   "metadata": {},
   "source": [
    "#### Check for null values in horsepower"
   ]
  },
  {
   "cell_type": "code",
   "execution_count": 11,
   "metadata": {
    "pycharm": {
     "name": "#%%\n"
    }
   },
   "outputs": [
    {
     "data": {
      "text/plain": "      mpg  cylinders  displacement  horsepower  weight  acceleration  \\\n31   25.0          4          98.0         NaN  2046.0          19.0   \n125  21.0          6         200.0         NaN  2875.0          17.0   \n329  40.9          4          85.0         NaN  1835.0          17.3   \n335  23.6          4         140.0         NaN  2905.0          14.3   \n353  34.5          4         100.0         NaN  2320.0          15.8   \n373  23.0          4         151.0         NaN  3035.0          20.5   \n\n     model_year  origin              car_name  \n31           71       1            ford pinto  \n125          74       1         ford maverick  \n329          80       2  renault lecar deluxe  \n335          80       1    ford mustang cobra  \n353          81       2           renault 18i  \n373          82       1        amc concord dl  ",
      "text/html": "<div>\n<style scoped>\n    .dataframe tbody tr th:only-of-type {\n        vertical-align: middle;\n    }\n\n    .dataframe tbody tr th {\n        vertical-align: top;\n    }\n\n    .dataframe thead th {\n        text-align: right;\n    }\n</style>\n<table border=\"1\" class=\"dataframe\">\n  <thead>\n    <tr style=\"text-align: right;\">\n      <th></th>\n      <th>mpg</th>\n      <th>cylinders</th>\n      <th>displacement</th>\n      <th>horsepower</th>\n      <th>weight</th>\n      <th>acceleration</th>\n      <th>model_year</th>\n      <th>origin</th>\n      <th>car_name</th>\n    </tr>\n  </thead>\n  <tbody>\n    <tr>\n      <th>31</th>\n      <td>25.0</td>\n      <td>4</td>\n      <td>98.0</td>\n      <td>NaN</td>\n      <td>2046.0</td>\n      <td>19.0</td>\n      <td>71</td>\n      <td>1</td>\n      <td>ford pinto</td>\n    </tr>\n    <tr>\n      <th>125</th>\n      <td>21.0</td>\n      <td>6</td>\n      <td>200.0</td>\n      <td>NaN</td>\n      <td>2875.0</td>\n      <td>17.0</td>\n      <td>74</td>\n      <td>1</td>\n      <td>ford maverick</td>\n    </tr>\n    <tr>\n      <th>329</th>\n      <td>40.9</td>\n      <td>4</td>\n      <td>85.0</td>\n      <td>NaN</td>\n      <td>1835.0</td>\n      <td>17.3</td>\n      <td>80</td>\n      <td>2</td>\n      <td>renault lecar deluxe</td>\n    </tr>\n    <tr>\n      <th>335</th>\n      <td>23.6</td>\n      <td>4</td>\n      <td>140.0</td>\n      <td>NaN</td>\n      <td>2905.0</td>\n      <td>14.3</td>\n      <td>80</td>\n      <td>1</td>\n      <td>ford mustang cobra</td>\n    </tr>\n    <tr>\n      <th>353</th>\n      <td>34.5</td>\n      <td>4</td>\n      <td>100.0</td>\n      <td>NaN</td>\n      <td>2320.0</td>\n      <td>15.8</td>\n      <td>81</td>\n      <td>2</td>\n      <td>renault 18i</td>\n    </tr>\n    <tr>\n      <th>373</th>\n      <td>23.0</td>\n      <td>4</td>\n      <td>151.0</td>\n      <td>NaN</td>\n      <td>3035.0</td>\n      <td>20.5</td>\n      <td>82</td>\n      <td>1</td>\n      <td>amc concord dl</td>\n    </tr>\n  </tbody>\n</table>\n</div>"
     },
     "execution_count": 11,
     "metadata": {},
     "output_type": "execute_result"
    }
   ],
   "source": [
    "auto_df[auto_df.horsepower.isnull()]"
   ]
  },
  {
   "cell_type": "markdown",
   "metadata": {},
   "source": [
    "#### Eliminate null values in horseposer"
   ]
  },
  {
   "cell_type": "code",
   "execution_count": 12,
   "metadata": {
    "pycharm": {
     "name": "#%%\n"
    }
   },
   "outputs": [
    {
     "data": {
      "text/plain": "391"
     },
     "execution_count": 12,
     "metadata": {},
     "output_type": "execute_result"
    }
   ],
   "source": [
    "auto_df = auto_df[auto_df.horsepower.notnull()]\n",
    "len(auto_df)"
   ]
  },
  {
   "cell_type": "markdown",
   "metadata": {},
   "source": [
    "#### Check for null values in mpg"
   ]
  },
  {
   "cell_type": "code",
   "execution_count": 13,
   "metadata": {
    "pycharm": {
     "name": "#%%\n"
    }
   },
   "outputs": [
    {
     "data": {
      "text/plain": "Empty DataFrame\nColumns: [mpg, cylinders, displacement, horsepower, weight, acceleration, model_year, origin, car_name]\nIndex: []",
      "text/html": "<div>\n<style scoped>\n    .dataframe tbody tr th:only-of-type {\n        vertical-align: middle;\n    }\n\n    .dataframe tbody tr th {\n        vertical-align: top;\n    }\n\n    .dataframe thead th {\n        text-align: right;\n    }\n</style>\n<table border=\"1\" class=\"dataframe\">\n  <thead>\n    <tr style=\"text-align: right;\">\n      <th></th>\n      <th>mpg</th>\n      <th>cylinders</th>\n      <th>displacement</th>\n      <th>horsepower</th>\n      <th>weight</th>\n      <th>acceleration</th>\n      <th>model_year</th>\n      <th>origin</th>\n      <th>car_name</th>\n    </tr>\n  </thead>\n  <tbody>\n  </tbody>\n</table>\n</div>"
     },
     "execution_count": 13,
     "metadata": {},
     "output_type": "execute_result"
    }
   ],
   "source": [
    "auto_df[auto_df.mpg.isnull()]"
   ]
  },
  {
   "cell_type": "markdown",
   "metadata": {},
   "source": [
    "#### Display statistics about horsepower"
   ]
  },
  {
   "cell_type": "code",
   "execution_count": 14,
   "metadata": {
    "pycharm": {
     "name": "#%%\n"
    }
   },
   "outputs": [
    {
     "data": {
      "text/plain": "count    391.000000\nmean     104.404092\nstd       38.518732\nmin       46.000000\n25%       75.000000\n50%       93.000000\n75%      125.000000\nmax      230.000000\nName: horsepower, dtype: float64"
     },
     "execution_count": 14,
     "metadata": {},
     "output_type": "execute_result"
    }
   ],
   "source": [
    "auto_df.horsepower.describe()"
   ]
  },
  {
   "cell_type": "markdown",
   "metadata": {},
   "source": [
    "#### Relationship plot between auto mpg (y) and horsepower (x).\n",
    "The relationship can be written as: $mpg = \\beta_0 + \\beta_1.horsepower$"
   ]
  },
  {
   "cell_type": "code",
   "execution_count": 15,
   "metadata": {
    "pycharm": {
     "name": "#%%\n"
    }
   },
   "outputs": [],
   "source": [
    "x = auto_df.horsepower\n",
    "x_sqr = x * x\n",
    "y = auto_df.mpg\n",
    "xy = x * y\n",
    "x_bar = x.mean()\n",
    "x_sqr_bar = x_sqr.mean()\n",
    "x_bar_sqr = x_bar * x_bar\n",
    "y_bar = y.mean()\n",
    "xy_bar = xy.mean()\n",
    "denom = x_sqr_bar - x_bar_sqr\n",
    "beta_0 = (y_bar * x_sqr_bar - x_bar * xy_bar) / denom\n",
    "beta_1 = (xy_bar - x_bar * y_bar) / denom\n",
    "y_hat = beta_0 + beta_1 * x"
   ]
  },
  {
   "cell_type": "code",
   "execution_count": 16,
   "metadata": {
    "pycharm": {
     "name": "#%%\n"
    }
   },
   "outputs": [
    {
     "data": {
      "text/plain": "(39.93294293747181, -0.15778209515828398)"
     },
     "execution_count": 16,
     "metadata": {},
     "output_type": "execute_result"
    }
   ],
   "source": [
    "beta_0, beta_1"
   ]
  },
  {
   "cell_type": "markdown",
   "metadata": {},
   "source": [
    "#### Plot the relationship between horsepower and mpg with the **Line of Best Fit**"
   ]
  },
  {
   "cell_type": "code",
   "execution_count": 17,
   "metadata": {
    "pycharm": {
     "name": "#%%\n"
    }
   },
   "outputs": [
    {
     "data": {
      "text/plain": "<Figure size 576x396 with 1 Axes>",
      "image/png": "[encoded data removed]"
     },
     "metadata": {},
     "output_type": "display_data"
    }
   ],
   "source": [
    "plt.scatter(x, y)\n",
    "plt.plot(x, y_hat, color='red')\n",
    "plt.xlabel('Horsepower')\n",
    "plt.ylabel('MPG')\n",
    "plt.show()"
   ]
  },
  {
   "cell_type": "markdown",
   "metadata": {},
   "source": [
    "#### R-Squared measure"
   ]
  },
  {
   "cell_type": "code",
   "execution_count": 18,
   "metadata": {
    "pycharm": {
     "name": "#%%\n"
    }
   },
   "outputs": [
    {
     "data": {
      "text/plain": "0.605540338400842"
     },
     "execution_count": 18,
     "metadata": {},
     "output_type": "execute_result"
    }
   ],
   "source": [
    "sse_d = y - y_hat\n",
    "sst_d = y - y_bar\n",
    "r2 = 1 - sse_d.dot(sse_d)/sst_d.dot(sst_d)\n",
    "r2"
   ]
  }
 ],
 "metadata": {
  "kernelspec": {
   "display_name": "Python 3 (ipykernel)",
   "language": "python",
   "name": "python3"
  },
  "language_info": {
   "codemirror_mode": {
    "name": "ipython",
    "version": 3
   },
   "file_extension": ".py",
   "mimetype": "text/x-python",
   "name": "python",
   "nbconvert_exporter": "python",
   "pygments_lexer": "ipython3",
   "version": "3.8.10"
  }
 },
 "nbformat": 4,
 "nbformat_minor": 1
}