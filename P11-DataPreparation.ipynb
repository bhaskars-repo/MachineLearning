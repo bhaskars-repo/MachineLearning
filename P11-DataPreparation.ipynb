{
 "cells": [
  {
   "cell_type": "markdown",
   "metadata": {
    "pycharm": {
     "name": "#%% md\n"
    }
   },
   "source": [
    "# Data Preparation - Part 3"
   ]
  },
  {
   "cell_type": "markdown",
   "metadata": {
    "pycharm": {
     "name": "#%% md\n"
    }
   },
   "source": [
    "#### Python Imports"
   ]
  },
  {
   "cell_type": "code",
   "execution_count": 16,
   "metadata": {
    "pycharm": {
     "name": "#%%\n"
    }
   },
   "outputs": [],
   "source": [
    "import pandas as pd\n",
    "from sklearn.preprocessing import StandardScaler"
   ]
  },
  {
   "cell_type": "markdown",
   "metadata": {
    "pycharm": {
     "name": "#%% md\n"
    }
   },
   "source": [
    "#### Load and display the Imputed Ames Iowa Housing Prices Data Set"
   ]
  },
  {
   "cell_type": "code",
   "execution_count": 17,
   "metadata": {
    "pycharm": {
     "name": "#%%\n"
    }
   },
   "outputs": [
    {
     "data": {
      "text/plain": "     MS.Zoning Street Lot.Shape Land.Contour Utilities Lot.Config Land.Slope  \\\n0           RL   Pave       IR1          Lvl    AllPub     Corner        Gtl   \n1           RH   Pave       Reg          Lvl    AllPub     Inside        Gtl   \n2           RL   Pave       IR1          Lvl    AllPub     Corner        Gtl   \n3           RL   Pave       Reg          Lvl    AllPub     Corner        Gtl   \n4           RL   Pave       IR1          Lvl    AllPub     Inside        Gtl   \n...        ...    ...       ...          ...       ...        ...        ...   \n2922        RL   Pave       IR1          Lvl    AllPub    CulDSac        Gtl   \n2923        RL   Pave       IR1          Low    AllPub     Inside        Mod   \n2924        RL   Pave       Reg          Lvl    AllPub     Inside        Gtl   \n2925        RL   Pave       Reg          Lvl    AllPub     Inside        Mod   \n2926        RL   Pave       Reg          Lvl    AllPub     Inside        Mod   \n\n     Neighborhood Condition.1 Condition.2  ... Garage.Yr.Blt Garage.Finish  \\\n0           NAmes        Norm        Norm  ...        1960.0           Fin   \n1           NAmes       Feedr        Norm  ...        1961.0           Unf   \n2           NAmes        Norm        Norm  ...        1958.0           Unf   \n3           NAmes        Norm        Norm  ...        1968.0           Fin   \n4         Gilbert        Norm        Norm  ...        1997.0           Fin   \n...           ...         ...         ...  ...           ...           ...   \n2922      Mitchel        Norm        Norm  ...        1984.0           Unf   \n2923      Mitchel        Norm        Norm  ...        1983.0           Unf   \n2924      Mitchel        Norm        Norm  ...           0.0            NA   \n2925      Mitchel        Norm        Norm  ...        1975.0           RFn   \n2926      Mitchel        Norm        Norm  ...        1993.0           Fin   \n\n      Garage.Cars  Garage.Area  Garage.Qual Garage.Cond Paved.Drive Sale.Type  \\\n0             2.0        528.0           TA          TA           P       WD    \n1             1.0        730.0           TA          TA           Y       WD    \n2             1.0        312.0           TA          TA           Y       WD    \n3             2.0        522.0           TA          TA           Y       WD    \n4             2.0        482.0           TA          TA           Y       WD    \n...           ...          ...          ...         ...         ...       ...   \n2922          2.0        588.0           TA          TA           Y       WD    \n2923          2.0        484.0           TA          TA           Y       WD    \n2924          0.0          0.0           NA          NA           Y       WD    \n2925          2.0        418.0           TA          TA           Y       WD    \n2926          3.0        650.0           TA          TA           Y       WD    \n\n     Sale.Condition SalePrice  \n0            Normal    215000  \n1            Normal    105000  \n2            Normal    172000  \n3            Normal    244000  \n4            Normal    189900  \n...             ...       ...  \n2922         Normal    142500  \n2923         Normal    131000  \n2924         Normal    132000  \n2925         Normal    170000  \n2926         Normal    188000  \n\n[2927 rows x 51 columns]",
      "text/html": "<div>\n<style scoped>\n    .dataframe tbody tr th:only-of-type {\n        vertical-align: middle;\n    }\n\n    .dataframe tbody tr th {\n        vertical-align: top;\n    }\n\n    .dataframe thead th {\n        text-align: right;\n    }\n</style>\n<table border=\"1\" class=\"dataframe\">\n  <thead>\n    <tr style=\"text-align: right;\">\n      <th></th>\n      <th>MS.Zoning</th>\n      <th>Street</th>\n      <th>Lot.Shape</th>\n      <th>Land.Contour</th>\n      <th>Utilities</th>\n      <th>Lot.Config</th>\n      <th>Land.Slope</th>\n      <th>Neighborhood</th>\n      <th>Condition.1</th>\n      <th>Condition.2</th>\n      <th>...</th>\n      <th>Garage.Yr.Blt</th>\n      <th>Garage.Finish</th>\n      <th>Garage.Cars</th>\n      <th>Garage.Area</th>\n      <th>Garage.Qual</th>\n      <th>Garage.Cond</th>\n      <th>Paved.Drive</th>\n      <th>Sale.Type</th>\n      <th>Sale.Condition</th>\n      <th>SalePrice</th>\n    </tr>\n  </thead>\n  <tbody>\n    <tr>\n      <th>0</th>\n      <td>RL</td>\n      <td>Pave</td>\n      <td>IR1</td>\n      <td>Lvl</td>\n      <td>AllPub</td>\n      <td>Corner</td>\n      <td>Gtl</td>\n      <td>NAmes</td>\n      <td>Norm</td>\n      <td>Norm</td>\n      <td>...</td>\n      <td>1960.0</td>\n      <td>Fin</td>\n      <td>2.0</td>\n      <td>528.0</td>\n      <td>TA</td>\n      <td>TA</td>\n      <td>P</td>\n      <td>WD</td>\n      <td>Normal</td>\n      <td>215000</td>\n    </tr>\n    <tr>\n      <th>1</th>\n      <td>RH</td>\n      <td>Pave</td>\n      <td>Reg</td>\n      <td>Lvl</td>\n      <td>AllPub</td>\n      <td>Inside</td>\n      <td>Gtl</td>\n      <td>NAmes</td>\n      <td>Feedr</td>\n      <td>Norm</td>\n      <td>...</td>\n      <td>1961.0</td>\n      <td>Unf</td>\n      <td>1.0</td>\n      <td>730.0</td>\n      <td>TA</td>\n      <td>TA</td>\n      <td>Y</td>\n      <td>WD</td>\n      <td>Normal</td>\n      <td>105000</td>\n    </tr>\n    <tr>\n      <th>2</th>\n      <td>RL</td>\n      <td>Pave</td>\n      <td>IR1</td>\n      <td>Lvl</td>\n      <td>AllPub</td>\n      <td>Corner</td>\n      <td>Gtl</td>\n      <td>NAmes</td>\n      <td>Norm</td>\n      <td>Norm</td>\n      <td>...</td>\n      <td>1958.0</td>\n      <td>Unf</td>\n      <td>1.0</td>\n      <td>312.0</td>\n      <td>TA</td>\n      <td>TA</td>\n      <td>Y</td>\n      <td>WD</td>\n      <td>Normal</td>\n      <td>172000</td>\n    </tr>\n    <tr>\n      <th>3</th>\n      <td>RL</td>\n      <td>Pave</td>\n      <td>Reg</td>\n      <td>Lvl</td>\n      <td>AllPub</td>\n      <td>Corner</td>\n      <td>Gtl</td>\n      <td>NAmes</td>\n      <td>Norm</td>\n      <td>Norm</td>\n      <td>...</td>\n      <td>1968.0</td>\n      <td>Fin</td>\n      <td>2.0</td>\n      <td>522.0</td>\n      <td>TA</td>\n      <td>TA</td>\n      <td>Y</td>\n      <td>WD</td>\n      <td>Normal</td>\n      <td>244000</td>\n    </tr>\n    <tr>\n      <th>4</th>\n      <td>RL</td>\n      <td>Pave</td>\n      <td>IR1</td>\n      <td>Lvl</td>\n      <td>AllPub</td>\n      <td>Inside</td>\n      <td>Gtl</td>\n      <td>Gilbert</td>\n      <td>Norm</td>\n      <td>Norm</td>\n      <td>...</td>\n      <td>1997.0</td>\n      <td>Fin</td>\n      <td>2.0</td>\n      <td>482.0</td>\n      <td>TA</td>\n      <td>TA</td>\n      <td>Y</td>\n      <td>WD</td>\n      <td>Normal</td>\n      <td>189900</td>\n    </tr>\n    <tr>\n      <th>...</th>\n      <td>...</td>\n      <td>...</td>\n      <td>...</td>\n      <td>...</td>\n      <td>...</td>\n      <td>...</td>\n      <td>...</td>\n      <td>...</td>\n      <td>...</td>\n      <td>...</td>\n      <td>...</td>\n      <td>...</td>\n      <td>...</td>\n      <td>...</td>\n      <td>...</td>\n      <td>...</td>\n      <td>...</td>\n      <td>...</td>\n      <td>...</td>\n      <td>...</td>\n      <td>...</td>\n    </tr>\n    <tr>\n      <th>2922</th>\n      <td>RL</td>\n      <td>Pave</td>\n      <td>IR1</td>\n      <td>Lvl</td>\n      <td>AllPub</td>\n      <td>CulDSac</td>\n      <td>Gtl</td>\n      <td>Mitchel</td>\n      <td>Norm</td>\n      <td>Norm</td>\n      <td>...</td>\n      <td>1984.0</td>\n      <td>Unf</td>\n      <td>2.0</td>\n      <td>588.0</td>\n      <td>TA</td>\n      <td>TA</td>\n      <td>Y</td>\n      <td>WD</td>\n      <td>Normal</td>\n      <td>142500</td>\n    </tr>\n    <tr>\n      <th>2923</th>\n      <td>RL</td>\n      <td>Pave</td>\n      <td>IR1</td>\n      <td>Low</td>\n      <td>AllPub</td>\n      <td>Inside</td>\n      <td>Mod</td>\n      <td>Mitchel</td>\n      <td>Norm</td>\n      <td>Norm</td>\n      <td>...</td>\n      <td>1983.0</td>\n      <td>Unf</td>\n      <td>2.0</td>\n      <td>484.0</td>\n      <td>TA</td>\n      <td>TA</td>\n      <td>Y</td>\n      <td>WD</td>\n      <td>Normal</td>\n      <td>131000</td>\n    </tr>\n    <tr>\n      <th>2924</th>\n      <td>RL</td>\n      <td>Pave</td>\n      <td>Reg</td>\n      <td>Lvl</td>\n      <td>AllPub</td>\n      <td>Inside</td>\n      <td>Gtl</td>\n      <td>Mitchel</td>\n      <td>Norm</td>\n      <td>Norm</td>\n      <td>...</td>\n      <td>0.0</td>\n      <td>NA</td>\n      <td>0.0</td>\n      <td>0.0</td>\n      <td>NA</td>\n      <td>NA</td>\n      <td>Y</td>\n      <td>WD</td>\n      <td>Normal</td>\n      <td>132000</td>\n    </tr>\n    <tr>\n      <th>2925</th>\n      <td>RL</td>\n      <td>Pave</td>\n      <td>Reg</td>\n      <td>Lvl</td>\n      <td>AllPub</td>\n      <td>Inside</td>\n      <td>Mod</td>\n      <td>Mitchel</td>\n      <td>Norm</td>\n      <td>Norm</td>\n      <td>...</td>\n      <td>1975.0</td>\n      <td>RFn</td>\n      <td>2.0</td>\n      <td>418.0</td>\n      <td>TA</td>\n      <td>TA</td>\n      <td>Y</td>\n      <td>WD</td>\n      <td>Normal</td>\n      <td>170000</td>\n    </tr>\n    <tr>\n      <th>2926</th>\n      <td>RL</td>\n      <td>Pave</td>\n      <td>Reg</td>\n      <td>Lvl</td>\n      <td>AllPub</td>\n      <td>Inside</td>\n      <td>Mod</td>\n      <td>Mitchel</td>\n      <td>Norm</td>\n      <td>Norm</td>\n      <td>...</td>\n      <td>1993.0</td>\n      <td>Fin</td>\n      <td>3.0</td>\n      <td>650.0</td>\n      <td>TA</td>\n      <td>TA</td>\n      <td>Y</td>\n      <td>WD</td>\n      <td>Normal</td>\n      <td>188000</td>\n    </tr>\n  </tbody>\n</table>\n<p>2927 rows × 51 columns</p>\n</div>"
     },
     "execution_count": 17,
     "metadata": {},
     "output_type": "execute_result"
    }
   ],
   "source": [
    "# It is very important to set the flag keep_default_na to False. Else, the string with 'NA' will be interpreted as NaN\n",
    "url = './data/ames-imputed.csv'\n",
    "home_price_df = pd.read_csv(url, keep_default_na=False)\n",
    "home_price_df"
   ]
  },
  {
   "cell_type": "markdown",
   "metadata": {
    "pycharm": {
     "name": "#%% md\n"
    }
   },
   "source": [
    "#### Ensure there are no more missing values"
   ]
  },
  {
   "cell_type": "code",
   "execution_count": 18,
   "metadata": {
    "pycharm": {
     "name": "#%%\n"
    }
   },
   "outputs": [
    {
     "data": {
      "text/plain": "MS.Zoning         0\nStreet            0\nLot.Shape         0\nLand.Contour      0\nUtilities         0\nLot.Config        0\nLand.Slope        0\nNeighborhood      0\nCondition.1       0\nCondition.2       0\nBldg.Type         0\nHouse.Style       0\nOverall.Qual      0\nYear.Built        0\nYear.Remod.Add    0\nRoof.Style        0\nRoof.Matl         0\nExterior.1st      0\nExterior.2nd      0\nMas.Vnr.Type      0\nMas.Vnr.Area      0\nExter.Qual        0\nExter.Cond        0\nFoundation        0\nBsmt.Qual         0\nBsmt.Cond         0\nBsmt.Exposure     0\nBsmtFin.Type.1    0\nBsmtFin.Type.2    0\nTotal.Bsmt.SF     0\nHeating           0\nHeating.QC        0\nCentral.Air       0\nElectrical        0\nX1st.Flr.SF       0\nFull.Bath         0\nKitchen.Qual      0\nTotRms.AbvGrd     0\nFunctional        0\nFireplace.Qu      0\nGarage.Type       0\nGarage.Yr.Blt     0\nGarage.Finish     0\nGarage.Cars       0\nGarage.Area       0\nGarage.Qual       0\nGarage.Cond       0\nPaved.Drive       0\nSale.Type         0\nSale.Condition    0\nSalePrice         0\ndtype: int64"
     },
     "execution_count": 18,
     "metadata": {},
     "output_type": "execute_result"
    }
   ],
   "source": [
    "home_price_df.isnull().sum()"
   ]
  },
  {
   "cell_type": "markdown",
   "metadata": {
    "pycharm": {
     "name": "#%% md\n"
    }
   },
   "source": [
    "#### Identify and display the names of categorical features"
   ]
  },
  {
   "cell_type": "code",
   "execution_count": 19,
   "metadata": {
    "pycharm": {
     "name": "#%%\n"
    }
   },
   "outputs": [
    {
     "data": {
      "text/plain": "['Bldg.Type',\n 'Bsmt.Cond',\n 'Bsmt.Exposure',\n 'Bsmt.Qual',\n 'BsmtFin.Type.1',\n 'BsmtFin.Type.2',\n 'Central.Air',\n 'Condition.1',\n 'Condition.2',\n 'Electrical',\n 'Exter.Cond',\n 'Exter.Qual',\n 'Exterior.1st',\n 'Exterior.2nd',\n 'Fireplace.Qu',\n 'Foundation',\n 'Functional',\n 'Garage.Cond',\n 'Garage.Finish',\n 'Garage.Qual',\n 'Garage.Type',\n 'Heating',\n 'Heating.QC',\n 'House.Style',\n 'Kitchen.Qual',\n 'Land.Contour',\n 'Land.Slope',\n 'Lot.Config',\n 'Lot.Shape',\n 'MS.Zoning',\n 'Mas.Vnr.Type',\n 'Neighborhood',\n 'Paved.Drive',\n 'Roof.Matl',\n 'Roof.Style',\n 'Sale.Condition',\n 'Sale.Type',\n 'Street',\n 'Utilities']"
     },
     "execution_count": 19,
     "metadata": {},
     "output_type": "execute_result"
    }
   ],
   "source": [
    "cat_features = sorted(home_price_df.select_dtypes(include=['object']).columns.tolist())\n",
    "cat_features"
   ]
  },
  {
   "cell_type": "markdown",
   "metadata": {
    "pycharm": {
     "name": "#%% md\n"
    }
   },
   "source": [
    "#### Using the data dictionary, create a dictionary of the ordinal features with a dictionary that maps the labels to the numerical values"
   ]
  },
  {
   "cell_type": "code",
   "execution_count": 20,
   "metadata": {
    "pycharm": {
     "name": "#%%\n"
    }
   },
   "outputs": [],
   "source": [
    "ord_features_dict = {'Bsmt.Cond': {'NA': 0, 'Po': 1, 'Fa': 2, 'TA': 3, 'Gd': 4 , 'Ex': 5},\n",
    "                     'Bsmt.Exposure': {'NA': 0, 'No': 1, 'Mn': 2, 'Av': 3, 'Gd': 4},\n",
    "                     'BsmtFin.Type.1': {'NA': 0, 'Unf': 1, 'LwQ': 2, 'Rec': 3, 'BLQ': 4 , 'ALQ': 5, 'GLQ': 6},\n",
    "                     'BsmtFin.Type.2': {'NA': 0, 'Unf': 1, 'LwQ': 2, 'Rec': 3, 'BLQ': 4 , 'ALQ': 5, 'GLQ': 6},\n",
    "                     'Bsmt.Qual': {'NA': 0, 'Po': 1, 'Fa': 2, 'TA': 3, 'Gd': 4 , 'Ex': 5},\n",
    "                     'Electrical': {'SBrkr': 1, 'FuseA': 2, 'FuseF': 3, 'FuseP': 4, 'Mix': 5},\n",
    "                     'Exter.Cond': {'Po': 1, 'Fa': 2, 'TA': 3, 'Gd': 4 , 'Ex': 5},\n",
    "                     'Exter.Qual': {'Po': 1, 'Fa': 2, 'TA': 3, 'Gd': 4 , 'Ex': 5},\n",
    "                     'Fireplace.Qu': {'NA': 0, 'Po': 1, 'Fa': 2, 'TA': 3, 'Gd': 4 , 'Ex': 5},\n",
    "                     'Functional': {'Sal': 0, 'Sev': 1, 'Maj2': 2, 'Maj1': 3, 'Mod': 4, 'Min2': 5, 'Min1': 6, 'Typ': 7},\n",
    "                     'Garage.Cond': {'NA': 0, 'Po': 1, 'Fa': 2, 'TA': 3, 'Gd': 4 , 'Ex': 5},\n",
    "                     'Garage.Finish': {'NA': 0, 'Unf': 1, 'RFn': 2, 'Fin': 3},\n",
    "                     'Garage.Qual': {'NA': 0, 'Po': 1, 'Fa': 2, 'TA': 3, 'Gd': 4 , 'Ex': 5},\n",
    "                     'Heating.QC': {'Po': 1, 'Fa': 2, 'TA': 3, 'Gd': 4 , 'Ex': 5},\n",
    "                     'Land.Slope': {'Gtl': 1, 'Mod': 2, 'Sev': 3},\n",
    "                     'Lot.Shape': {'Reg': 1, 'IR1': 2, 'IR2': 3, 'IR3': 4},\n",
    "                     'Paved.Drive': {'Y': 1, 'P': 2, 'N': 3},\n",
    "                     'Utilities': {'AllPub': 1, 'NoSewr': 2, 'NoSeWa': 3, 'ELO': 4}}"
   ]
  },
  {
   "cell_type": "markdown",
   "metadata": {
    "pycharm": {
     "name": "#%% md\n"
    }
   },
   "source": [
    "#### Replace the ordinal feature labels with their numerical equivalent in the data set"
   ]
  },
  {
   "cell_type": "code",
   "execution_count": 21,
   "metadata": {
    "pycharm": {
     "name": "#%%\n"
    }
   },
   "outputs": [
    {
     "data": {
      "text/plain": "     MS.Zoning Street  Lot.Shape Land.Contour  Utilities Lot.Config  \\\n0           RL   Pave          2          Lvl          1     Corner   \n1           RH   Pave          1          Lvl          1     Inside   \n2           RL   Pave          2          Lvl          1     Corner   \n3           RL   Pave          1          Lvl          1     Corner   \n4           RL   Pave          2          Lvl          1     Inside   \n...        ...    ...        ...          ...        ...        ...   \n2922        RL   Pave          2          Lvl          1    CulDSac   \n2923        RL   Pave          2          Low          1     Inside   \n2924        RL   Pave          1          Lvl          1     Inside   \n2925        RL   Pave          1          Lvl          1     Inside   \n2926        RL   Pave          1          Lvl          1     Inside   \n\n      Land.Slope Neighborhood Condition.1 Condition.2  ... Garage.Yr.Blt  \\\n0              1        NAmes        Norm        Norm  ...        1960.0   \n1              1        NAmes       Feedr        Norm  ...        1961.0   \n2              1        NAmes        Norm        Norm  ...        1958.0   \n3              1        NAmes        Norm        Norm  ...        1968.0   \n4              1      Gilbert        Norm        Norm  ...        1997.0   \n...          ...          ...         ...         ...  ...           ...   \n2922           1      Mitchel        Norm        Norm  ...        1984.0   \n2923           2      Mitchel        Norm        Norm  ...        1983.0   \n2924           1      Mitchel        Norm        Norm  ...           0.0   \n2925           2      Mitchel        Norm        Norm  ...        1975.0   \n2926           2      Mitchel        Norm        Norm  ...        1993.0   \n\n     Garage.Finish  Garage.Cars  Garage.Area  Garage.Qual Garage.Cond  \\\n0                3          2.0        528.0            3           3   \n1                1          1.0        730.0            3           3   \n2                1          1.0        312.0            3           3   \n3                3          2.0        522.0            3           3   \n4                3          2.0        482.0            3           3   \n...            ...          ...          ...          ...         ...   \n2922             1          2.0        588.0            3           3   \n2923             1          2.0        484.0            3           3   \n2924             0          0.0          0.0            0           0   \n2925             2          2.0        418.0            3           3   \n2926             3          3.0        650.0            3           3   \n\n     Paved.Drive Sale.Type Sale.Condition SalePrice  \n0              2       WD          Normal    215000  \n1              1       WD          Normal    105000  \n2              1       WD          Normal    172000  \n3              1       WD          Normal    244000  \n4              1       WD          Normal    189900  \n...          ...       ...            ...       ...  \n2922           1       WD          Normal    142500  \n2923           1       WD          Normal    131000  \n2924           1       WD          Normal    132000  \n2925           1       WD          Normal    170000  \n2926           1       WD          Normal    188000  \n\n[2927 rows x 51 columns]",
      "text/html": "<div>\n<style scoped>\n    .dataframe tbody tr th:only-of-type {\n        vertical-align: middle;\n    }\n\n    .dataframe tbody tr th {\n        vertical-align: top;\n    }\n\n    .dataframe thead th {\n        text-align: right;\n    }\n</style>\n<table border=\"1\" class=\"dataframe\">\n  <thead>\n    <tr style=\"text-align: right;\">\n      <th></th>\n      <th>MS.Zoning</th>\n      <th>Street</th>\n      <th>Lot.Shape</th>\n      <th>Land.Contour</th>\n      <th>Utilities</th>\n      <th>Lot.Config</th>\n      <th>Land.Slope</th>\n      <th>Neighborhood</th>\n      <th>Condition.1</th>\n      <th>Condition.2</th>\n      <th>...</th>\n      <th>Garage.Yr.Blt</th>\n      <th>Garage.Finish</th>\n      <th>Garage.Cars</th>\n      <th>Garage.Area</th>\n      <th>Garage.Qual</th>\n      <th>Garage.Cond</th>\n      <th>Paved.Drive</th>\n      <th>Sale.Type</th>\n      <th>Sale.Condition</th>\n      <th>SalePrice</th>\n    </tr>\n  </thead>\n  <tbody>\n    <tr>\n      <th>0</th>\n      <td>RL</td>\n      <td>Pave</td>\n      <td>2</td>\n      <td>Lvl</td>\n      <td>1</td>\n      <td>Corner</td>\n      <td>1</td>\n      <td>NAmes</td>\n      <td>Norm</td>\n      <td>Norm</td>\n      <td>...</td>\n      <td>1960.0</td>\n      <td>3</td>\n      <td>2.0</td>\n      <td>528.0</td>\n      <td>3</td>\n      <td>3</td>\n      <td>2</td>\n      <td>WD</td>\n      <td>Normal</td>\n      <td>215000</td>\n    </tr>\n    <tr>\n      <th>1</th>\n      <td>RH</td>\n      <td>Pave</td>\n      <td>1</td>\n      <td>Lvl</td>\n      <td>1</td>\n      <td>Inside</td>\n      <td>1</td>\n      <td>NAmes</td>\n      <td>Feedr</td>\n      <td>Norm</td>\n      <td>...</td>\n      <td>1961.0</td>\n      <td>1</td>\n      <td>1.0</td>\n      <td>730.0</td>\n      <td>3</td>\n      <td>3</td>\n      <td>1</td>\n      <td>WD</td>\n      <td>Normal</td>\n      <td>105000</td>\n    </tr>\n    <tr>\n      <th>2</th>\n      <td>RL</td>\n      <td>Pave</td>\n      <td>2</td>\n      <td>Lvl</td>\n      <td>1</td>\n      <td>Corner</td>\n      <td>1</td>\n      <td>NAmes</td>\n      <td>Norm</td>\n      <td>Norm</td>\n      <td>...</td>\n      <td>1958.0</td>\n      <td>1</td>\n      <td>1.0</td>\n      <td>312.0</td>\n      <td>3</td>\n      <td>3</td>\n      <td>1</td>\n      <td>WD</td>\n      <td>Normal</td>\n      <td>172000</td>\n    </tr>\n    <tr>\n      <th>3</th>\n      <td>RL</td>\n      <td>Pave</td>\n      <td>1</td>\n      <td>Lvl</td>\n      <td>1</td>\n      <td>Corner</td>\n      <td>1</td>\n      <td>NAmes</td>\n      <td>Norm</td>\n      <td>Norm</td>\n      <td>...</td>\n      <td>1968.0</td>\n      <td>3</td>\n      <td>2.0</td>\n      <td>522.0</td>\n      <td>3</td>\n      <td>3</td>\n      <td>1</td>\n      <td>WD</td>\n      <td>Normal</td>\n      <td>244000</td>\n    </tr>\n    <tr>\n      <th>4</th>\n      <td>RL</td>\n      <td>Pave</td>\n      <td>2</td>\n      <td>Lvl</td>\n      <td>1</td>\n      <td>Inside</td>\n      <td>1</td>\n      <td>Gilbert</td>\n      <td>Norm</td>\n      <td>Norm</td>\n      <td>...</td>\n      <td>1997.0</td>\n      <td>3</td>\n      <td>2.0</td>\n      <td>482.0</td>\n      <td>3</td>\n      <td>3</td>\n      <td>1</td>\n      <td>WD</td>\n      <td>Normal</td>\n      <td>189900</td>\n    </tr>\n    <tr>\n      <th>...</th>\n      <td>...</td>\n      <td>...</td>\n      <td>...</td>\n      <td>...</td>\n      <td>...</td>\n      <td>...</td>\n      <td>...</td>\n      <td>...</td>\n      <td>...</td>\n      <td>...</td>\n      <td>...</td>\n      <td>...</td>\n      <td>...</td>\n      <td>...</td>\n      <td>...</td>\n      <td>...</td>\n      <td>...</td>\n      <td>...</td>\n      <td>...</td>\n      <td>...</td>\n      <td>...</td>\n    </tr>\n    <tr>\n      <th>2922</th>\n      <td>RL</td>\n      <td>Pave</td>\n      <td>2</td>\n      <td>Lvl</td>\n      <td>1</td>\n      <td>CulDSac</td>\n      <td>1</td>\n      <td>Mitchel</td>\n      <td>Norm</td>\n      <td>Norm</td>\n      <td>...</td>\n      <td>1984.0</td>\n      <td>1</td>\n      <td>2.0</td>\n      <td>588.0</td>\n      <td>3</td>\n      <td>3</td>\n      <td>1</td>\n      <td>WD</td>\n      <td>Normal</td>\n      <td>142500</td>\n    </tr>\n    <tr>\n      <th>2923</th>\n      <td>RL</td>\n      <td>Pave</td>\n      <td>2</td>\n      <td>Low</td>\n      <td>1</td>\n      <td>Inside</td>\n      <td>2</td>\n      <td>Mitchel</td>\n      <td>Norm</td>\n      <td>Norm</td>\n      <td>...</td>\n      <td>1983.0</td>\n      <td>1</td>\n      <td>2.0</td>\n      <td>484.0</td>\n      <td>3</td>\n      <td>3</td>\n      <td>1</td>\n      <td>WD</td>\n      <td>Normal</td>\n      <td>131000</td>\n    </tr>\n    <tr>\n      <th>2924</th>\n      <td>RL</td>\n      <td>Pave</td>\n      <td>1</td>\n      <td>Lvl</td>\n      <td>1</td>\n      <td>Inside</td>\n      <td>1</td>\n      <td>Mitchel</td>\n      <td>Norm</td>\n      <td>Norm</td>\n      <td>...</td>\n      <td>0.0</td>\n      <td>0</td>\n      <td>0.0</td>\n      <td>0.0</td>\n      <td>0</td>\n      <td>0</td>\n      <td>1</td>\n      <td>WD</td>\n      <td>Normal</td>\n      <td>132000</td>\n    </tr>\n    <tr>\n      <th>2925</th>\n      <td>RL</td>\n      <td>Pave</td>\n      <td>1</td>\n      <td>Lvl</td>\n      <td>1</td>\n      <td>Inside</td>\n      <td>2</td>\n      <td>Mitchel</td>\n      <td>Norm</td>\n      <td>Norm</td>\n      <td>...</td>\n      <td>1975.0</td>\n      <td>2</td>\n      <td>2.0</td>\n      <td>418.0</td>\n      <td>3</td>\n      <td>3</td>\n      <td>1</td>\n      <td>WD</td>\n      <td>Normal</td>\n      <td>170000</td>\n    </tr>\n    <tr>\n      <th>2926</th>\n      <td>RL</td>\n      <td>Pave</td>\n      <td>1</td>\n      <td>Lvl</td>\n      <td>1</td>\n      <td>Inside</td>\n      <td>2</td>\n      <td>Mitchel</td>\n      <td>Norm</td>\n      <td>Norm</td>\n      <td>...</td>\n      <td>1993.0</td>\n      <td>3</td>\n      <td>3.0</td>\n      <td>650.0</td>\n      <td>3</td>\n      <td>3</td>\n      <td>1</td>\n      <td>WD</td>\n      <td>Normal</td>\n      <td>188000</td>\n    </tr>\n  </tbody>\n</table>\n<p>2927 rows × 51 columns</p>\n</div>"
     },
     "execution_count": 21,
     "metadata": {},
     "output_type": "execute_result"
    }
   ],
   "source": [
    "home_price_df2 = home_price_df.copy()\n",
    "for key, val in ord_features_dict.items():\n",
    "    home_price_df2[key] = home_price_df2[key].map(val)\n",
    "home_price_df2"
   ]
  },
  {
   "cell_type": "markdown",
   "metadata": {
    "pycharm": {
     "name": "#%% md\n"
    }
   },
   "source": [
    "#### Identify and display the nominal features"
   ]
  },
  {
   "cell_type": "code",
   "execution_count": 22,
   "metadata": {
    "pycharm": {
     "name": "#%%\n"
    }
   },
   "outputs": [
    {
     "data": {
      "text/plain": "['Bldg.Type',\n 'Central.Air',\n 'Condition.1',\n 'Condition.2',\n 'Exterior.1st',\n 'Exterior.2nd',\n 'Foundation',\n 'Garage.Type',\n 'Heating',\n 'House.Style',\n 'Kitchen.Qual',\n 'Land.Contour',\n 'Lot.Config',\n 'MS.Zoning',\n 'Mas.Vnr.Type',\n 'Neighborhood',\n 'Roof.Matl',\n 'Roof.Style',\n 'Sale.Condition',\n 'Sale.Type',\n 'Street']"
     },
     "execution_count": 22,
     "metadata": {},
     "output_type": "execute_result"
    }
   ],
   "source": [
    "nom_features = [feat for feat in cat_features if feat not in ord_features_dict.keys()]\n",
    "nom_features"
   ]
  },
  {
   "cell_type": "markdown",
   "metadata": {
    "pycharm": {
     "name": "#%% md\n"
    }
   },
   "source": [
    "#### Create dummy binary variables for each of the nominal features\n",
    "\n",
    "The option `drop_first` allows us to create $k - 1$ dummy binary variables"
   ]
  },
  {
   "cell_type": "code",
   "execution_count": 23,
   "metadata": {
    "pycharm": {
     "name": "#%%\n"
    }
   },
   "outputs": [
    {
     "data": {
      "text/plain": "      Bldg.Type.2fmCon  Bldg.Type.Duplex  Bldg.Type.Twnhs  Bldg.Type.TwnhsE  \\\n0                    0                 0                0                 0   \n1                    0                 0                0                 0   \n2                    0                 0                0                 0   \n3                    0                 0                0                 0   \n4                    0                 0                0                 0   \n...                ...               ...              ...               ...   \n2922                 0                 0                0                 0   \n2923                 0                 0                0                 0   \n2924                 0                 0                0                 0   \n2925                 0                 0                0                 0   \n2926                 0                 0                0                 0   \n\n      Central.Air.Y  Condition.1.Feedr  Condition.1.Norm  Condition.1.PosA  \\\n0                 1                  0                 1                 0   \n1                 1                  1                 0                 0   \n2                 1                  0                 1                 0   \n3                 1                  0                 1                 0   \n4                 1                  0                 1                 0   \n...             ...                ...               ...               ...   \n2922              1                  0                 1                 0   \n2923              1                  0                 1                 0   \n2924              1                  0                 1                 0   \n2925              1                  0                 1                 0   \n2926              1                  0                 1                 0   \n\n      Condition.1.PosN  Condition.1.RRAe  ...  Sale.Type.CWD  Sale.Type.Con  \\\n0                    0                 0  ...              0              0   \n1                    0                 0  ...              0              0   \n2                    0                 0  ...              0              0   \n3                    0                 0  ...              0              0   \n4                    0                 0  ...              0              0   \n...                ...               ...  ...            ...            ...   \n2922                 0                 0  ...              0              0   \n2923                 0                 0  ...              0              0   \n2924                 0                 0  ...              0              0   \n2925                 0                 0  ...              0              0   \n2926                 0                 0  ...              0              0   \n\n      Sale.Type.ConLD  Sale.Type.ConLI  Sale.Type.ConLw  Sale.Type.New  \\\n0                   0                0                0              0   \n1                   0                0                0              0   \n2                   0                0                0              0   \n3                   0                0                0              0   \n4                   0                0                0              0   \n...               ...              ...              ...            ...   \n2922                0                0                0              0   \n2923                0                0                0              0   \n2924                0                0                0              0   \n2925                0                0                0              0   \n2926                0                0                0              0   \n\n      Sale.Type.Oth  Sale.Type.VWD  Sale.Type.WD   Street.Pave  \n0                 0              0              1            1  \n1                 0              0              1            1  \n2                 0              0              1            1  \n3                 0              0              1            1  \n4                 0              0              1            1  \n...             ...            ...            ...          ...  \n2922              0              0              1            1  \n2923              0              0              1            1  \n2924              0              0              1            1  \n2925              0              0              1            1  \n2926              0              0              1            1  \n\n[2927 rows x 149 columns]",
      "text/html": "<div>\n<style scoped>\n    .dataframe tbody tr th:only-of-type {\n        vertical-align: middle;\n    }\n\n    .dataframe tbody tr th {\n        vertical-align: top;\n    }\n\n    .dataframe thead th {\n        text-align: right;\n    }\n</style>\n<table border=\"1\" class=\"dataframe\">\n  <thead>\n    <tr style=\"text-align: right;\">\n      <th></th>\n      <th>Bldg.Type.2fmCon</th>\n      <th>Bldg.Type.Duplex</th>\n      <th>Bldg.Type.Twnhs</th>\n      <th>Bldg.Type.TwnhsE</th>\n      <th>Central.Air.Y</th>\n      <th>Condition.1.Feedr</th>\n      <th>Condition.1.Norm</th>\n      <th>Condition.1.PosA</th>\n      <th>Condition.1.PosN</th>\n      <th>Condition.1.RRAe</th>\n      <th>...</th>\n      <th>Sale.Type.CWD</th>\n      <th>Sale.Type.Con</th>\n      <th>Sale.Type.ConLD</th>\n      <th>Sale.Type.ConLI</th>\n      <th>Sale.Type.ConLw</th>\n      <th>Sale.Type.New</th>\n      <th>Sale.Type.Oth</th>\n      <th>Sale.Type.VWD</th>\n      <th>Sale.Type.WD</th>\n      <th>Street.Pave</th>\n    </tr>\n  </thead>\n  <tbody>\n    <tr>\n      <th>0</th>\n      <td>0</td>\n      <td>0</td>\n      <td>0</td>\n      <td>0</td>\n      <td>1</td>\n      <td>0</td>\n      <td>1</td>\n      <td>0</td>\n      <td>0</td>\n      <td>0</td>\n      <td>...</td>\n      <td>0</td>\n      <td>0</td>\n      <td>0</td>\n      <td>0</td>\n      <td>0</td>\n      <td>0</td>\n      <td>0</td>\n      <td>0</td>\n      <td>1</td>\n      <td>1</td>\n    </tr>\n    <tr>\n      <th>1</th>\n      <td>0</td>\n      <td>0</td>\n      <td>0</td>\n      <td>0</td>\n      <td>1</td>\n      <td>1</td>\n      <td>0</td>\n      <td>0</td>\n      <td>0</td>\n      <td>0</td>\n      <td>...</td>\n      <td>0</td>\n      <td>0</td>\n      <td>0</td>\n      <td>0</td>\n      <td>0</td>\n      <td>0</td>\n      <td>0</td>\n      <td>0</td>\n      <td>1</td>\n      <td>1</td>\n    </tr>\n    <tr>\n      <th>2</th>\n      <td>0</td>\n      <td>0</td>\n      <td>0</td>\n      <td>0</td>\n      <td>1</td>\n      <td>0</td>\n      <td>1</td>\n      <td>0</td>\n      <td>0</td>\n      <td>0</td>\n      <td>...</td>\n      <td>0</td>\n      <td>0</td>\n      <td>0</td>\n      <td>0</td>\n      <td>0</td>\n      <td>0</td>\n      <td>0</td>\n      <td>0</td>\n      <td>1</td>\n      <td>1</td>\n    </tr>\n    <tr>\n      <th>3</th>\n      <td>0</td>\n      <td>0</td>\n      <td>0</td>\n      <td>0</td>\n      <td>1</td>\n      <td>0</td>\n      <td>1</td>\n      <td>0</td>\n      <td>0</td>\n      <td>0</td>\n      <td>...</td>\n      <td>0</td>\n      <td>0</td>\n      <td>0</td>\n      <td>0</td>\n      <td>0</td>\n      <td>0</td>\n      <td>0</td>\n      <td>0</td>\n      <td>1</td>\n      <td>1</td>\n    </tr>\n    <tr>\n      <th>4</th>\n      <td>0</td>\n      <td>0</td>\n      <td>0</td>\n      <td>0</td>\n      <td>1</td>\n      <td>0</td>\n      <td>1</td>\n      <td>0</td>\n      <td>0</td>\n      <td>0</td>\n      <td>...</td>\n      <td>0</td>\n      <td>0</td>\n      <td>0</td>\n      <td>0</td>\n      <td>0</td>\n      <td>0</td>\n      <td>0</td>\n      <td>0</td>\n      <td>1</td>\n      <td>1</td>\n    </tr>\n    <tr>\n      <th>...</th>\n      <td>...</td>\n      <td>...</td>\n      <td>...</td>\n      <td>...</td>\n      <td>...</td>\n      <td>...</td>\n      <td>...</td>\n      <td>...</td>\n      <td>...</td>\n      <td>...</td>\n      <td>...</td>\n      <td>...</td>\n      <td>...</td>\n      <td>...</td>\n      <td>...</td>\n      <td>...</td>\n      <td>...</td>\n      <td>...</td>\n      <td>...</td>\n      <td>...</td>\n      <td>...</td>\n    </tr>\n    <tr>\n      <th>2922</th>\n      <td>0</td>\n      <td>0</td>\n      <td>0</td>\n      <td>0</td>\n      <td>1</td>\n      <td>0</td>\n      <td>1</td>\n      <td>0</td>\n      <td>0</td>\n      <td>0</td>\n      <td>...</td>\n      <td>0</td>\n      <td>0</td>\n      <td>0</td>\n      <td>0</td>\n      <td>0</td>\n      <td>0</td>\n      <td>0</td>\n      <td>0</td>\n      <td>1</td>\n      <td>1</td>\n    </tr>\n    <tr>\n      <th>2923</th>\n      <td>0</td>\n      <td>0</td>\n      <td>0</td>\n      <td>0</td>\n      <td>1</td>\n      <td>0</td>\n      <td>1</td>\n      <td>0</td>\n      <td>0</td>\n      <td>0</td>\n      <td>...</td>\n      <td>0</td>\n      <td>0</td>\n      <td>0</td>\n      <td>0</td>\n      <td>0</td>\n      <td>0</td>\n      <td>0</td>\n      <td>0</td>\n      <td>1</td>\n      <td>1</td>\n    </tr>\n    <tr>\n      <th>2924</th>\n      <td>0</td>\n      <td>0</td>\n      <td>0</td>\n      <td>0</td>\n      <td>1</td>\n      <td>0</td>\n      <td>1</td>\n      <td>0</td>\n      <td>0</td>\n      <td>0</td>\n      <td>...</td>\n      <td>0</td>\n      <td>0</td>\n      <td>0</td>\n      <td>0</td>\n      <td>0</td>\n      <td>0</td>\n      <td>0</td>\n      <td>0</td>\n      <td>1</td>\n      <td>1</td>\n    </tr>\n    <tr>\n      <th>2925</th>\n      <td>0</td>\n      <td>0</td>\n      <td>0</td>\n      <td>0</td>\n      <td>1</td>\n      <td>0</td>\n      <td>1</td>\n      <td>0</td>\n      <td>0</td>\n      <td>0</td>\n      <td>...</td>\n      <td>0</td>\n      <td>0</td>\n      <td>0</td>\n      <td>0</td>\n      <td>0</td>\n      <td>0</td>\n      <td>0</td>\n      <td>0</td>\n      <td>1</td>\n      <td>1</td>\n    </tr>\n    <tr>\n      <th>2926</th>\n      <td>0</td>\n      <td>0</td>\n      <td>0</td>\n      <td>0</td>\n      <td>1</td>\n      <td>0</td>\n      <td>1</td>\n      <td>0</td>\n      <td>0</td>\n      <td>0</td>\n      <td>...</td>\n      <td>0</td>\n      <td>0</td>\n      <td>0</td>\n      <td>0</td>\n      <td>0</td>\n      <td>0</td>\n      <td>0</td>\n      <td>0</td>\n      <td>1</td>\n      <td>1</td>\n    </tr>\n  </tbody>\n</table>\n<p>2927 rows × 149 columns</p>\n</div>"
     },
     "execution_count": 23,
     "metadata": {},
     "output_type": "execute_result"
    }
   ],
   "source": [
    "nom_encoded_df = pd.get_dummies(home_price_df[nom_features], prefix_sep='.', drop_first=True, sparse=False)\n",
    "nom_encoded_df"
   ]
  },
  {
   "cell_type": "markdown",
   "metadata": {
    "pycharm": {
     "name": "#%% md\n"
    }
   },
   "source": [
    "#### Drop the nominal features from the data set"
   ]
  },
  {
   "cell_type": "code",
   "execution_count": 24,
   "metadata": {
    "pycharm": {
     "name": "#%%\n"
    }
   },
   "outputs": [
    {
     "data": {
      "text/plain": "      Lot.Shape  Utilities  Land.Slope  Overall.Qual  Year.Built  \\\n0             2          1           1             6        1960   \n1             1          1           1             5        1961   \n2             2          1           1             6        1958   \n3             1          1           1             7        1968   \n4             2          1           1             5        1997   \n...         ...        ...         ...           ...         ...   \n2922          2          1           1             6        1984   \n2923          2          1           2             5        1983   \n2924          1          1           1             5        1992   \n2925          1          1           2             5        1974   \n2926          1          1           2             7        1993   \n\n      Year.Remod.Add  Mas.Vnr.Area  Exter.Qual  Exter.Cond  Bsmt.Qual  ...  \\\n0               1960         112.0           3           3          3  ...   \n1               1961           0.0           3           3          3  ...   \n2               1958         108.0           3           3          3  ...   \n3               1968           0.0           4           3          3  ...   \n4               1998           0.0           3           3          4  ...   \n...              ...           ...         ...         ...        ...  ...   \n2922            1984           0.0           3           3          3  ...   \n2923            1983           0.0           3           3          4  ...   \n2924            1992           0.0           3           3          4  ...   \n2925            1975           0.0           3           3          4  ...   \n2926            1994          94.0           3           3          4  ...   \n\n      Functional  Fireplace.Qu  Garage.Yr.Blt  Garage.Finish  Garage.Cars  \\\n0              7             4         1960.0              3          2.0   \n1              7             0         1961.0              1          1.0   \n2              7             0         1958.0              1          1.0   \n3              7             3         1968.0              3          2.0   \n4              7             3         1997.0              3          2.0   \n...          ...           ...            ...            ...          ...   \n2922           7             0         1984.0              1          2.0   \n2923           7             0         1983.0              1          2.0   \n2924           7             0            0.0              0          0.0   \n2925           7             3         1975.0              2          2.0   \n2926           7             3         1993.0              3          3.0   \n\n      Garage.Area  Garage.Qual  Garage.Cond  Paved.Drive  SalePrice  \n0           528.0            3            3            2     215000  \n1           730.0            3            3            1     105000  \n2           312.0            3            3            1     172000  \n3           522.0            3            3            1     244000  \n4           482.0            3            3            1     189900  \n...           ...          ...          ...          ...        ...  \n2922        588.0            3            3            1     142500  \n2923        484.0            3            3            1     131000  \n2924          0.0            0            0            1     132000  \n2925        418.0            3            3            1     170000  \n2926        650.0            3            3            1     188000  \n\n[2927 rows x 30 columns]",
      "text/html": "<div>\n<style scoped>\n    .dataframe tbody tr th:only-of-type {\n        vertical-align: middle;\n    }\n\n    .dataframe tbody tr th {\n        vertical-align: top;\n    }\n\n    .dataframe thead th {\n        text-align: right;\n    }\n</style>\n<table border=\"1\" class=\"dataframe\">\n  <thead>\n    <tr style=\"text-align: right;\">\n      <th></th>\n      <th>Lot.Shape</th>\n      <th>Utilities</th>\n      <th>Land.Slope</th>\n      <th>Overall.Qual</th>\n      <th>Year.Built</th>\n      <th>Year.Remod.Add</th>\n      <th>Mas.Vnr.Area</th>\n      <th>Exter.Qual</th>\n      <th>Exter.Cond</th>\n      <th>Bsmt.Qual</th>\n      <th>...</th>\n      <th>Functional</th>\n      <th>Fireplace.Qu</th>\n      <th>Garage.Yr.Blt</th>\n      <th>Garage.Finish</th>\n      <th>Garage.Cars</th>\n      <th>Garage.Area</th>\n      <th>Garage.Qual</th>\n      <th>Garage.Cond</th>\n      <th>Paved.Drive</th>\n      <th>SalePrice</th>\n    </tr>\n  </thead>\n  <tbody>\n    <tr>\n      <th>0</th>\n      <td>2</td>\n      <td>1</td>\n      <td>1</td>\n      <td>6</td>\n      <td>1960</td>\n      <td>1960</td>\n      <td>112.0</td>\n      <td>3</td>\n      <td>3</td>\n      <td>3</td>\n      <td>...</td>\n      <td>7</td>\n      <td>4</td>\n      <td>1960.0</td>\n      <td>3</td>\n      <td>2.0</td>\n      <td>528.0</td>\n      <td>3</td>\n      <td>3</td>\n      <td>2</td>\n      <td>215000</td>\n    </tr>\n    <tr>\n      <th>1</th>\n      <td>1</td>\n      <td>1</td>\n      <td>1</td>\n      <td>5</td>\n      <td>1961</td>\n      <td>1961</td>\n      <td>0.0</td>\n      <td>3</td>\n      <td>3</td>\n      <td>3</td>\n      <td>...</td>\n      <td>7</td>\n      <td>0</td>\n      <td>1961.0</td>\n      <td>1</td>\n      <td>1.0</td>\n      <td>730.0</td>\n      <td>3</td>\n      <td>3</td>\n      <td>1</td>\n      <td>105000</td>\n    </tr>\n    <tr>\n      <th>2</th>\n      <td>2</td>\n      <td>1</td>\n      <td>1</td>\n      <td>6</td>\n      <td>1958</td>\n      <td>1958</td>\n      <td>108.0</td>\n      <td>3</td>\n      <td>3</td>\n      <td>3</td>\n      <td>...</td>\n      <td>7</td>\n      <td>0</td>\n      <td>1958.0</td>\n      <td>1</td>\n      <td>1.0</td>\n      <td>312.0</td>\n      <td>3</td>\n      <td>3</td>\n      <td>1</td>\n      <td>172000</td>\n    </tr>\n    <tr>\n      <th>3</th>\n      <td>1</td>\n      <td>1</td>\n      <td>1</td>\n      <td>7</td>\n      <td>1968</td>\n      <td>1968</td>\n      <td>0.0</td>\n      <td>4</td>\n      <td>3</td>\n      <td>3</td>\n      <td>...</td>\n      <td>7</td>\n      <td>3</td>\n      <td>1968.0</td>\n      <td>3</td>\n      <td>2.0</td>\n      <td>522.0</td>\n      <td>3</td>\n      <td>3</td>\n      <td>1</td>\n      <td>244000</td>\n    </tr>\n    <tr>\n      <th>4</th>\n      <td>2</td>\n      <td>1</td>\n      <td>1</td>\n      <td>5</td>\n      <td>1997</td>\n      <td>1998</td>\n      <td>0.0</td>\n      <td>3</td>\n      <td>3</td>\n      <td>4</td>\n      <td>...</td>\n      <td>7</td>\n      <td>3</td>\n      <td>1997.0</td>\n      <td>3</td>\n      <td>2.0</td>\n      <td>482.0</td>\n      <td>3</td>\n      <td>3</td>\n      <td>1</td>\n      <td>189900</td>\n    </tr>\n    <tr>\n      <th>...</th>\n      <td>...</td>\n      <td>...</td>\n      <td>...</td>\n      <td>...</td>\n      <td>...</td>\n      <td>...</td>\n      <td>...</td>\n      <td>...</td>\n      <td>...</td>\n      <td>...</td>\n      <td>...</td>\n      <td>...</td>\n      <td>...</td>\n      <td>...</td>\n      <td>...</td>\n      <td>...</td>\n      <td>...</td>\n      <td>...</td>\n      <td>...</td>\n      <td>...</td>\n      <td>...</td>\n    </tr>\n    <tr>\n      <th>2922</th>\n      <td>2</td>\n      <td>1</td>\n      <td>1</td>\n      <td>6</td>\n      <td>1984</td>\n      <td>1984</td>\n      <td>0.0</td>\n      <td>3</td>\n      <td>3</td>\n      <td>3</td>\n      <td>...</td>\n      <td>7</td>\n      <td>0</td>\n      <td>1984.0</td>\n      <td>1</td>\n      <td>2.0</td>\n      <td>588.0</td>\n      <td>3</td>\n      <td>3</td>\n      <td>1</td>\n      <td>142500</td>\n    </tr>\n    <tr>\n      <th>2923</th>\n      <td>2</td>\n      <td>1</td>\n      <td>2</td>\n      <td>5</td>\n      <td>1983</td>\n      <td>1983</td>\n      <td>0.0</td>\n      <td>3</td>\n      <td>3</td>\n      <td>4</td>\n      <td>...</td>\n      <td>7</td>\n      <td>0</td>\n      <td>1983.0</td>\n      <td>1</td>\n      <td>2.0</td>\n      <td>484.0</td>\n      <td>3</td>\n      <td>3</td>\n      <td>1</td>\n      <td>131000</td>\n    </tr>\n    <tr>\n      <th>2924</th>\n      <td>1</td>\n      <td>1</td>\n      <td>1</td>\n      <td>5</td>\n      <td>1992</td>\n      <td>1992</td>\n      <td>0.0</td>\n      <td>3</td>\n      <td>3</td>\n      <td>4</td>\n      <td>...</td>\n      <td>7</td>\n      <td>0</td>\n      <td>0.0</td>\n      <td>0</td>\n      <td>0.0</td>\n      <td>0.0</td>\n      <td>0</td>\n      <td>0</td>\n      <td>1</td>\n      <td>132000</td>\n    </tr>\n    <tr>\n      <th>2925</th>\n      <td>1</td>\n      <td>1</td>\n      <td>2</td>\n      <td>5</td>\n      <td>1974</td>\n      <td>1975</td>\n      <td>0.0</td>\n      <td>3</td>\n      <td>3</td>\n      <td>4</td>\n      <td>...</td>\n      <td>7</td>\n      <td>3</td>\n      <td>1975.0</td>\n      <td>2</td>\n      <td>2.0</td>\n      <td>418.0</td>\n      <td>3</td>\n      <td>3</td>\n      <td>1</td>\n      <td>170000</td>\n    </tr>\n    <tr>\n      <th>2926</th>\n      <td>1</td>\n      <td>1</td>\n      <td>2</td>\n      <td>7</td>\n      <td>1993</td>\n      <td>1994</td>\n      <td>94.0</td>\n      <td>3</td>\n      <td>3</td>\n      <td>4</td>\n      <td>...</td>\n      <td>7</td>\n      <td>3</td>\n      <td>1993.0</td>\n      <td>3</td>\n      <td>3.0</td>\n      <td>650.0</td>\n      <td>3</td>\n      <td>3</td>\n      <td>1</td>\n      <td>188000</td>\n    </tr>\n  </tbody>\n</table>\n<p>2927 rows × 30 columns</p>\n</div>"
     },
     "execution_count": 24,
     "metadata": {},
     "output_type": "execute_result"
    }
   ],
   "source": [
    "nom_dropped_df = home_price_df2.drop(home_price_df2[nom_features], axis=1)\n",
    "nom_dropped_df"
   ]
  },
  {
   "cell_type": "markdown",
   "metadata": {
    "pycharm": {
     "name": "#%% md\n"
    }
   },
   "source": [
    "#### Create a new data set with the dummy binary variables"
   ]
  },
  {
   "cell_type": "code",
   "execution_count": 25,
   "metadata": {
    "pycharm": {
     "name": "#%%\n"
    }
   },
   "outputs": [
    {
     "data": {
      "text/plain": "      Lot.Shape  Utilities  Land.Slope  Overall.Qual  Year.Built  \\\n0             2          1           1             6        1960   \n1             1          1           1             5        1961   \n2             2          1           1             6        1958   \n3             1          1           1             7        1968   \n4             2          1           1             5        1997   \n...         ...        ...         ...           ...         ...   \n2922          2          1           1             6        1984   \n2923          2          1           2             5        1983   \n2924          1          1           1             5        1992   \n2925          1          1           2             5        1974   \n2926          1          1           2             7        1993   \n\n      Year.Remod.Add  Mas.Vnr.Area  Exter.Qual  Exter.Cond  Bsmt.Qual  ...  \\\n0               1960         112.0           3           3          3  ...   \n1               1961           0.0           3           3          3  ...   \n2               1958         108.0           3           3          3  ...   \n3               1968           0.0           4           3          3  ...   \n4               1998           0.0           3           3          4  ...   \n...              ...           ...         ...         ...        ...  ...   \n2922            1984           0.0           3           3          3  ...   \n2923            1983           0.0           3           3          4  ...   \n2924            1992           0.0           3           3          4  ...   \n2925            1975           0.0           3           3          4  ...   \n2926            1994          94.0           3           3          4  ...   \n\n      Sale.Type.CWD  Sale.Type.Con  Sale.Type.ConLD  Sale.Type.ConLI  \\\n0                 0              0                0                0   \n1                 0              0                0                0   \n2                 0              0                0                0   \n3                 0              0                0                0   \n4                 0              0                0                0   \n...             ...            ...              ...              ...   \n2922              0              0                0                0   \n2923              0              0                0                0   \n2924              0              0                0                0   \n2925              0              0                0                0   \n2926              0              0                0                0   \n\n      Sale.Type.ConLw  Sale.Type.New  Sale.Type.Oth  Sale.Type.VWD  \\\n0                   0              0              0              0   \n1                   0              0              0              0   \n2                   0              0              0              0   \n3                   0              0              0              0   \n4                   0              0              0              0   \n...               ...            ...            ...            ...   \n2922                0              0              0              0   \n2923                0              0              0              0   \n2924                0              0              0              0   \n2925                0              0              0              0   \n2926                0              0              0              0   \n\n      Sale.Type.WD   Street.Pave  \n0                 1            1  \n1                 1            1  \n2                 1            1  \n3                 1            1  \n4                 1            1  \n...             ...          ...  \n2922              1            1  \n2923              1            1  \n2924              1            1  \n2925              1            1  \n2926              1            1  \n\n[2927 rows x 179 columns]",
      "text/html": "<div>\n<style scoped>\n    .dataframe tbody tr th:only-of-type {\n        vertical-align: middle;\n    }\n\n    .dataframe tbody tr th {\n        vertical-align: top;\n    }\n\n    .dataframe thead th {\n        text-align: right;\n    }\n</style>\n<table border=\"1\" class=\"dataframe\">\n  <thead>\n    <tr style=\"text-align: right;\">\n      <th></th>\n      <th>Lot.Shape</th>\n      <th>Utilities</th>\n      <th>Land.Slope</th>\n      <th>Overall.Qual</th>\n      <th>Year.Built</th>\n      <th>Year.Remod.Add</th>\n      <th>Mas.Vnr.Area</th>\n      <th>Exter.Qual</th>\n      <th>Exter.Cond</th>\n      <th>Bsmt.Qual</th>\n      <th>...</th>\n      <th>Sale.Type.CWD</th>\n      <th>Sale.Type.Con</th>\n      <th>Sale.Type.ConLD</th>\n      <th>Sale.Type.ConLI</th>\n      <th>Sale.Type.ConLw</th>\n      <th>Sale.Type.New</th>\n      <th>Sale.Type.Oth</th>\n      <th>Sale.Type.VWD</th>\n      <th>Sale.Type.WD</th>\n      <th>Street.Pave</th>\n    </tr>\n  </thead>\n  <tbody>\n    <tr>\n      <th>0</th>\n      <td>2</td>\n      <td>1</td>\n      <td>1</td>\n      <td>6</td>\n      <td>1960</td>\n      <td>1960</td>\n      <td>112.0</td>\n      <td>3</td>\n      <td>3</td>\n      <td>3</td>\n      <td>...</td>\n      <td>0</td>\n      <td>0</td>\n      <td>0</td>\n      <td>0</td>\n      <td>0</td>\n      <td>0</td>\n      <td>0</td>\n      <td>0</td>\n      <td>1</td>\n      <td>1</td>\n    </tr>\n    <tr>\n      <th>1</th>\n      <td>1</td>\n      <td>1</td>\n      <td>1</td>\n      <td>5</td>\n      <td>1961</td>\n      <td>1961</td>\n      <td>0.0</td>\n      <td>3</td>\n      <td>3</td>\n      <td>3</td>\n      <td>...</td>\n      <td>0</td>\n      <td>0</td>\n      <td>0</td>\n      <td>0</td>\n      <td>0</td>\n      <td>0</td>\n      <td>0</td>\n      <td>0</td>\n      <td>1</td>\n      <td>1</td>\n    </tr>\n    <tr>\n      <th>2</th>\n      <td>2</td>\n      <td>1</td>\n      <td>1</td>\n      <td>6</td>\n      <td>1958</td>\n      <td>1958</td>\n      <td>108.0</td>\n      <td>3</td>\n      <td>3</td>\n      <td>3</td>\n      <td>...</td>\n      <td>0</td>\n      <td>0</td>\n      <td>0</td>\n      <td>0</td>\n      <td>0</td>\n      <td>0</td>\n      <td>0</td>\n      <td>0</td>\n      <td>1</td>\n      <td>1</td>\n    </tr>\n    <tr>\n      <th>3</th>\n      <td>1</td>\n      <td>1</td>\n      <td>1</td>\n      <td>7</td>\n      <td>1968</td>\n      <td>1968</td>\n      <td>0.0</td>\n      <td>4</td>\n      <td>3</td>\n      <td>3</td>\n      <td>...</td>\n      <td>0</td>\n      <td>0</td>\n      <td>0</td>\n      <td>0</td>\n      <td>0</td>\n      <td>0</td>\n      <td>0</td>\n      <td>0</td>\n      <td>1</td>\n      <td>1</td>\n    </tr>\n    <tr>\n      <th>4</th>\n      <td>2</td>\n      <td>1</td>\n      <td>1</td>\n      <td>5</td>\n      <td>1997</td>\n      <td>1998</td>\n      <td>0.0</td>\n      <td>3</td>\n      <td>3</td>\n      <td>4</td>\n      <td>...</td>\n      <td>0</td>\n      <td>0</td>\n      <td>0</td>\n      <td>0</td>\n      <td>0</td>\n      <td>0</td>\n      <td>0</td>\n      <td>0</td>\n      <td>1</td>\n      <td>1</td>\n    </tr>\n    <tr>\n      <th>...</th>\n      <td>...</td>\n      <td>...</td>\n      <td>...</td>\n      <td>...</td>\n      <td>...</td>\n      <td>...</td>\n      <td>...</td>\n      <td>...</td>\n      <td>...</td>\n      <td>...</td>\n      <td>...</td>\n      <td>...</td>\n      <td>...</td>\n      <td>...</td>\n      <td>...</td>\n      <td>...</td>\n      <td>...</td>\n      <td>...</td>\n      <td>...</td>\n      <td>...</td>\n      <td>...</td>\n    </tr>\n    <tr>\n      <th>2922</th>\n      <td>2</td>\n      <td>1</td>\n      <td>1</td>\n      <td>6</td>\n      <td>1984</td>\n      <td>1984</td>\n      <td>0.0</td>\n      <td>3</td>\n      <td>3</td>\n      <td>3</td>\n      <td>...</td>\n      <td>0</td>\n      <td>0</td>\n      <td>0</td>\n      <td>0</td>\n      <td>0</td>\n      <td>0</td>\n      <td>0</td>\n      <td>0</td>\n      <td>1</td>\n      <td>1</td>\n    </tr>\n    <tr>\n      <th>2923</th>\n      <td>2</td>\n      <td>1</td>\n      <td>2</td>\n      <td>5</td>\n      <td>1983</td>\n      <td>1983</td>\n      <td>0.0</td>\n      <td>3</td>\n      <td>3</td>\n      <td>4</td>\n      <td>...</td>\n      <td>0</td>\n      <td>0</td>\n      <td>0</td>\n      <td>0</td>\n      <td>0</td>\n      <td>0</td>\n      <td>0</td>\n      <td>0</td>\n      <td>1</td>\n      <td>1</td>\n    </tr>\n    <tr>\n      <th>2924</th>\n      <td>1</td>\n      <td>1</td>\n      <td>1</td>\n      <td>5</td>\n      <td>1992</td>\n      <td>1992</td>\n      <td>0.0</td>\n      <td>3</td>\n      <td>3</td>\n      <td>4</td>\n      <td>...</td>\n      <td>0</td>\n      <td>0</td>\n      <td>0</td>\n      <td>0</td>\n      <td>0</td>\n      <td>0</td>\n      <td>0</td>\n      <td>0</td>\n      <td>1</td>\n      <td>1</td>\n    </tr>\n    <tr>\n      <th>2925</th>\n      <td>1</td>\n      <td>1</td>\n      <td>2</td>\n      <td>5</td>\n      <td>1974</td>\n      <td>1975</td>\n      <td>0.0</td>\n      <td>3</td>\n      <td>3</td>\n      <td>4</td>\n      <td>...</td>\n      <td>0</td>\n      <td>0</td>\n      <td>0</td>\n      <td>0</td>\n      <td>0</td>\n      <td>0</td>\n      <td>0</td>\n      <td>0</td>\n      <td>1</td>\n      <td>1</td>\n    </tr>\n    <tr>\n      <th>2926</th>\n      <td>1</td>\n      <td>1</td>\n      <td>2</td>\n      <td>7</td>\n      <td>1993</td>\n      <td>1994</td>\n      <td>94.0</td>\n      <td>3</td>\n      <td>3</td>\n      <td>4</td>\n      <td>...</td>\n      <td>0</td>\n      <td>0</td>\n      <td>0</td>\n      <td>0</td>\n      <td>0</td>\n      <td>0</td>\n      <td>0</td>\n      <td>0</td>\n      <td>1</td>\n      <td>1</td>\n    </tr>\n  </tbody>\n</table>\n<p>2927 rows × 179 columns</p>\n</div>"
     },
     "execution_count": 25,
     "metadata": {},
     "output_type": "execute_result"
    }
   ],
   "source": [
    "home_price_df3 = pd.concat([nom_dropped_df, nom_encoded_df], axis=1)\n",
    "home_price_df3"
   ]
  },
  {
   "cell_type": "markdown",
   "source": [
    "#### Display the shape (rows, columns) of the transformed and merged data set"
   ],
   "metadata": {
    "collapsed": false,
    "pycharm": {
     "name": "#%% md\n"
    }
   }
  },
  {
   "cell_type": "code",
   "execution_count": 26,
   "outputs": [
    {
     "data": {
      "text/plain": "(2927, 179)"
     },
     "execution_count": 26,
     "metadata": {},
     "output_type": "execute_result"
    }
   ],
   "source": [
    "home_price_df3.shape"
   ],
   "metadata": {
    "collapsed": false,
    "pycharm": {
     "name": "#%%\n"
    }
   }
  },
  {
   "cell_type": "markdown",
   "metadata": {
    "pycharm": {
     "name": "#%% md\n"
    }
   },
   "source": [
    "#### Scale the feature values using the standard scaler"
   ]
  },
  {
   "cell_type": "code",
   "execution_count": 27,
   "metadata": {
    "pycharm": {
     "name": "#%%\n"
    }
   },
   "outputs": [],
   "source": [
    "scaler = StandardScaler()\n",
    "home_price_df3_f = pd.DataFrame(scaler.fit_transform(home_price_df3), columns=home_price_df3.columns, index=home_price_df3.index)"
   ]
  },
  {
   "cell_type": "markdown",
   "metadata": {
    "pycharm": {
     "name": "#%% md\n"
    }
   },
   "source": [
    "#### Identify and display only those features that have a strong correlation to the target feature (SalePrice)"
   ]
  },
  {
   "cell_type": "code",
   "execution_count": 28,
   "outputs": [
    {
     "data": {
      "text/plain": "Overall.Qual        0.799182\nYear.Built          0.558529\nYear.Remod.Add      0.532973\nMas.Vnr.Area        0.502081\nExter.Qual          0.697926\nBsmt.Qual           0.607756\nTotal.Bsmt.SF       0.632425\nX1st.Flr.SF         0.621638\nFull.Bath           0.545682\nFireplace.Qu        0.533719\nGarage.Finish       0.550335\nGarage.Cars         0.647761\nGarage.Area         0.640272\nSalePrice           1.000000\nFoundation.PConc    0.521850\nKitchen.Qual.TA    -0.526918\nName: SalePrice, dtype: float64"
     },
     "execution_count": 28,
     "metadata": {},
     "output_type": "execute_result"
    }
   ],
   "source": [
    "sale_price = home_price_df3_f.corr()['SalePrice']\n",
    "sale_price[(sale_price >= 0.5) | (sale_price <= -0.5)]"
   ],
   "metadata": {
    "collapsed": false,
    "pycharm": {
     "name": "#%%\n"
    }
   }
  },
  {
   "cell_type": "markdown",
   "source": [
    "#### Save the cleansed and encoded data set to a csv file"
   ],
   "metadata": {
    "collapsed": false,
    "pycharm": {
     "name": "#%% md\n"
    }
   }
  },
  {
   "cell_type": "code",
   "execution_count": 29,
   "outputs": [],
   "source": [
    "home_price_df3.to_csv('./data/ames-imputed-encoded.csv', index=False)"
   ],
   "metadata": {
    "collapsed": false,
    "pycharm": {
     "name": "#%%\n"
    }
   }
  }
 ],
 "metadata": {
  "kernelspec": {
   "display_name": "Python 3 (ipykernel)",
   "language": "python",
   "name": "python3"
  },
  "language_info": {
   "codemirror_mode": {
    "name": "ipython",
    "version": 3
   },
   "file_extension": ".py",
   "mimetype": "text/x-python",
   "name": "python",
   "nbconvert_exporter": "python",
   "pygments_lexer": "ipython3",
   "version": "3.8.10"
  }
 },
 "nbformat": 4,
 "nbformat_minor": 1
}